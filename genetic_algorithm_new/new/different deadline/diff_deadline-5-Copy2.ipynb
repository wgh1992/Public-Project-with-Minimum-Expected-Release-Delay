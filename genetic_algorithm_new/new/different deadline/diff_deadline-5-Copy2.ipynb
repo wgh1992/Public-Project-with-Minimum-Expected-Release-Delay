{
 "cells": [
  {
   "cell_type": "code",
   "execution_count": 1,
   "metadata": {
    "ExecuteTime": {
     "end_time": "2021-05-14T05:08:08.495087Z",
     "start_time": "2021-05-14T05:08:00.784925Z"
    }
   },
   "outputs": [
    {
     "name": "stderr",
     "output_type": "stream",
     "text": [
      "D:\\ComputerSoftwares\\Anaconda\\lib\\site-packages\\sklearn\\utils\\deprecation.py:143: FutureWarning: The sklearn.datasets.samples_generator module is  deprecated in version 0.22 and will be removed in version 0.24. The corresponding classes / functions should instead be imported from sklearn.datasets. Anything that cannot be imported from sklearn.datasets is now part of the private API.\n",
      "  warnings.warn(message, FutureWarning)\n"
     ]
    }
   ],
   "source": [
    "import math\n",
    "import random\n",
    "import torch\n",
    "import numpy as np\n",
    "import torch.nn.functional\n",
    "import matplotlib.pyplot as plt\n",
    "import torch.optim as opt\n",
    "from torch.autograd import Variable\n",
    "from sklearn.model_selection import train_test_split\n",
    "import copy\n",
    "import scipy.stats as st\n",
    "from sklearn.datasets.samples_generator import make_blobs\n",
    "from matplotlib.colors import LogNorm \n",
    "import matplotlib.cm as cm\n",
    "import numpy as np, random, operator, pandas as pd, matplotlib.pyplot as plt\n",
    "from collections import deque\n",
    "import scipy\n",
    "import copy\n",
    "import time"
   ]
  },
  {
   "cell_type": "code",
   "execution_count": 2,
   "metadata": {
    "ExecuteTime": {
     "end_time": "2021-05-14T05:08:08.506384Z",
     "start_time": "2021-05-14T05:08:08.498079Z"
    }
   },
   "outputs": [],
   "source": [
    "#global veriable \n",
    "Uniform_low_bound=0\n",
    "Uniform_up_bound=1\n",
    "Agent_number_n=5\n",
    "\n",
    "number_of_groups=2\n",
    "\n",
    "Normal_loc=0.5\n",
    "Normal_scale=0.2\n",
    "Normal_loc1=0.1\n",
    "Normal_loc2=0.9\n",
    "Normal_scale1=0.01\n",
    "Normal_scale2=0.01\n",
    "Distribution_number=20000\n",
    "target = \"min_sum\"\n",
    "#target = \"min_max\""
   ]
  },
  {
   "cell_type": "code",
   "execution_count": 3,
   "metadata": {
    "ExecuteTime": {
     "end_time": "2021-05-14T05:08:08.522022Z",
     "start_time": "2021-05-14T05:08:08.506384Z"
    }
   },
   "outputs": [],
   "source": [
    "popSize = 400\n",
    "eliteSize = 200\n",
    "mutationRate = 1\n",
    "generations = 50\n",
    "test_fitness_number = 100\n",
    "\n",
    "\n",
    "global NeighborhoodRate\n",
    "NeighborhoodRate = 0.2"
   ]
  },
  {
   "cell_type": "code",
   "execution_count": 4,
   "metadata": {
    "ExecuteTime": {
     "end_time": "2021-05-14T05:08:14.041359Z",
     "start_time": "2021-05-14T05:08:08.525011Z"
    }
   },
   "outputs": [
    {
     "data": {
      "image/png": "[encoded data removed]",
      "text/plain": [
       "<Figure size 432x288 with 1 Axes>"
      ]
     },
     "metadata": {
      "needs_background": "light"
     },
     "output_type": "display_data"
    },
    {
     "name": "stdout",
     "output_type": "stream",
     "text": [
      "10000\n",
      "10000\n"
     ]
    }
   ],
   "source": [
    "\n",
    "seed = 7\n",
    "np.random.seed(seed)\n",
    "#exec(open('distribution/uniform.py').read())\n",
    "#exec(open('distribution/beta.py').read())\n",
    "#exec(open('../../../distribution/uniform.py').read())\n",
    "exec(open('../../../distribution/twopeaknormal.py').read())\n",
    "for i in range(len(value_list)):\n",
    "    for j in range(len(value_list[0])):\n",
    "        if(value_list[i][j]<=0):\n",
    "            value_list[i][j]=0\n",
    "        if(value_list[i][j]>=1):\n",
    "            value_list[i][j]=1\n",
    "            \n",
    "value_list1=np.array(value_list)\n",
    "for i in range(min(Agent_number_n,1)):\n",
    "    pa=value_list1[:,i]\n",
    "    plt.hist(pa,bins=200)\n",
    "    plt.show()\n",
    "\n",
    "\n",
    "X_train,  X_test = train_test_split(value_list, test_size=0.5, random_state=seed)\n",
    "\n",
    "\n",
    "dataset_size = len(X_train)\n",
    "print(dataset_size)\n",
    "#print(X_train[:100])\n",
    "print(len(X_test))\n",
    "#run_cs()\n"
   ]
  },
  {
   "cell_type": "code",
   "execution_count": 5,
   "metadata": {
    "ExecuteTime": {
     "end_time": "2021-05-14T05:08:14.251202Z",
     "start_time": "2021-05-14T05:08:14.044351Z"
    }
   },
   "outputs": [
    {
     "name": "stdout",
     "output_type": "stream",
     "text": [
      "max_delay 0.9669\n",
      "sum_delay 2.6762\n"
     ]
    }
   ],
   "source": [
    "#Cost Sharing\n",
    "def run_cs_prue():\n",
    "    sum_delay=0\n",
    "    max_delay=0\n",
    "    test_number=0\n",
    "    for i in range(len(X_test)):\n",
    "        test_number+=1\n",
    "        temp_max_delay=0\n",
    "        temp_delay=0\n",
    "        test=X_test[i];\n",
    "        \n",
    "        for k in range(Agent_number_n,0,-1):\n",
    "            count=0;\n",
    "            delay=0;\n",
    "            for item in test:\n",
    "                if(item+1e-9>=1.0/k):\n",
    "                    count+=1;\n",
    "                else:\n",
    "                    delay+=1;\n",
    "            if(count>=k):\n",
    "                temp_delay=delay;\n",
    "                if temp_delay != 0 :\n",
    "                    temp_max_delay = 1\n",
    "                break;\n",
    "            if(k<=1):\n",
    "                #print(test);\n",
    "                temp_delay=Agent_number_n;\n",
    "                temp_max_delay=1\n",
    "        sum_delay+=temp_delay\n",
    "        max_delay+=temp_max_delay\n",
    "                \n",
    "    print(\"max_delay\",max_delay/test_number);\n",
    "    print(\"sum_delay\",sum_delay/test_number);\n",
    "    \n",
    "run_cs_prue()"
   ]
  },
  {
   "cell_type": "code",
   "execution_count": 6,
   "metadata": {
    "ExecuteTime": {
     "end_time": "2021-05-14T05:08:14.378063Z",
     "start_time": "2021-05-14T05:08:14.254194Z"
    }
   },
   "outputs": [],
   "source": [
    "class Foo(object):\n",
    "\n",
    "    def __init__(self, test_item, test_change_item, deadline):\n",
    "        self.test_item = test_item\n",
    "        self.test_change_item = test_change_item\n",
    "        self.deadline = deadline\n",
    "\n",
    "    def __lt__(self, other):\n",
    "        return self.test_change_item < other.test_change_item\n",
    "    \n",
    "def cost_sharing_with_deadline(test,t_c,target):\n",
    "    temp_max_delay_list=[0 for i in range(len(test))]\n",
    "    temp_sum_delay=0\n",
    "    result=False\n",
    "    for k in range(len(test),0,-1):\n",
    "        count=0;\n",
    "        delay=0;\n",
    "        for ii in range(len(test)):\n",
    "            item= test[ii]\n",
    "            if(item+1e-9>=target/k):\n",
    "                count+=1;\n",
    "            else:\n",
    "                delay+=t_c[ii];\n",
    "                temp_max_delay_list[ii]=t_c[ii]\n",
    "            \n",
    "        if(count>=k):\n",
    "            temp_sum_delay+=delay;\n",
    "            result=True\n",
    "            break;\n",
    "        if(k<=1):\n",
    "            #print(test,number_n);\n",
    "            temp_max_delay_list=t_c\n",
    "            temp_sum_delay=sum(t_c);\n",
    "            result=False\n",
    "            \n",
    "    return temp_max_delay_list,temp_sum_delay,result\n",
    "    \n",
    "def cost_sharing_with_deadline_free(n,_i,numbers_of_people_will_pay,started_k):\n",
    "    \n",
    "    for k in range(started_k,0,-1):\n",
    "        if(n-_i<=k):\n",
    "            x=k-1\n",
    "        else:\n",
    "            x=k\n",
    "        #print(n,_i,x,numbers_of_people_will_pay[x],k)\n",
    "        if(numbers_of_people_will_pay[x]>=k):\n",
    "            return True,k\n",
    "    return False,0\n",
    "    \n",
    "#Cost Sharing\n",
    "def run_cs_test(deadline_list):\n",
    "    sum_delay=0\n",
    "    max_delay=0\n",
    "    test_number=0\n",
    "    seconds_start=time.time()\n",
    "    for i in range(len(X_test)):\n",
    "#        if(i%1000==0):\n",
    "#            seconds=time.time()\n",
    "#            print(\"times: \",seconds-seconds_start)\n",
    "        test_number+=1\n",
    "        temp_max_delay=0\n",
    "        temp_delay=0\n",
    "        test = copy.deepcopy(X_test[i])\n",
    "        #test_change = copy.deepcopy(X_test[i]);\n",
    "        test_change_temp = []\n",
    "        Foo_list = []\n",
    "        \n",
    "#         seconds=time.time()\n",
    "#         print(\"times: \",seconds-seconds_start)\n",
    "        \n",
    "        \n",
    "        for j in range(len(test)):\n",
    "            test_change_temp.append(test[j] * deadline_list[j])\n",
    "            Foo_list.append(Foo(test[j],test_change_temp[j],deadline_list[j]))\n",
    "            \n",
    "        Foo_list.sort(reverse=False)\n",
    "        \n",
    "\n",
    "        for j in range(len(test)):\n",
    "            test[j]=Foo_list[j].test_item\n",
    "            test_change_temp[j]=Foo_list[j].test_change_item\n",
    "            deadline_list[j]=Foo_list[j].deadline\n",
    "\n",
    "        test_change = copy.deepcopy(test_change_temp);\n",
    "        \n",
    "        numbers_of_people_will_pay = [-10 for ii in range(len(test_change)+2)]#pay 1/k\n",
    "        \n",
    "#         seconds=time.time()\n",
    "#         print(\"times: \",seconds-seconds_start)\n",
    "        \n",
    "        k = 1\n",
    "        started=len(test_change)-1\n",
    "        end_k=-10\n",
    "        for j in range(len(test_change)):\n",
    "            if(k<=len(test_change)):\n",
    "                for people_id in range(started,-1,-1):\n",
    "                    if(test_change[people_id]+1e-9>=1.0/k):\n",
    "                        started=people_id\n",
    "                        numbers_of_people_will_pay[k]=len(test_change)-people_id\n",
    "                        end_k=len(test_change)-people_id\n",
    "                    else:\n",
    "                        k+=1\n",
    "                        break;\n",
    "                    \n",
    "        for j in range(k,len(test_change)+1):\n",
    "            numbers_of_people_will_pay[j]=end_k\n",
    "            \n",
    "        deadlist_new=copy.deepcopy(deadline_list)\n",
    "        \n",
    "        temp_max_delay_list,temp_sum_delay,judge_i =  cost_sharing_with_deadline(test_change,\n",
    "                        deadlist_new,1.0)\n",
    "        \n",
    "        judge_i= True\n",
    "        started_k = len(test)\n",
    "        for _i in range(len(test_change)):\n",
    "            if judge_i:\n",
    "                judge_i,started_k =  cost_sharing_with_deadline_free(len(test_change),\n",
    "                    _i,numbers_of_people_will_pay,started_k)\n",
    "                \n",
    "                \n",
    "            started_k+=1\n",
    "            if(judge_i==False):\n",
    "                temp_sum_delay += (1.0-deadline_list[_i])\n",
    "                temp_max_delay_list[_i] += (1.0-deadline_list[_i])\n",
    "        \n",
    "        max_delay+=max(temp_max_delay_list)\n",
    "        \n",
    "        sum_delay+=temp_sum_delay\n",
    "        \n",
    "                \n",
    "    #print(\"max_delay\",max_delay/test_number);\n",
    "                \n",
    "\n",
    "    return max_delay/test_number,sum_delay/test_number"
   ]
  },
  {
   "cell_type": "code",
   "execution_count": 7,
   "metadata": {
    "ExecuteTime": {
     "end_time": "2021-05-14T05:08:14.398893Z",
     "start_time": "2021-05-14T05:08:14.381054Z"
    }
   },
   "outputs": [],
   "source": [
    "def run_diff_deadline():\n",
    "    list_1 = []\n",
    "    list_2 = []\n",
    "    list_3 = []\n",
    "    devided = 5\n",
    "    for i1 in range(0, devided+1):\n",
    "        x1 = float(i1)/devided\n",
    "        print(i1)\n",
    "        for i2 in range(i1, devided+1):\n",
    "            x2 = float(i2)/devided\n",
    "            for i3 in range(i2, devided+1):\n",
    "                x3 = float(i3)/devided\n",
    "                for i4 in range(i3, devided+1):\n",
    "                    x4 = float(i4)/devided\n",
    "                    for i5 in range(i4, devided+1):\n",
    "                        x5 = float(i5)/devided\n",
    "\n",
    "                        xx = [x1, x2, x3, x4, x5]\n",
    "                        # print(xx)\n",
    "                        res1, res2 = run_cs_test(xx)\n",
    "                        list_1.append(res1)\n",
    "                        list_2.append(res2)\n",
    "                        list_3.append(xx)\n",
    "    print(\"max_delay:\", min(list_1), \"deadline:\",\n",
    "          list_3[list_1.index(min(list_1))])\n",
    "    print(\"sum_dealy:\", min(list_2), \"deadline:\",\n",
    "          list_3[list_2.index(min(list_2))])"
   ]
  },
  {
   "cell_type": "code",
   "execution_count": 8,
   "metadata": {
    "ExecuteTime": {
     "end_time": "2021-05-14T05:15:46.813293Z",
     "start_time": "2021-05-14T05:08:14.398893Z"
    }
   },
   "outputs": [
    {
     "name": "stdout",
     "output_type": "stream",
     "text": [
      "0\n",
      "1\n",
      "2\n",
      "3\n",
      "4\n",
      "5\n",
      "max_delay: 0.6569800000000758 deadline: [0.6, 0.6, 0.6, 0.6, 0.6]\n",
      "sum_dealy: 2.2439200000000246 deadline: [0.6, 0.6, 0.6, 0.6, 0.6]\n"
     ]
    }
   ],
   "source": [
    "run_diff_deadline()"
   ]
  }
 ],
 "metadata": {
  "hide_input": false,
  "kernelspec": {
   "display_name": "Python 3",
   "language": "python",
   "name": "python3"
  },
  "language_info": {
   "codemirror_mode": {
    "name": "ipython",
    "version": 3
   },
   "file_extension": ".py",
   "mimetype": "text/x-python",
   "name": "python",
   "nbconvert_exporter": "python",
   "pygments_lexer": "ipython3",
   "version": "3.8.3"
  },
  "varInspector": {
   "cols": {
    "lenName": 16,
    "lenType": 16,
    "lenVar": 40
   },
   "kernels_config": {
    "python": {
     "delete_cmd_postfix": "",
     "delete_cmd_prefix": "del ",
     "library": "var_list.py",
     "varRefreshCmd": "print(var_dic_list())"
    },
    "r": {
     "delete_cmd_postfix": ") ",
     "delete_cmd_prefix": "rm(",
     "library": "var_list.r",
     "varRefreshCmd": "cat(var_dic_list()) "
    }
   },
   "types_to_exclude": [
    "module",
    "function",
    "builtin_function_or_method",
    "instance",
    "_Feature"
   ],
   "window_display": false
  }
 },
 "nbformat": 4,
 "nbformat_minor": 4
}
