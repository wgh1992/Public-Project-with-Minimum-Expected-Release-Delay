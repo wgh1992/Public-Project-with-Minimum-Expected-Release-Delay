{
 "cells": [
  {
   "cell_type": "code",
   "execution_count": null,
   "metadata": {
    "ExecuteTime": {
     "end_time": "2021-05-09T01:28:22.112956Z",
     "start_time": "2021-05-09T01:28:21.443Z"
    }
   },
   "outputs": [],
   "source": [
    "import math\n",
    "import random\n",
    "import torch\n",
    "import numpy as np\n",
    "import torch.nn.functional\n",
    "import matplotlib.pyplot as plt\n",
    "import torch.optim as opt\n",
    "from torch.autograd import Variable\n",
    "from sklearn.model_selection import train_test_split\n",
    "import copy\n",
    "import scipy.stats as st\n",
    "from sklearn.datasets.samples_generator import make_blobs\n",
    "from matplotlib.colors import LogNorm \n",
    "import matplotlib.cm as cm\n",
    "import numpy as np, random, operator, pandas as pd, matplotlib.pyplot as plt\n",
    "from collections import deque\n",
    "import scipy\n",
    "import copy\n",
    "import time"
   ]
  },
  {
   "cell_type": "code",
   "execution_count": null,
   "metadata": {
    "ExecuteTime": {
     "end_time": "2021-05-09T01:28:22.128576Z",
     "start_time": "2021-05-09T01:28:21.445Z"
    }
   },
   "outputs": [],
   "source": [
    "#global veriable \n",
    "Uniform_low_bound=0\n",
    "Uniform_up_bound=1\n",
    "Agent_number_n=3\n",
    "\n",
    "number_of_groups=2\n",
    "\n",
    "Normal_loc=0.5\n",
    "Normal_scale=0.2\n",
    "Normal_loc1=0.3\n",
    "Normal_loc2=0.7\n",
    "Normal_scale1=0.1\n",
    "Normal_scale2=0.1\n",
    "Distribution_number=20000\n",
    "target = \"min_sum\"\n",
    "#target = \"min_max\""
   ]
  },
  {
   "cell_type": "code",
   "execution_count": null,
   "metadata": {
    "ExecuteTime": {
     "end_time": "2021-05-09T01:28:22.128576Z",
     "start_time": "2021-05-09T01:28:21.446Z"
    }
   },
   "outputs": [],
   "source": [
    "popSize = 400\n",
    "eliteSize = 200\n",
    "mutationRate = 1\n",
    "generations = 50\n",
    "test_fitness_number = 100\n",
    "\n",
    "\n",
    "global NeighborhoodRate\n",
    "NeighborhoodRate = 0.2"
   ]
  },
  {
   "cell_type": "code",
   "execution_count": null,
   "metadata": {
    "ExecuteTime": {
     "end_time": "2021-05-09T01:28:22.128576Z",
     "start_time": "2021-05-09T01:28:21.447Z"
    }
   },
   "outputs": [],
   "source": [
    "\n",
    "seed = 7\n",
    "np.random.seed(seed)\n",
    "#exec(open('distribution/uniform.py').read())\n",
    "#exec(open('distribution/beta.py').read())\n",
    "exec(open('../../../distribution/uniform.py').read())\n",
    "#exec(open('../../../distribution/twopeak.py').read())\n",
    "for i in range(len(value_list)):\n",
    "    for j in range(len(value_list[0])):\n",
    "        if(value_list[i][j]<=0):\n",
    "            value_list[i][j]=0\n",
    "        if(value_list[i][j]>=1):\n",
    "            value_list[i][j]=1\n",
    "            \n",
    "value_list1=np.array(value_list)\n",
    "for i in range(min(Agent_number_n,1)):\n",
    "    pa=value_list1[:,i]\n",
    "    plt.hist(pa,bins=200)\n",
    "    plt.show()\n",
    "\n",
    "\n",
    "X_train,  X_test = train_test_split(value_list, test_size=0.5, random_state=seed)\n",
    "\n",
    "\n",
    "dataset_size = len(X_train)\n",
    "print(dataset_size)\n",
    "#print(X_train[:100])\n",
    "print(len(X_test))\n",
    "#run_cs()\n"
   ]
  },
  {
   "cell_type": "code",
   "execution_count": null,
   "metadata": {
    "ExecuteTime": {
     "end_time": "2021-05-09T01:28:22.128576Z",
     "start_time": "2021-05-09T01:28:21.448Z"
    }
   },
   "outputs": [],
   "source": [
    "#Cost Sharing\n",
    "def run_cs_prue():\n",
    "    sum_delay=0\n",
    "    max_delay=0\n",
    "    test_number=0\n",
    "    for i in range(len(X_test)):\n",
    "        test_number+=1\n",
    "        temp_max_delay=0\n",
    "        temp_delay=0\n",
    "        test=X_test[i];\n",
    "        \n",
    "        for k in range(Agent_number_n,0,-1):\n",
    "            count=0;\n",
    "            delay=0;\n",
    "            for item in test:\n",
    "                if(item+1e-9>=1.0/k):\n",
    "                    count+=1;\n",
    "                else:\n",
    "                    delay+=1;\n",
    "            if(count>=k):\n",
    "                temp_delay=delay;\n",
    "                if temp_delay != 0 :\n",
    "                    temp_max_delay = 1\n",
    "                break;\n",
    "            if(k<=1):\n",
    "                #print(test);\n",
    "                temp_delay=Agent_number_n;\n",
    "                temp_max_delay=1\n",
    "        sum_delay+=temp_delay\n",
    "        max_delay+=temp_max_delay\n",
    "                \n",
    "    print(\"max_delay\",max_delay/test_number);\n",
    "    print(\"sum_delay\",sum_delay/test_number);\n",
    "    \n",
    "run_cs_prue()"
   ]
  },
  {
   "cell_type": "code",
   "execution_count": null,
   "metadata": {
    "ExecuteTime": {
     "end_time": "2021-05-09T01:28:22.128576Z",
     "start_time": "2021-05-09T01:28:21.449Z"
    }
   },
   "outputs": [],
   "source": [
    "#Cost Sharing\n",
    "def run_cs_prue1():\n",
    "    sum_delay=0\n",
    "    max_delay=0\n",
    "    test_number=0\n",
    "    for i in range(len(X_test)):\n",
    "        test_number+=1\n",
    "        temp_max_delay=0\n",
    "        temp_delay=0\n",
    "        test=X_test[i];\n",
    "        \n",
    "        for k in range(Agent_number_n,0,-1):\n",
    "            count=0;\n",
    "            delay=0;\n",
    "            for item in test:\n",
    "                if(item+1e-9>=1.0/k):\n",
    "                    count+=1;\n",
    "                else:\n",
    "                    delay+=1;\n",
    "            if(count>=k):\n",
    "                temp_delay=delay;\n",
    "                if temp_delay != 0 :\n",
    "                    temp_max_delay = 1\n",
    "                break;\n",
    "            if(k<=1):\n",
    "                #print(test);\n",
    "                temp_delay=Agent_number_n;\n",
    "                temp_max_delay=1\n",
    "        sum_delay+=temp_delay\n",
    "        max_delay+=temp_max_delay\n",
    "                \n",
    "    print(\"max_delay\",max_delay/test_number);\n",
    "    print(\"sum_delay\",sum_delay/test_number);\n",
    "    \n",
    "run_cs_prue1()"
   ]
  },
  {
   "cell_type": "code",
   "execution_count": null,
   "metadata": {
    "ExecuteTime": {
     "end_time": "2021-05-09T01:28:22.128576Z",
     "start_time": "2021-05-09T01:28:21.450Z"
    }
   },
   "outputs": [],
   "source": [
    "\n",
    "class head_list:\n",
    "    def __init__(self, bid,t_allocation):\n",
    "        self.bid_list = []\n",
    "        self.t_allocation_list = []\n",
    "        self.bid_list.append(bid)\n",
    "        self.t_allocation_list.append(t_allocation)\n",
    "        self.delay = 0\n",
    "        self.fitness = 0.0\n",
    "    \n",
    "    def Fitness(self):\n",
    "        \n",
    "        if(self.delay == 0 or self.fitness==0 ):\n",
    "            if (non_dominant(self)==False):\n",
    "                self=produce_initial_head_list()\n",
    "            self.delay = run_training_test(self)\n",
    "            self.fitness = self.delay\n",
    "        else:\n",
    "            if(random.random()<NeighborhoodRate):\n",
    "                if (non_dominant(self)==False):\n",
    "                    self=produce_initial_head_list()\n",
    "                self.delay = run_training_test(self)\n",
    "                self.fitness = self.delay\n",
    "                \n",
    "                \n",
    "            \n",
    "        return self\n",
    "\n",
    "    def Fitness_all(self):\n",
    "        self.delay = run_all_training_test(self)\n",
    "        self.fitness = self.delay\n",
    "        return self\n",
    "\n",
    "    def new(self):\n",
    "        self.bid_list = []\n",
    "        self.t_allocation_list = []\n",
    "        self.delay = 0\n",
    "        self.fitness = 0.0\n",
    "    \n",
    "    def debug(self):\n",
    "        for i in range(len(self.bid_list)):\n",
    "            print(\"bid: \",self.bid_list[i])\n",
    "            print(\"t: \",self.t_allocation_list[i])\n",
    "\n",
    "            \n",
    "        print(self.fitness)\n",
    "        print()\n"
   ]
  },
  {
   "cell_type": "code",
   "execution_count": null,
   "metadata": {
    "ExecuteTime": {
     "end_time": "2021-05-09T01:28:22.128576Z",
     "start_time": "2021-05-09T01:28:21.451Z"
    }
   },
   "outputs": [],
   "source": [
    "def run_loop(test,head):\n",
    "    \n",
    "    for i in range(len(head.t_allocation_list)):\n",
    "        if(sum(test*head.t_allocation_list[i]+1e-6 >= head.bid_list[i]) == Agent_number_n):\n",
    "            return Agent_number_n - sum(head.t_allocation_list[i]), np.ones(Agent_number_n) - head.t_allocation_list[i]\n",
    "        \n",
    "    return Agent_number_n, np.ones(Agent_number_n)\n",
    "    \n",
    "def run_loop_value(test,head):\n",
    "    \n",
    "    for i in range(len(head.t_allocation_list)):\n",
    "        if(sum(test*head.t_allocation_list[i]+1e-6 >= head.bid_list[i]) == Agent_number_n):\n",
    "            return head.bid_list[i], head.t_allocation_list[i],i\n",
    "        \n",
    "    return np.zeros(Agent_number_n), np.zeros(Agent_number_n),-1\n",
    "    \n",
    "def run_training_test(head):\n",
    "    sum_delay=0\n",
    "    max_delay=0\n",
    "    test_number=0\n",
    "    seconds_start=time.time()\n",
    "    for i in range(test_fitness_number):\n",
    "        test_number+=1\n",
    "        test = copy.deepcopy(X_train[random.randint(0,len(X_train)-1)])\n",
    "        temp_sum_delay, temp_max_delay_list = run_loop(test,head)\n",
    "        max_delay+=max(temp_max_delay_list)\n",
    "        sum_delay+=temp_sum_delay\n",
    "        \n",
    "                \n",
    "    #print(\"max_delay\",max_delay/test_number);\n",
    "    if(target == \"min_sum\"):\n",
    "        return sum_delay/test_number\n",
    "    if(target == \"min_max\"):\n",
    "        return max_delay/test_number\n",
    "    \n",
    "    \n",
    "def run_all_training_test(head):\n",
    "    sum_delay=0\n",
    "    max_delay=0\n",
    "    test_number=0\n",
    "    seconds_start=time.time()\n",
    "    for i in range(len(X_train)):\n",
    "        test_number+=1\n",
    "        test = copy.deepcopy(X_train[i])\n",
    "        temp_sum_delay, temp_max_delay_list = run_loop(test,head)\n",
    "        max_delay+=max(temp_max_delay_list)\n",
    "        sum_delay+=temp_sum_delay\n",
    "        \n",
    "                \n",
    "    #print(\"max_delay\",max_delay/test_number);\n",
    "    if(target == \"min_sum\"):\n",
    "        return sum_delay/test_number\n",
    "    if(target == \"min_max\"):\n",
    "        return max_delay/test_number\n",
    "\n",
    "def run_all_test(head):\n",
    "    sum_delay=0\n",
    "    max_delay=0\n",
    "    test_number=0\n",
    "    seconds_start=time.time()\n",
    "    for i in range(len(X_test)):\n",
    "        test_number+=1\n",
    "        test = copy.deepcopy(X_test[i])\n",
    "        \n",
    "        temp_sum_delay, temp_max_delay_list = run_loop(test,head)\n",
    "\n",
    "        max_delay+=max(temp_max_delay_list)\n",
    "        \n",
    "        sum_delay+=temp_sum_delay\n",
    "        \n",
    "                \n",
    "    #print(\"max_delay\",max_delay/test_number);\n",
    "    if(target == \"min_sum\"):\n",
    "        return sum_delay/test_number\n",
    "    if(target == \"min_max\"):\n",
    "        return max_delay/test_number\n"
   ]
  },
  {
   "cell_type": "markdown",
   "metadata": {},
   "source": [
    "1.Create a fitness function"
   ]
  },
  {
   "cell_type": "code",
   "execution_count": null,
   "metadata": {
    "ExecuteTime": {
     "end_time": "2021-05-09T01:28:22.128576Z",
     "start_time": "2021-05-09T01:28:21.453Z"
    }
   },
   "outputs": [],
   "source": [
    "def appen(x, y, index):\n",
    "    x.bid_list.append(y.bid_list[index])\n",
    "    x.t_allocation_list.append(y.t_allocation_list[index])\n",
    "\n",
    "\n",
    "X = copy.deepcopy(X_train)\n",
    "\n",
    "\n",
    "def non_dominant(head):\n",
    "\n",
    "    for i in range(len(head.bid_list)):\n",
    "        si_bid = head.bid_list[i]\n",
    "        si_t = head.t_allocation_list[i]\n",
    "        for j in range(i + 1, len(head.bid_list)):\n",
    "            sj_bid = head.bid_list[j]\n",
    "            sj_t = head.t_allocation_list[j]\n",
    "            sum_abs = 0\n",
    "            for k in range(Agent_number_n):\n",
    "                sum_abs += math.fabs(si_t[k] - sj_t[k])\n",
    "            if (sum_abs < 1e-4):\n",
    "                return False\n",
    "\n",
    "            if (sum((sj_t <= 1e-4)) == Agent_number_n):\n",
    "                return False\n",
    "            \n",
    "            for k in range(Agent_number_n):\n",
    "                if sj_t[k]!=0 and si_t[k]!=0:\n",
    "                    if(sj_bid[k]<si_bid[k] or sj_t[k]>si_t[k]):\n",
    "                        return False\n",
    "\n",
    "    return True\n",
    "\n",
    "def non_dominant_all_training(head):\n",
    "\n",
    "    for i in range(len(head.bid_list)):\n",
    "        si_bid = head.bid_list[i]\n",
    "        si_t = head.t_allocation_list[i]\n",
    "        for j in range(i + 1, len(head.bid_list)):\n",
    "            sj_bid = head.bid_list[j]\n",
    "            sj_t = head.t_allocation_list[j]\n",
    "            sum_abs = 0\n",
    "            for k in range(Agent_number_n):\n",
    "                sum_abs += math.fabs(si_t[k] - sj_t[k])\n",
    "            if (sum_abs < 1e-4):\n",
    "                return False\n",
    "\n",
    "            if (sum((sj_t <= 1e-4)) == Agent_number_n):\n",
    "                return False\n",
    "            \n",
    "            for k in range(Agent_number_n):\n",
    "                if sj_t[k]!=0 and si_t[k]!=0:\n",
    "                    if(sj_bid[k]<si_bid[k] or sj_t[k]>si_t[k]):\n",
    "                        return False\n",
    "\n",
    "\n",
    "    return True\n",
    "\n",
    "# def non_dominant(head):\n",
    "\n",
    "#     for i in range(len(head.bid_list)):\n",
    "#         si_bid = head.bid_list[i]\n",
    "#         si_t = head.t_allocation_list[i]\n",
    "#         for j in range(i + 1, len(head.bid_list)):\n",
    "#             sj_bid = head.bid_list[j]\n",
    "#             sj_t = head.t_allocation_list[j]\n",
    "#             sum_abs = 0\n",
    "#             for j in range(Agent_number_n):\n",
    "#                 sum_abs += math.fabs(si_bid[j] - sj_bid[j])\n",
    "#             if (sum_abs < 1e-1):\n",
    "#                 return False\n",
    "\n",
    "#             if (sum((sj_t <= 1e-4)) == Agent_number_n):\n",
    "#                 return False\n",
    "\n",
    "#     for i in range(Agent_number_n):\n",
    "\n",
    "#         hash_v = [1 for i in range(len(head.bid_list))]\n",
    "\n",
    "#         for j in range(test_fitness_number):\n",
    "#             test_domi = X[random.randint(0, len(X)-1)]\n",
    "#             test_domi_i = copy.deepcopy(test_domi)\n",
    "#             random_index = random.randint(0, Agent_number_n-1)\n",
    "#             bid, t, ix = run_loop_value(test_domi, head)\n",
    "#             if(ix!=-1):\n",
    "#                 hash_v[ix] = 0\n",
    "#             vi = test_domi[random_index] * t[random_index] - bid[random_index]\n",
    "#             test_domi_i[random_index] = random.random()\n",
    "#             bid_i, t_i, x_i = run_loop_value(test_domi_i, head)\n",
    "\n",
    "#             v_i = test_domi[random_index] * \\\n",
    "#                 t_i[random_index] - bid_i[random_index]\n",
    "#             if(v_i > vi):\n",
    "#                 return False\n",
    "#         if(sum(hash_v) != 0):\n",
    "#             if(sum(hash_v)*random.random()>Agent_number_n):\n",
    "#                 return False\n",
    "\n",
    "#     return True\n",
    "\n"
   ]
  },
  {
   "cell_type": "markdown",
   "metadata": {},
   "source": [
    "## Create our initial population"
   ]
  },
  {
   "cell_type": "markdown",
   "metadata": {},
   "source": [
    "Initial generator"
   ]
  },
  {
   "cell_type": "markdown",
   "metadata": {},
   "source": [
    "Create first \"population\" (list of routes)"
   ]
  },
  {
   "cell_type": "code",
   "execution_count": null,
   "metadata": {
    "ExecuteTime": {
     "end_time": "2021-05-09T01:28:22.128576Z",
     "start_time": "2021-05-09T01:28:21.454Z"
    }
   },
   "outputs": [],
   "source": [
    "pool_items=[]\n",
    "#for i in range(1,Agent_number_n+1):\n",
    "#    pool_items.append(1.0/i)\n",
    "pool_items.append(0.0) \n",
    "pool_items.append(1.0) \n",
    "for i in range(1,Agent_number_n+1):\n",
    "    pool_items.append(1.0/float(i)) \n",
    "\n",
    "    \n",
    "for i in range(1,101):\n",
    "    #pool_items.append(np.random.random())\n",
    "    pool_items.append(float(i)/100) \n",
    "#print(pool_items)\n",
    "def produce_initial_head_list():\n",
    "    initial_bid_list=[]\n",
    "    initial_t_list=[]\n",
    "    \n",
    "    if(random.random()>0.5):\n",
    "        for j in range(Agent_number_n):\n",
    "            initial_bid_list.append(pool_items[np.random.randint(0,len(pool_items)-1)])\n",
    "        \n",
    "        ran_1 = np.array([random.randint(0,1) for i in range(Agent_number_n)])\n",
    "        initial_bid_list = np.array(initial_bid_list) - ran_1*1000\n",
    "        \n",
    "        ran_2 = np.array([random.randint(0,2) for i in range(Agent_number_n)])\n",
    "        for j in range(Agent_number_n):\n",
    "            initial_t_list.append(pool_items[np.random.randint(0,len(pool_items)-1)])\n",
    "        initial_t_list_temp = initial_t_list * (ran_2==1)\n",
    "        initial_t_list_temp += (ran_2==2)\n",
    "        \n",
    "    else:\n",
    "        ran_1 = np.array([random.randint(0,1) for i in range(Agent_number_n)])\n",
    "        initial_bid_list = np.array(ran_1*1000)\n",
    "        initial_t_list_temp = ran_1\n",
    "#         if(random.random()>0.5):\n",
    "#             initial_t_list_temp = ran_1\n",
    "#         else:\n",
    "#             ran_2 = np.array([random.randint(0,2) for i in range(Agent_number_n)])\n",
    "#             for j in range(Agent_number_n):\n",
    "#                 initial_t_list.append(pool_items[np.random.randint(0,len(pool_items)-1)])\n",
    "#             initial_t_list_temp = initial_t_list * (ran_2==1)\n",
    "#             initial_t_list_temp += (ran_2==2)\n",
    "        \n",
    "    \n",
    "    return head_list(scipy.special.softmax(initial_bid_list),np.array(initial_t_list_temp))\n",
    "\n",
    "global population,bid,t\n",
    "population = []\n",
    "def init_dfs(deep):\n",
    "    global population,bid,t\n",
    "    if deep == Agent_number_n:\n",
    "        population.append(head_list(scipy.special.softmax(bid),np.array(t)))\n",
    "        return\n",
    "    \n",
    "    bid[deep]=0;\n",
    "    t[deep]=0;\n",
    "    init_dfs(deep+1)\n",
    "    bid[deep]=1000;\n",
    "    t[deep]=1;\n",
    "    init_dfs(deep+1)\n",
    "    return\n",
    "\n",
    "def initialPopulation():\n",
    "    global population,bid,t\n",
    "    population = []\n",
    "    bid=np.ones(Agent_number_n)\n",
    "    t= np.ones(Agent_number_n)\n",
    "    init_dfs(0)\n",
    "    for i in range(popSize):\n",
    "        population.append(produce_initial_head_list())\n",
    "    return population\n",
    "\n"
   ]
  },
  {
   "cell_type": "code",
   "execution_count": null,
   "metadata": {
    "ExecuteTime": {
     "end_time": "2021-05-09T01:28:22.128576Z",
     "start_time": "2021-05-09T01:28:21.455Z"
    }
   },
   "outputs": [],
   "source": [
    "\n",
    "pop = np.array(initialPopulation())\n",
    "\n",
    "for i in range(len(pop)):\n",
    "     print(pop[i].bid_list)\n",
    "        \n",
    "for i in range(len(pop)):\n",
    "     print(pop[i].t_allocation_list)"
   ]
  },
  {
   "cell_type": "markdown",
   "metadata": {},
   "source": [
    "## Create the genetic algorithm"
   ]
  },
  {
   "cell_type": "markdown",
   "metadata": {},
   "source": [
    "Rank individuals"
   ]
  },
  {
   "cell_type": "code",
   "execution_count": null,
   "metadata": {
    "ExecuteTime": {
     "end_time": "2021-05-09T01:28:22.128576Z",
     "start_time": "2021-05-09T01:28:21.457Z"
    }
   },
   "outputs": [],
   "source": [
    "def rank_heads(population):\n",
    "    fitnessResults = []\n",
    "    for i in range(0,len(population)):\n",
    "        temp = population[i].Fitness()\n",
    "        fitnessResults.append([i, temp.delay, temp])\n",
    "    fitnessResults = np.array(fitnessResults)\n",
    "    \n",
    "    return sorted(fitnessResults, key = operator.itemgetter(1))\n",
    "\n",
    "def rank_heads_all(population):\n",
    "    fitnessResults = []\n",
    "    for i in range(0,len(population)):\n",
    "        temp = population[i].Fitness_all()\n",
    "        fitnessResults.append([i, temp.delay, temp])\n",
    "    fitnessResults = np.array(fitnessResults)\n",
    "    \n",
    "    return sorted(fitnessResults, key = operator.itemgetter(1))"
   ]
  },
  {
   "cell_type": "markdown",
   "metadata": {},
   "source": [
    "Create a selection function that will be used to make the list of parent routes"
   ]
  },
  {
   "cell_type": "code",
   "execution_count": null,
   "metadata": {
    "ExecuteTime": {
     "end_time": "2021-05-09T01:28:22.128576Z",
     "start_time": "2021-05-09T01:28:21.458Z"
    }
   },
   "outputs": [],
   "source": [
    "def selection(popRanked, eliteSize):\n",
    "    selectionResults = []\n",
    "    df = pd.DataFrame(np.array(popRanked), columns=[\"Index\",\"Fitness\",\"Tree\"])\n",
    "    df['cum_sum'] = df.Fitness.cumsum()\n",
    "    df['cum_perc'] = 100*df.cum_sum/df.Fitness.sum()\n",
    "    \n",
    "    for i in range(int(len(popRanked))):\n",
    "        selectionResults.append(popRanked[i][0])\n",
    "    return selectionResults"
   ]
  },
  {
   "cell_type": "markdown",
   "metadata": {},
   "source": [
    "Create mating pool"
   ]
  },
  {
   "cell_type": "code",
   "execution_count": null,
   "metadata": {
    "ExecuteTime": {
     "end_time": "2021-05-09T01:28:22.128576Z",
     "start_time": "2021-05-09T01:28:21.459Z"
    }
   },
   "outputs": [],
   "source": [
    "def matingPool(population, selectionResults):\n",
    "    matingpool = []\n",
    "    for i in range(0, len(selectionResults)):\n",
    "        index = selectionResults[i]\n",
    "        matingpool.append(population[index])\n",
    "    return matingpool"
   ]
  },
  {
   "cell_type": "markdown",
   "metadata": {},
   "source": [
    "Create a crossover function for two parents to create one child"
   ]
  },
  {
   "cell_type": "code",
   "execution_count": null,
   "metadata": {
    "ExecuteTime": {
     "end_time": "2021-05-09T01:28:22.128576Z",
     "start_time": "2021-05-09T01:28:21.461Z"
    }
   },
   "outputs": [],
   "source": [
    "def breed(parent1, parent2):\n",
    "    child = copy.deepcopy(parent1)\n",
    "    \n",
    "    geneA_1 = int(random.random() * len(parent1.bid_list))\n",
    "    geneB_1 = int(random.random() * len(parent1.bid_list))\n",
    "    startGene_1 = min(geneA_1, geneB_1)\n",
    "    endGene_1 = max(geneA_1, geneB_1)\n",
    "    \n",
    "    geneA_2 = int(random.random() * len(parent2.bid_list))\n",
    "    geneB_2 = int(random.random() * len(parent2.bid_list))\n",
    "    startGene_2 = min(geneA_2, geneB_2)\n",
    "    endGene_2 = max(geneA_2, geneB_2)\n",
    "    \n",
    "    child.bid_list = []\n",
    "    child.t_allocation_list = []\n",
    "\n",
    "    for i in range(startGene_1):\n",
    "        child.bid_list.append(parent1.bid_list[i])\n",
    "        child.t_allocation_list.append(parent1.t_allocation_list[i])\n",
    "        \n",
    "    for i in range(startGene_2,endGene_2+1):\n",
    "        child.bid_list.append(parent2.bid_list[i])\n",
    "        child.t_allocation_list.append(parent2.t_allocation_list[i])\n",
    "        \n",
    "    for i in range(endGene_1, len(parent1.bid_list)):\n",
    "        child.bid_list.append(parent1.bid_list[i])\n",
    "        child.t_allocation_list.append(parent1.t_allocation_list[i])\n",
    "        \n",
    "    if   non_dominant(child):\n",
    "        child.fitness = 0;\n",
    "        return child\n",
    "    else:\n",
    "        return False \n",
    "    "
   ]
  },
  {
   "cell_type": "markdown",
   "metadata": {},
   "source": [
    "Create function to run crossover over full mating pool"
   ]
  },
  {
   "cell_type": "code",
   "execution_count": null,
   "metadata": {
    "ExecuteTime": {
     "end_time": "2021-05-09T01:28:22.128576Z",
     "start_time": "2021-05-09T01:28:21.462Z"
    }
   },
   "outputs": [],
   "source": [
    "def breedPopulation(matingpool, eliteSize):\n",
    "    children = []\n",
    "    length = len(matingpool) - eliteSize\n",
    "    pool = random.sample(matingpool, len(matingpool))\n",
    "\n",
    "    for i in range(eliteSize):\n",
    "        children.append(matingpool[i])\n",
    "\n",
    "    for i in range(popSize):\n",
    "        if (random.random() < mutationRate):\n",
    "            swapped = copy.deepcopy(pool[random.randint(0,len(matingpool)-1)])\n",
    "            swapWith = copy.deepcopy(pool[random.randint(0,len(matingpool)-1)])\n",
    "            \n",
    "            for j in range(len(swapWith.bid_list)):\n",
    "                swapped.bid_list.append(swapWith.bid_list[j])\n",
    "                swapped.t_allocation_list.append(swapWith.t_allocation_list[j])\n",
    "            \n",
    "            if (non_dominant(swapped)):\n",
    "#                 print(\"##########\")\n",
    "#                 swapped.debug()\n",
    "#                 print(\"##########\")\n",
    "                swapped.fitness = 0\n",
    "                children.append(swapped)\n",
    "\n",
    "    for i in range(popSize):\n",
    "        if (random.random() < mutationRate):\n",
    "            child = breed(pool[random.randint(0,len(matingpool)-1)], pool[random.randint(0,len(matingpool)-1)])\n",
    "            if (child != False):\n",
    "#                 print(\"##########\")\n",
    "#                 child.debug()\n",
    "#                 print(\"##########\")\n",
    "                child.fitness = 0\n",
    "                children.append(child)\n",
    "    \n",
    "#     print(\"\")\n",
    "#     print(\"##########\")\n",
    "#     children[0].debug()\n",
    "#     print(\"\")\n",
    "    return children"
   ]
  },
  {
   "cell_type": "markdown",
   "metadata": {},
   "source": [
    "Create function to mutate a single route"
   ]
  },
  {
   "cell_type": "code",
   "execution_count": null,
   "metadata": {
    "ExecuteTime": {
     "end_time": "2021-05-09T01:28:22.128576Z",
     "start_time": "2021-05-09T01:28:21.464Z"
    }
   },
   "outputs": [],
   "source": [
    "def mutate(individual, mutationRate):\n",
    "    global NeighborhoodRate \n",
    "    \n",
    "    temp_individual = copy.deepcopy(individual)\n",
    "\n",
    "    for nerboorhood in range(len(temp_individual.t_allocation_list)):\n",
    "        \n",
    "        for i in range(Agent_number_n):\n",
    "            if(random.random() < NeighborhoodRate):\n",
    "                if(random.random()>=0.5):\n",
    "                    temp_individual.t_allocation_list[nerboorhood][i]+= 0.01\n",
    "                    if(temp_individual.t_allocation_list[nerboorhood][i]>=1):\n",
    "                        temp_individual.t_allocation_list[nerboorhood][i]=1\n",
    "                else:\n",
    "                    temp_individual.t_allocation_list[nerboorhood][i]-= 0.01\n",
    "                    if(temp_individual.t_allocation_list[nerboorhood][i]<=0):\n",
    "                        temp_individual.t_allocation_list[nerboorhood][i]=0\n",
    "                temp_individual.fitness=0            \n",
    "\n",
    "        if(random.random() < NeighborhoodRate):\n",
    "            length = len(temp_individual.t_allocation_list)\n",
    "            temp_bid = temp_individual.bid_list[nerboorhood]\n",
    "            temp_t = temp_individual.t_allocation_list[nerboorhood]\n",
    "            for i in range(Agent_number_n):\n",
    "                if(random.random() < NeighborhoodRate):\n",
    "                    if(random.random() < 0.1 or temp_bid[i] == -1000):\n",
    "                        temp_bid[i] = -1000\n",
    "                    else:\n",
    "                        temp_bid[i] = temp_bid[i] * random.random()\n",
    "                    if(random.random() < 0.1):\n",
    "                        temp_t[i] = 0\n",
    "                    else:\n",
    "                        temp_t[i] = random.random()*temp_t[i]\n",
    "            temp_bid = scipy.special.softmax(temp_bid)\n",
    "            temp_individual.t_allocation_list.insert(random.randint(nerboorhood,length-1),temp_t)\n",
    "            temp_individual.bid_list.insert(random.randint(nerboorhood,length-1),temp_bid)\n",
    "            \n",
    "            temp_individual.fitness=0             \n",
    "            \n",
    "    if(non_dominant(temp_individual)):\n",
    "        if(temp_individual.Fitness().delay<individual.Fitness().delay):\n",
    "            individual = temp_individual\n",
    "        \n",
    "    return individual"
   ]
  },
  {
   "cell_type": "markdown",
   "metadata": {},
   "source": [
    "Create function to run mutation over entire population"
   ]
  },
  {
   "cell_type": "code",
   "execution_count": null,
   "metadata": {
    "ExecuteTime": {
     "end_time": "2021-05-09T01:28:22.128576Z",
     "start_time": "2021-05-09T01:28:21.465Z"
    }
   },
   "outputs": [],
   "source": [
    "def mutatePopulation(population, mutationRate):\n",
    "    mutatedPop = []\n",
    "\n",
    "    for ind in range(0, len(population)):\n",
    "        mutatedInd = mutate(copy.deepcopy(population[ind]), mutationRate)\n",
    "        mutatedPop.append(mutatedInd)\n",
    "    return mutatedPop"
   ]
  },
  {
   "cell_type": "markdown",
   "metadata": {},
   "source": [
    "Put all steps together to create the next generation"
   ]
  },
  {
   "cell_type": "code",
   "execution_count": null,
   "metadata": {
    "ExecuteTime": {
     "end_time": "2021-05-09T01:28:22.128576Z",
     "start_time": "2021-05-09T01:28:21.466Z"
    }
   },
   "outputs": [],
   "source": [
    "def nextGeneration(currentGen, eliteSize, mutationRate):\n",
    "    print(len(currentGen))\n",
    "    popRanked = rank_heads(currentGen)\n",
    "\n",
    "    selectionResults = selection(popRanked, eliteSize)\n",
    "    \n",
    "    matingpool = matingPool(currentGen, selectionResults)\n",
    "\n",
    "    children = breedPopulation(matingpool, eliteSize)\n",
    "\n",
    "    nextGeneration = mutatePopulation(children, mutationRate)\n",
    "\n",
    "    for i in range(len(nextGeneration), popSize):\n",
    "        nextGeneration.append( produce_initial_head_list())\n",
    "\n",
    "    return nextGeneration"
   ]
  },
  {
   "cell_type": "code",
   "execution_count": null,
   "metadata": {
    "ExecuteTime": {
     "end_time": "2021-05-09T01:28:22.144198Z",
     "start_time": "2021-05-09T01:28:21.467Z"
    }
   },
   "outputs": [],
   "source": [
    "temp_a = np.array(rank_heads(pop))\n",
    "#print(temp_a )"
   ]
  },
  {
   "cell_type": "markdown",
   "metadata": {},
   "source": [
    "Final step: create the genetic algorithm"
   ]
  },
  {
   "cell_type": "code",
   "execution_count": null,
   "metadata": {
    "ExecuteTime": {
     "end_time": "2021-05-09T01:28:22.144198Z",
     "start_time": "2021-05-09T01:28:21.468Z"
    }
   },
   "outputs": [],
   "source": [
    "final_pop =[]\n",
    "def geneticAlgorithm(pop, popSize, eliteSize, mutationRate, generations):\n",
    "\n",
    "    print(\"Initial Delay: \" + str(rank_heads(pop)[0][1]))\n",
    "    best_Index = rank_heads(pop)[0][0]\n",
    "    best_one = pop[best_Index]\n",
    "    best_one.debug()\n",
    "    progress = []\n",
    "    progress.append(rank_heads(pop)[0][1])\n",
    "    for i in range(0, generations):\n",
    "        pop = nextGeneration(pop, eliteSize, mutationRate)\n",
    "        print(\"Generation \" , i , \" : \" + str(rank_heads(pop)[0][1]))\n",
    "        progress.append(rank_heads(pop)[0][1])\n",
    "        best_Index = rank_heads(pop)[0][0]\n",
    "        best_one = pop[best_Index]\n",
    "        best_one.debug()\n",
    "        final_pop.append(pop[best_Index])\n",
    "        print()\n",
    "        \n",
    "    for i in range (len(pop)):\n",
    "        final_pop.append(pop[i])\n",
    "    \n",
    "    res_rank = rank_heads_all(final_pop)\n",
    "    \n",
    "    number_truthful = 0 \n",
    "    for i in range(len(res_rank)):\n",
    "        bestdeadlineIndex = res_rank[i][0]\n",
    "        bestdeadline = final_pop[bestdeadlineIndex]\n",
    "        if(non_dominant_all_training(bestdeadline)):\n",
    "            number_truthful += 1\n",
    "    \n",
    "    \n",
    "    for i in range(len(res_rank)):\n",
    "        bestdeadlineIndex = res_rank[i][0]\n",
    "        bestdeadline = final_pop[bestdeadlineIndex]\n",
    "        if(non_dominant_all_training(bestdeadline)):\n",
    "            print(\"Final Delay: \" + str(res_rank[i][1]))\n",
    "            print(\"Truthful_rate: \", (number_truthful)/len(res_rank),number_truthful,len(res_rank) )\n",
    "            break;\n",
    "    #print(progress)\n",
    "    plt.plot(progress)\n",
    "    plt.ylabel('Delay')\n",
    "    plt.xlabel('Generation')\n",
    "    plt.show()\n",
    "    return bestdeadline"
   ]
  },
  {
   "cell_type": "markdown",
   "metadata": {},
   "source": [
    "## Running the genetic algorithm"
   ]
  },
  {
   "cell_type": "markdown",
   "metadata": {},
   "source": [
    "Create list of cities"
   ]
  },
  {
   "cell_type": "markdown",
   "metadata": {},
   "source": [
    "Run the genetic algorithm"
   ]
  },
  {
   "cell_type": "code",
   "execution_count": null,
   "metadata": {
    "ExecuteTime": {
     "end_time": "2021-05-09T01:28:22.144198Z",
     "start_time": "2021-05-09T01:28:21.470Z"
    }
   },
   "outputs": [],
   "source": [
    "result = geneticAlgorithm(pop, popSize, eliteSize, mutationRate, generations)"
   ]
  },
  {
   "cell_type": "code",
   "execution_count": null,
   "metadata": {
    "ExecuteTime": {
     "end_time": "2021-05-09T01:28:22.144198Z",
     "start_time": "2021-05-09T01:28:21.471Z"
    }
   },
   "outputs": [],
   "source": [
    "print(\"training delay\")\n",
    "print(result.delay)\n",
    "print(\"training deadline:\")\n",
    "result.debug()"
   ]
  },
  {
   "cell_type": "code",
   "execution_count": null,
   "metadata": {
    "ExecuteTime": {
     "end_time": "2021-05-09T01:28:22.144198Z",
     "start_time": "2021-05-09T01:28:21.472Z"
    }
   },
   "outputs": [],
   "source": [
    "print(run_all_training_test(result))\n",
    "print(run_all_test(result))\n",
    "#Cost Sharing\n",
    "def run_test(head):\n",
    "    sum_delay=0\n",
    "    max_delay=0\n",
    "    test_number=0\n",
    "    seconds_start=time.time()\n",
    "    for i in range(len(X_test)):\n",
    "        test_number+=1\n",
    "        test = copy.deepcopy(X_test[i])\n",
    "        \n",
    "        temp_sum_delay, temp_max_delay_list = run_loop(test,head)\n",
    "\n",
    "        max_delay+=max(temp_max_delay_list)\n",
    "        \n",
    "        sum_delay+=temp_sum_delay\n",
    "        \n",
    "                \n",
    "    #print(\"max_delay\",max_delay/test_number);\n",
    "    if(target == \"min_sum\"):\n",
    "        return sum_delay/test_number\n",
    "    if(target == \"min_max\"):\n",
    "        return max_delay/test_number\n",
    "\n",
    "    return max_delay/test_number,sum_delay/test_number\n",
    "\n",
    "ans_result = run_test(result) \n",
    "print(\"test:\",ans_result)"
   ]
  },
  {
   "cell_type": "code",
   "execution_count": null,
   "metadata": {
    "ExecuteTime": {
     "end_time": "2021-05-09T01:28:22.144198Z",
     "start_time": "2021-05-09T01:28:21.475Z"
    }
   },
   "outputs": [],
   "source": [
    "print(\"pure CS\")\n",
    "run_cs_prue()"
   ]
  },
  {
   "cell_type": "code",
   "execution_count": null,
   "metadata": {
    "ExecuteTime": {
     "end_time": "2021-05-09T01:28:22.144198Z",
     "start_time": "2021-05-09T01:28:21.477Z"
    }
   },
   "outputs": [],
   "source": [
    "class Foo(object):\n",
    "\n",
    "    def __init__(self, test_item, test_change_item, deadline):\n",
    "        self.test_item = test_item\n",
    "        self.test_change_item = test_change_item\n",
    "        self.deadline = deadline\n",
    "\n",
    "    def __lt__(self, other):\n",
    "        return self.test_change_item < other.test_change_item\n",
    "    \n",
    "def cost_sharing_with_deadline(test,t_c,target):\n",
    "    temp_max_delay_list=[0 for i in range(len(test))]\n",
    "    temp_sum_delay=0\n",
    "    result=False\n",
    "    for k in range(len(test),0,-1):\n",
    "        count=0;\n",
    "        delay=0;\n",
    "        for ii in range(len(test)):\n",
    "            item= test[ii]\n",
    "            if(item+1e-9>=target/k):\n",
    "                count+=1;\n",
    "            else:\n",
    "                delay+=t_c[ii];\n",
    "                temp_max_delay_list[ii]=t_c[ii]\n",
    "            \n",
    "        if(count>=k):\n",
    "            temp_sum_delay+=delay;\n",
    "            result=True\n",
    "            break;\n",
    "        if(k<=1):\n",
    "            #print(test,number_n);\n",
    "            temp_max_delay_list=t_c\n",
    "            temp_sum_delay=sum(t_c);\n",
    "            result=False\n",
    "            \n",
    "    return temp_max_delay_list,temp_sum_delay,result\n",
    "    \n",
    "def cost_sharing_with_deadline_free(n,_i,numbers_of_people_will_pay,started_k):\n",
    "    \n",
    "    for k in range(started_k,0,-1):\n",
    "        if(n-_i<=k):\n",
    "            x=k-1\n",
    "        else:\n",
    "            x=k\n",
    "        #print(n,_i,x,numbers_of_people_will_pay[x],k)\n",
    "        if(numbers_of_people_will_pay[x]>=k):\n",
    "            return True,k\n",
    "    return False,0\n",
    "    \n",
    "#Cost Sharing\n",
    "def run_cs_test(deadline_list):\n",
    "    sum_delay=0\n",
    "    max_delay=0\n",
    "    test_number=0\n",
    "    seconds_start=time.time()\n",
    "    for i in range(len(X_test)):\n",
    "#        if(i%1000==0):\n",
    "#            seconds=time.time()\n",
    "#            print(\"times: \",seconds-seconds_start)\n",
    "        test_number+=1\n",
    "        temp_max_delay=0\n",
    "        temp_delay=0\n",
    "        test = copy.deepcopy(X_test[i])\n",
    "        #test_change = copy.deepcopy(X_test[i]);\n",
    "        test_change_temp = []\n",
    "        Foo_list = []\n",
    "        \n",
    "#         seconds=time.time()\n",
    "#         print(\"times: \",seconds-seconds_start)\n",
    "        \n",
    "        \n",
    "        for j in range(len(test)):\n",
    "            test_change_temp.append(test[j] * deadline_list[j])\n",
    "            Foo_list.append(Foo(test[j],test_change_temp[j],deadline_list[j]))\n",
    "            \n",
    "        Foo_list.sort(reverse=False)\n",
    "        \n",
    "\n",
    "        for j in range(len(test)):\n",
    "            test[j]=Foo_list[j].test_item\n",
    "            test_change_temp[j]=Foo_list[j].test_change_item\n",
    "            deadline_list[j]=Foo_list[j].deadline\n",
    "\n",
    "        test_change = copy.deepcopy(test_change_temp);\n",
    "        \n",
    "        numbers_of_people_will_pay = [-10 for ii in range(len(test_change)+2)]#pay 1/k\n",
    "        \n",
    "#         seconds=time.time()\n",
    "#         print(\"times: \",seconds-seconds_start)\n",
    "        \n",
    "        k = 1\n",
    "        started=len(test_change)-1\n",
    "        end_k=-10\n",
    "        for j in range(len(test_change)):\n",
    "            if(k<=len(test_change)):\n",
    "                for people_id in range(started,-1,-1):\n",
    "                    if(test_change[people_id]+1e-9>=1.0/k):\n",
    "                        started=people_id\n",
    "                        numbers_of_people_will_pay[k]=len(test_change)-people_id\n",
    "                        end_k=len(test_change)-people_id\n",
    "                    else:\n",
    "                        k+=1\n",
    "                        break;\n",
    "                    \n",
    "        for j in range(k,len(test_change)+1):\n",
    "            numbers_of_people_will_pay[j]=end_k\n",
    "            \n",
    "        deadlist_new=copy.deepcopy(deadline_list)\n",
    "        \n",
    "        temp_max_delay_list,temp_sum_delay,judge_i =  cost_sharing_with_deadline(test_change,\n",
    "                        deadlist_new,1.0)\n",
    "        \n",
    "        judge_i= True\n",
    "        started_k = len(test)\n",
    "        for _i in range(len(test_change)):\n",
    "            if judge_i:\n",
    "                judge_i,started_k =  cost_sharing_with_deadline_free(len(test_change),\n",
    "                    _i,numbers_of_people_will_pay,started_k)\n",
    "                \n",
    "                \n",
    "            started_k+=1\n",
    "            if(judge_i==False):\n",
    "                temp_sum_delay += (1.0-deadline_list[_i])\n",
    "                temp_max_delay_list[_i] += (1.0-deadline_list[_i])\n",
    "        \n",
    "        max_delay+=max(temp_max_delay_list)\n",
    "        \n",
    "        sum_delay+=temp_sum_delay\n",
    "        \n",
    "                \n",
    "    #print(\"max_delay\",max_delay/test_number);\n",
    "                \n",
    "\n",
    "    return max_delay/test_number,sum_delay/test_number"
   ]
  },
  {
   "cell_type": "code",
   "execution_count": null,
   "metadata": {
    "ExecuteTime": {
     "end_time": "2021-05-09T01:28:22.144198Z",
     "start_time": "2021-05-09T01:28:21.478Z"
    }
   },
   "outputs": [],
   "source": [
    "list_1=[]\n",
    "list_2=[]\n",
    "list_3=[]\n",
    "for i in range(1,101):\n",
    "    x=float(i)/100\n",
    "    xx=[x for i in range(Agent_number_n)]\n",
    "    #print(xx)\n",
    "    res1,res2=run_cs_test(xx)\n",
    "    list_1.append(res1)\n",
    "    list_2.append(res2)\n",
    "    list_3.append(x)\n",
    "print(\"max_delay:\",min(list_1),\"deadline:\",list_3[list_1.index(min(list_1))])\n",
    "print(\"sum_dealy:\",min(list_2),\"deadline:\",list_3[list_2.index(min(list_2))])"
   ]
  },
  {
   "cell_type": "code",
   "execution_count": null,
   "metadata": {
    "ExecuteTime": {
     "end_time": "2021-05-09T01:28:22.144198Z",
     "start_time": "2021-05-09T01:28:21.479Z"
    }
   },
   "outputs": [],
   "source": [
    "print(\"target:\",target)\n",
    "print(\"sum_delay\")\n",
    "print(\"diff_deadline:\",min(list_2))"
   ]
  },
  {
   "cell_type": "code",
   "execution_count": null,
   "metadata": {
    "ExecuteTime": {
     "end_time": "2021-05-09T01:28:22.144198Z",
     "start_time": "2021-05-09T01:28:21.481Z"
    }
   },
   "outputs": [],
   "source": [
    "print(\"max_delay\")\n",
    "print(\"diff_deadline:\",min(list_1))\n",
    "#print(\"{:.4%}\".format(run_cs_test(result.deadline)[0]/min(list_1)))"
   ]
  },
  {
   "cell_type": "code",
   "execution_count": null,
   "metadata": {
    "ExecuteTime": {
     "end_time": "2021-05-09T01:28:22.144198Z",
     "start_time": "2021-05-09T01:28:21.482Z"
    }
   },
   "outputs": [],
   "source": [
    "def cost_sharing_with_deadline_old(test,t_c,target):\n",
    "    temp_max_delay_list=[0 for i in range(len(test))]\n",
    "    temp_sum_delay=0\n",
    "    result=False\n",
    "    for k in range(len(test),0,-1):\n",
    "        count=0;\n",
    "        delay=0;\n",
    "        for ii in range(len(test)):\n",
    "            item= test[ii]\n",
    "            if(item+1e-9>=target/k):\n",
    "                count+=1;\n",
    "            else:\n",
    "                delay+=t_c[ii];\n",
    "                temp_max_delay_list[ii]=t_c[ii]\n",
    "            \n",
    "        if(count>=k):\n",
    "            temp_sum_delay+=delay;\n",
    "            result=True\n",
    "            break;\n",
    "        if(k<=1):\n",
    "            #print(test,number_n);\n",
    "            temp_max_delay_list=t_c\n",
    "            temp_sum_delay=sum(t_c);\n",
    "            result=False\n",
    "            \n",
    "    return temp_max_delay_list,temp_sum_delay,result\n",
    "\n",
    "\n",
    "\n",
    "#Cost Sharing\n",
    "def run_cs_old(deadline_list):\n",
    "    sum_delay=0\n",
    "    max_delay=0\n",
    "    test_number=0\n",
    "    for i in range(len(X_test)):\n",
    "        test_number+=1\n",
    "        temp_max_delay=0\n",
    "        temp_delay=0\n",
    "        test = copy.deepcopy(X_test[i])\n",
    "        #test_change = copy.deepcopy(X_test[i]);\n",
    "        test_change = []\n",
    "\n",
    "        for j in range(len(test)):\n",
    "            test_change.append(test[j] * deadline_list[j])\n",
    "            \n",
    "        \n",
    "        temp_max_delay_list,temp_sum_delay,judge1 = cost_sharing_with_deadline_old(test_change,\n",
    "                        copy.deepcopy(deadline_list),1.0)\n",
    "        for j in range(len(test_change)):\n",
    "            test_i = copy.deepcopy(test_change);\n",
    "            test_i = np.delete(test_i, j)\n",
    "            \n",
    "            deadline_i = copy.deepcopy(deadline_list);\n",
    "            deadline_i = np.delete(deadline_i, j)\n",
    "            \n",
    "            temp_max_delay_i_list,temp_sum_delay_i,judge_i = cost_sharing_with_deadline_old(test_i,\n",
    "                        deadline_i,1.0)\n",
    "            \n",
    "            if(judge_i==False):\n",
    "                temp_sum_delay += (1.0-deadline_list[j])\n",
    "                temp_max_delay_list[j] += (1.0-deadline_list[j])\n",
    "                \n",
    "            \n",
    "        \n",
    "        max_delay+=max(temp_max_delay_list)\n",
    "        \n",
    "        sum_delay+=temp_sum_delay\n",
    "        \n",
    "    print(\"deadline: \",deadline_list)\n",
    "    print(\"sum_delay: \",sum_delay/test_number)\n",
    "    print(\"max_delay: \",max_delay/test_number)\n",
    "    print()\n",
    "    return max_delay/test_number,sum_delay/test_number\n",
    "\n",
    "\n",
    "ans_max = run_cs_old([list_3[list_1.index(min(list_1))] for i in range(Agent_number_n)])[0]\n",
    "print(ans_max)\n",
    "print()\n",
    "ans_sum = run_cs_old([list_3[list_2.index(min(list_2))] for i in range(Agent_number_n)])[1]\n",
    "print(run_cs_old([list_3[list_2.index(min(list_2))] for i in range(Agent_number_n)]))"
   ]
  },
  {
   "cell_type": "code",
   "execution_count": null,
   "metadata": {
    "ExecuteTime": {
     "end_time": "2021-05-09T01:28:22.144198Z",
     "start_time": "2021-05-09T01:28:21.483Z"
    }
   },
   "outputs": [],
   "source": [
    "print(\"one deadline sum delay:\",ans_sum)\n",
    "print(\"one deadline max delay:\",ans_max)\n",
    "print(\"ga targaet delay:\",target,ans_result)\n",
    "if(target == \"min_sum\"):\n",
    "    print(target,\"{:.4%}\".format(ans_result/ans_sum))\n",
    "else:\n",
    "    print(target,\"{:.4%}\".format(ans_result/ans_max))"
   ]
  },
  {
   "cell_type": "code",
   "execution_count": null,
   "metadata": {
    "ExecuteTime": {
     "end_time": "2021-05-09T01:28:22.144198Z",
     "start_time": "2021-05-09T01:28:21.485Z"
    }
   },
   "outputs": [],
   "source": [
    "target = \"min_max\"\n",
    "ans_result2 = run_test(result) \n",
    "\n",
    "if(target == \"min_sum\"):\n",
    "    print(\"{:.4%}\".format(ans_result2/ans_sum))\n",
    "else:\n",
    "    print(\"{:.4%}\".format(ans_result2/ans_max))"
   ]
  }
 ],
 "metadata": {
  "hide_input": false,
  "kernelspec": {
   "display_name": "Python 3",
   "language": "python",
   "name": "python3"
  },
  "language_info": {
   "codemirror_mode": {
    "name": "ipython",
    "version": 3
   },
   "file_extension": ".py",
   "mimetype": "text/x-python",
   "name": "python",
   "nbconvert_exporter": "python",
   "pygments_lexer": "ipython3",
   "version": "3.8.3"
  },
  "toc": {
   "base_numbering": 1,
   "nav_menu": {},
   "number_sections": true,
   "sideBar": true,
   "skip_h1_title": false,
   "title_cell": "Table of Contents",
   "title_sidebar": "Contents",
   "toc_cell": false,
   "toc_position": {},
   "toc_section_display": true,
   "toc_window_display": false
  },
  "varInspector": {
   "cols": {
    "lenName": 16,
    "lenType": 16,
    "lenVar": 40
   },
   "kernels_config": {
    "python": {
     "delete_cmd_postfix": "",
     "delete_cmd_prefix": "del ",
     "library": "var_list.py",
     "varRefreshCmd": "print(var_dic_list())"
    },
    "r": {
     "delete_cmd_postfix": ") ",
     "delete_cmd_prefix": "rm(",
     "library": "var_list.r",
     "varRefreshCmd": "cat(var_dic_list()) "
    }
   },
   "types_to_exclude": [
    "module",
    "function",
    "builtin_function_or_method",
    "instance",
    "_Feature"
   ],
   "window_display": false
  }
 },
 "nbformat": 4,
 "nbformat_minor": 2
}
