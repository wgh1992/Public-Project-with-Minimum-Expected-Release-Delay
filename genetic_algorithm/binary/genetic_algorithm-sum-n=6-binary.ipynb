{
 "cells": [
  {
   "cell_type": "code",
   "execution_count": 1,
   "metadata": {
    "ExecuteTime": {
     "end_time": "2021-03-03T06:16:20.809884Z",
     "start_time": "2021-03-03T06:16:19.355940Z"
    }
   },
   "outputs": [
    {
     "name": "stderr",
     "output_type": "stream",
     "text": [
      "D:\\ComputerSoftwares\\Anaconda\\lib\\site-packages\\sklearn\\utils\\deprecation.py:143: FutureWarning: The sklearn.datasets.samples_generator module is  deprecated in version 0.22 and will be removed in version 0.24. The corresponding classes / functions should instead be imported from sklearn.datasets. Anything that cannot be imported from sklearn.datasets is now part of the private API.\n",
      "  warnings.warn(message, FutureWarning)\n"
     ]
    }
   ],
   "source": [
    "import math\n",
    "import random\n",
    "import torch\n",
    "import numpy as np\n",
    "import torch.nn.functional\n",
    "import matplotlib.pyplot as plt\n",
    "import torch.optim as opt\n",
    "from torch.autograd import Variable\n",
    "from sklearn.model_selection import train_test_split\n",
    "import copy\n",
    "import scipy.stats as st\n",
    "from sklearn.datasets.samples_generator import make_blobs\n",
    "from matplotlib.colors import LogNorm \n",
    "import matplotlib.cm as cm\n",
    "import numpy as np, random, operator, pandas as pd, matplotlib.pyplot as plt\n",
    "import copy\n",
    "import time"
   ]
  },
  {
   "cell_type": "code",
   "execution_count": 2,
   "metadata": {
    "ExecuteTime": {
     "end_time": "2021-03-03T06:16:20.817861Z",
     "start_time": "2021-03-03T06:16:20.810880Z"
    }
   },
   "outputs": [],
   "source": [
    "#global veriable \n",
    "Uniform_low_bound=0\n",
    "Uniform_up_bound=1\n",
    "Agent_number_n=6\n",
    "\n",
    "number_of_groups=2\n",
    "\n",
    "Normal_loc=0.5\n",
    "Normal_scale=0.2\n",
    "Normal_loc1=0.3\n",
    "Normal_loc2=0.7\n",
    "Normal_scale1=0.1\n",
    "Normal_scale2=0.1\n",
    "Distribution_number=10000\n",
    "#target = \"min_max\"\n",
    "target = \"min_sum\""
   ]
  },
  {
   "cell_type": "code",
   "execution_count": 3,
   "metadata": {
    "ExecuteTime": {
     "end_time": "2021-03-03T06:16:20.833508Z",
     "start_time": "2021-03-03T06:16:20.820056Z"
    }
   },
   "outputs": [],
   "source": [
    "popSize = 200\n",
    "eliteSize = 10\n",
    "mutationRate = 0.05\n",
    "generations = 50\n",
    "\n",
    "global NeighborhoodRate\n",
    "NeighborhoodRate = 0.01"
   ]
  },
  {
   "cell_type": "code",
   "execution_count": 4,
   "metadata": {
    "ExecuteTime": {
     "end_time": "2021-03-03T06:16:20.840489Z",
     "start_time": "2021-03-03T06:16:20.835502Z"
    }
   },
   "outputs": [],
   "source": [
    "class Foo(object):\n",
    "\n",
    "    def __init__(self, test_item, test_change_item, deadline):\n",
    "        self.test_item = test_item\n",
    "        self.test_change_item = test_change_item\n",
    "        self.deadline = deadline\n",
    "\n",
    "    def __lt__(self, other):\n",
    "        return self.test_change_item < other.test_change_item"
   ]
  },
  {
   "cell_type": "code",
   "execution_count": 5,
   "metadata": {
    "ExecuteTime": {
     "end_time": "2021-03-03T06:16:21.391243Z",
     "start_time": "2021-03-03T06:16:20.842484Z"
    }
   },
   "outputs": [
    {
     "name": "stdout",
     "output_type": "stream",
     "text": [
      "[0 1 1 0 1 1]\n"
     ]
    },
    {
     "data": {
      "image/png": "[encoded data removed]",
      "text/plain": [
       "<Figure size 432x288 with 1 Axes>"
      ]
     },
     "metadata": {
      "needs_background": "light"
     },
     "output_type": "display_data"
    },
    {
     "name": "stdout",
     "output_type": "stream",
     "text": [
      "1000\n",
      "9000\n"
     ]
    }
   ],
   "source": [
    "\n",
    "seed = 7\n",
    "np.random.seed(seed)\n",
    "#exec(open('distribution/uniform.py').read())\n",
    "#exec(open('distribution/beta.py').read())\n",
    "exec(open('../../distribution/twopeak.py').read())\n",
    "for i in range(len(value_list)):\n",
    "    for j in range(len(value_list[0])):\n",
    "        if(value_list[i][j]<=0):\n",
    "            value_list[i][j]=0\n",
    "        if(value_list[i][j]>=1):\n",
    "            value_list[i][j]=1\n",
    "            \n",
    "value_list1=np.array(value_list)\n",
    "for i in range(min(Agent_number_n,1)):\n",
    "    pa=value_list1[:,i]\n",
    "    plt.hist(pa,bins=200)\n",
    "    plt.show()\n",
    "\n",
    "\n",
    "X_train,  X_test = train_test_split(value_list, test_size=0.9, random_state=seed)\n",
    "\n",
    "dataset_size = len(X_train)\n",
    "print(dataset_size)\n",
    "#print(X_train[:100])\n",
    "print(len(X_test))\n",
    "#run_cs()"
   ]
  },
  {
   "cell_type": "code",
   "execution_count": 6,
   "metadata": {
    "ExecuteTime": {
     "end_time": "2021-03-03T06:16:21.947871Z",
     "start_time": "2021-03-03T06:16:21.392241Z"
    }
   },
   "outputs": [
    {
     "name": "stdout",
     "output_type": "stream",
     "text": [
      "max_delay 0.9835555555555555\n",
      "sum_delay 2.9993333333333334\n"
     ]
    }
   ],
   "source": [
    "#Cost Sharing\n",
    "def run_cs_prue():\n",
    "    sum_delay=0\n",
    "    max_delay=0\n",
    "    test_number=0\n",
    "    for i in range(len(X_test)):\n",
    "        test_number+=1\n",
    "        temp_max_delay=0\n",
    "        temp_delay=0\n",
    "        test=X_test[i];\n",
    "        \n",
    "        for k in range(Agent_number_n,0,-1):\n",
    "            count=0;\n",
    "            delay=0;\n",
    "            for item in test:\n",
    "                if(item+1e-9>=1.0/k):\n",
    "                    count+=1;\n",
    "                else:\n",
    "                    delay+=1;\n",
    "            if(count>=k):\n",
    "                temp_delay=delay;\n",
    "                if temp_delay != 0 :\n",
    "                    temp_max_delay = 1\n",
    "                break;\n",
    "            if(k<=1):\n",
    "                #print(test);\n",
    "                temp_delay=Agent_number_n;\n",
    "                temp_max_delay=1\n",
    "        sum_delay+=temp_delay\n",
    "        max_delay+=temp_max_delay\n",
    "                \n",
    "    print(\"max_delay\",max_delay/test_number);\n",
    "    print(\"sum_delay\",sum_delay/test_number);\n",
    "    \n",
    "run_cs_prue()"
   ]
  },
  {
   "cell_type": "code",
   "execution_count": 7,
   "metadata": {
    "ExecuteTime": {
     "end_time": "2021-03-03T06:16:21.968780Z",
     "start_time": "2021-03-03T06:16:21.948870Z"
    }
   },
   "outputs": [],
   "source": [
    "def cost_sharing_with_deadline(test,t_c,target):\n",
    "    temp_max_delay_list=[0 for i in range(len(test))]\n",
    "    temp_sum_delay=0\n",
    "    result=False\n",
    "    for k in range(len(test),0,-1):\n",
    "        count=0;\n",
    "        delay=0;\n",
    "        for ii in range(len(test)):\n",
    "            item= test[ii]\n",
    "            if(item+1e-9>=target/k):\n",
    "                count+=1;\n",
    "            else:\n",
    "                delay+=t_c[ii];\n",
    "                temp_max_delay_list[ii]=t_c[ii]\n",
    "            \n",
    "        if(count>=k):\n",
    "            temp_sum_delay+=delay;\n",
    "            result=True\n",
    "            break;\n",
    "        if(k<=1):\n",
    "            #print(test,number_n);\n",
    "            temp_max_delay_list=t_c\n",
    "            temp_sum_delay=sum(t_c);\n",
    "            result=False\n",
    "            \n",
    "    return temp_max_delay_list,temp_sum_delay,result\n",
    "\n",
    "\n",
    "\n",
    "def cost_sharing_with_deadline_free(n,_i,numbers_of_people_will_pay,started_k):\n",
    "    \n",
    "    for k in range(started_k,0,-1):\n",
    "        if(n-_i<=k):\n",
    "            x=k-1\n",
    "        else:\n",
    "            x=k\n",
    "        #print(n,_i,x,numbers_of_people_will_pay[x],k)\n",
    "        if(numbers_of_people_will_pay[x]>=k):\n",
    "            return True,k\n",
    "    return False,0\n",
    "\n",
    "#Cost Sharing\n",
    "def run_cs(deadline_list):\n",
    "    sum_delay=0\n",
    "    max_delay=0\n",
    "    test_number=0\n",
    "    seconds_start=time.time()\n",
    "    for i in range(len(X_train)):\n",
    "#        if(i%1000==0):\n",
    "#            seconds=time.time()\n",
    "#            print(\"times: \",seconds-seconds_start)\n",
    "        test_number+=1\n",
    "        temp_max_delay=0\n",
    "        temp_delay=0\n",
    "        test = copy.deepcopy(X_train[i])\n",
    "        #test_change = copy.deepcopy(X_test[i]);\n",
    "        test_change_temp = []\n",
    "        Foo_list = []\n",
    "        \n",
    "#         seconds=time.time()\n",
    "#         print(\"times: \",seconds-seconds_start)\n",
    "        \n",
    "        \n",
    "        for j in range(len(test)):\n",
    "            test_change_temp.append(test[j] * deadline_list[j])\n",
    "            Foo_list.append(Foo(test[j],test_change_temp[j],deadline_list[j]))\n",
    "            \n",
    "        Foo_list.sort(reverse=False)\n",
    "        \n",
    "\n",
    "        for j in range(len(test)):\n",
    "            test[j]=Foo_list[j].test_item\n",
    "            test_change_temp[j]=Foo_list[j].test_change_item\n",
    "            deadline_list[j]=Foo_list[j].deadline\n",
    "\n",
    "        test_change = copy.deepcopy(test_change_temp);\n",
    "        \n",
    "        numbers_of_people_will_pay = [-10 for ii in range(len(test_change)+2)]#pay 1/k\n",
    "        \n",
    "#         seconds=time.time()\n",
    "#         print(\"times: \",seconds-seconds_start)\n",
    "        \n",
    "        k = 1\n",
    "        started=len(test_change)-1\n",
    "        end_k=-10\n",
    "        for j in range(len(test_change)):\n",
    "            if(k<=len(test_change)):\n",
    "                for people_id in range(started,-1,-1):\n",
    "                    if(test_change[people_id]+1e-9>=1.0/k):\n",
    "                        started=people_id\n",
    "                        numbers_of_people_will_pay[k]=len(test_change)-people_id\n",
    "                        end_k=len(test_change)-people_id\n",
    "                    else:\n",
    "                        k+=1\n",
    "                        break;\n",
    "                    \n",
    "        for j in range(k,len(test_change)+1):\n",
    "            numbers_of_people_will_pay[j]=end_k\n",
    "            \n",
    "        deadlist_new=copy.deepcopy(deadline_list)\n",
    "        \n",
    "        temp_max_delay_list,temp_sum_delay,judge_i =  cost_sharing_with_deadline(test_change,\n",
    "                        deadlist_new,1.0)\n",
    "        \n",
    "        judge_i= True\n",
    "        started_k = len(test)\n",
    "        for _i in range(len(test_change)):\n",
    "            if judge_i:\n",
    "                judge_i,started_k =  cost_sharing_with_deadline_free(len(test_change),\n",
    "                    _i,numbers_of_people_will_pay,started_k)\n",
    "                \n",
    "                \n",
    "            started_k+=1\n",
    "            if(judge_i==False):\n",
    "                temp_sum_delay += (1.0-deadline_list[_i])\n",
    "                temp_max_delay_list[_i] += (1.0-deadline_list[_i])\n",
    "        \n",
    "        max_delay+=max(temp_max_delay_list)\n",
    "        \n",
    "        sum_delay+=temp_sum_delay\n",
    "        \n",
    "                \n",
    "    #print(\"max_delay\",max_delay/test_number);\n",
    "    if(target == \"min_sum\"):\n",
    "        return sum_delay/test_number\n",
    "    if(target == \"min_max\"):\n",
    "        return max_delay/test_number\n",
    "    #print(\"deadline:\",deadline,\" sum_delay: \",sum_delay/test_number);\n",
    "    \n"
   ]
  },
  {
   "cell_type": "markdown",
   "metadata": {},
   "source": [
    "1.Create a fitness function"
   ]
  },
  {
   "cell_type": "code",
   "execution_count": 8,
   "metadata": {
    "ExecuteTime": {
     "end_time": "2021-03-03T06:16:21.978462Z",
     "start_time": "2021-03-03T06:16:21.971810Z"
    }
   },
   "outputs": [],
   "source": [
    "class Deadline_list:\n",
    "    def __init__(self, deadline):\n",
    "        self.deadline = deadline\n",
    "        self.delay = 0\n",
    "        self.fitness = 0.0\n",
    "    \n",
    "    def Delay(self):\n",
    "        if self.fitness == 0:\n",
    "            self.delay = run_cs(self.deadline)\n",
    "            self.fitness = self.delay\n",
    "            \n",
    "            #print(self.deadline,self.fitness)\n",
    "        return self.delay,self.deadline\n"
   ]
  },
  {
   "cell_type": "markdown",
   "metadata": {},
   "source": [
    "## Create our initial population"
   ]
  },
  {
   "cell_type": "markdown",
   "metadata": {},
   "source": [
    "Initial generator"
   ]
  },
  {
   "cell_type": "markdown",
   "metadata": {},
   "source": [
    "Create first \"population\" (list of routes)"
   ]
  },
  {
   "cell_type": "code",
   "execution_count": 9,
   "metadata": {
    "ExecuteTime": {
     "end_time": "2021-03-03T06:16:21.988345Z",
     "start_time": "2021-03-03T06:16:21.981287Z"
    }
   },
   "outputs": [
    {
     "name": "stdout",
     "output_type": "stream",
     "text": [
      "[1.0, 0.5, 0.3333333333333333, 0.25, 0.2, 0.16666666666666666]\n"
     ]
    }
   ],
   "source": [
    "pool_items=[]\n",
    "for i in range(1,Agent_number_n+1):\n",
    "    pool_items.append(1.0/i)\n",
    "# for i in range(0,101):\n",
    "#     pool_items.append(float(i)/100) \n",
    "# for i in range(1,10001):\n",
    "#     pool_items.append(np.random.random())\n",
    "print(pool_items)\n",
    "def produce_initial_Deadline_list(Agent_number_n):\n",
    "    initial_list=[]\n",
    "    for j in range(Agent_number_n):\n",
    "        initial_list.append(pool_items[np.random.randint(0,len(pool_items)-1)])\n",
    "    #print(len(initial_list))\n",
    "    return Deadline_list(np.array(initial_list))\n",
    "\n",
    "def initialPopulation(popSize, Agent_number_n):\n",
    "    population = []\n",
    "    for i in range(0, popSize):\n",
    "         population.append(produce_initial_Deadline_list(Agent_number_n))\n",
    "#     for i in range(0, 100):\n",
    "#         population.append(Deadline_list(np.array([float(i+1)/100 for j in range(Agent_number_n)])))\n",
    "#     for i in range(100, popSize):\n",
    "#         population.append(produce_initial_Deadline_list(Agent_number_n))\n",
    "    return population\n"
   ]
  },
  {
   "cell_type": "markdown",
   "metadata": {},
   "source": [
    "## Create the genetic algorithm"
   ]
  },
  {
   "cell_type": "markdown",
   "metadata": {},
   "source": [
    "Rank individuals"
   ]
  },
  {
   "cell_type": "code",
   "execution_count": 10,
   "metadata": {
    "ExecuteTime": {
     "end_time": "2021-03-03T06:16:21.994331Z",
     "start_time": "2021-03-03T06:16:21.989341Z"
    }
   },
   "outputs": [],
   "source": [
    "def rankDeadlines(population):\n",
    "    fitnessResults = []\n",
    "    for i in range(0,len(population)):\n",
    "        temp = population[i].Delay()\n",
    "        fitnessResults.append([i, temp[0], temp[1]])\n",
    "    fitnessResults = np.array(fitnessResults)\n",
    "    \n",
    "    return sorted(fitnessResults, key = operator.itemgetter(1))"
   ]
  },
  {
   "cell_type": "markdown",
   "metadata": {},
   "source": [
    "Create a selection function that will be used to make the list of parent routes"
   ]
  },
  {
   "cell_type": "code",
   "execution_count": 11,
   "metadata": {
    "ExecuteTime": {
     "end_time": "2021-03-03T06:16:22.002056Z",
     "start_time": "2021-03-03T06:16:21.995325Z"
    }
   },
   "outputs": [],
   "source": [
    "def selection(popRanked, eliteSize):\n",
    "    selectionResults = []\n",
    "    df = pd.DataFrame(np.array(popRanked), columns=[\"Index\",\"Fitness\",\"Deadline\"])\n",
    "    df['cum_sum'] = df.Fitness.cumsum()\n",
    "    df['cum_perc'] = 100*df.cum_sum/df.Fitness.sum()\n",
    "    \n",
    "    for i in range(0, eliteSize):\n",
    "        selectionResults.append(popRanked[i][0])\n",
    "    for i in range(0, int((len(popRanked) - eliteSize)/2)):\n",
    "        pick = 100*random.random()\n",
    "        for i in range(0, len(popRanked)):\n",
    "            if pick <= df.iat[i,3]:\n",
    "                selectionResults.append(popRanked[i][0])\n",
    "                break\n",
    "    return selectionResults"
   ]
  },
  {
   "cell_type": "markdown",
   "metadata": {},
   "source": [
    "Create mating pool"
   ]
  },
  {
   "cell_type": "code",
   "execution_count": 12,
   "metadata": {
    "ExecuteTime": {
     "end_time": "2021-03-03T06:16:22.008068Z",
     "start_time": "2021-03-03T06:16:22.003052Z"
    }
   },
   "outputs": [],
   "source": [
    "def matingPool(population, selectionResults):\n",
    "    matingpool = []\n",
    "    for i in range(0, len(selectionResults)):\n",
    "        index = selectionResults[i]\n",
    "        matingpool.append(population[index])\n",
    "    return matingpool"
   ]
  },
  {
   "cell_type": "markdown",
   "metadata": {},
   "source": [
    "Create a crossover function for two parents to create one child"
   ]
  },
  {
   "cell_type": "code",
   "execution_count": 13,
   "metadata": {
    "ExecuteTime": {
     "end_time": "2021-03-03T06:16:22.017015Z",
     "start_time": "2021-03-03T06:16:22.009035Z"
    }
   },
   "outputs": [],
   "source": [
    "def breed(parent1, parent2):\n",
    "    child = []\n",
    "    childP1 = []\n",
    "    childP2 = []\n",
    "    \n",
    "    geneA = int(random.random() * len(parent1))\n",
    "    geneB = int(random.random() * len(parent1))\n",
    "    \n",
    "    startGene = min(geneA, geneB)\n",
    "    endGene = max(geneA, geneB)\n",
    "\n",
    "    for i in range(startGene, endGene):\n",
    "        childP1.append(parent1[i])\n",
    "        \n",
    "    #childP2 = [item for item in parent2 if item not in childP1]\n",
    "    \n",
    "    for i in range(0, startGene):\n",
    "        child.append(parent2[i])\n",
    "    child = child+childP1\n",
    "    for i in range(endGene, len(parent2)):\n",
    "        child.append(parent2[i])\n",
    "    #child = childP1 + childP2\n",
    "    return child"
   ]
  },
  {
   "cell_type": "markdown",
   "metadata": {},
   "source": [
    "Create function to run crossover over full mating pool"
   ]
  },
  {
   "cell_type": "code",
   "execution_count": 14,
   "metadata": {
    "ExecuteTime": {
     "end_time": "2021-03-03T06:16:22.027869Z",
     "start_time": "2021-03-03T06:16:22.018013Z"
    }
   },
   "outputs": [],
   "source": [
    "def breedPopulation(matingpool, eliteSize):\n",
    "    children = []\n",
    "    length = len(matingpool) - eliteSize\n",
    "    pool = random.sample(matingpool, len(matingpool))\n",
    "\n",
    "    for i in range(0,eliteSize):\n",
    "        children.append(matingpool[i])\n",
    "    \n",
    "    for i in range(0, length):\n",
    "        child = breed(pool[i].deadline, pool[len(matingpool)-i-1].deadline)\n",
    "        children.append(Deadline_list(child))\n",
    "    return children"
   ]
  },
  {
   "cell_type": "markdown",
   "metadata": {},
   "source": [
    "Create function to mutate a single route"
   ]
  },
  {
   "cell_type": "code",
   "execution_count": 15,
   "metadata": {
    "ExecuteTime": {
     "end_time": "2021-03-03T06:16:22.036844Z",
     "start_time": "2021-03-03T06:16:22.029862Z"
    }
   },
   "outputs": [],
   "source": [
    "def mutate(individual, mutationRate):\n",
    "    global NeighborhoodRate \n",
    "    individual_deadline = individual.deadline \n",
    "    \n",
    "    for swapped in range(len(individual_deadline)):\n",
    "        if(random.random() < mutationRate):\n",
    "            swapWith = int(random.random() * len(individual_deadline))\n",
    "            \n",
    "            deadline_1 = copy.deepcopy(individual_deadline[swapped])\n",
    "            deadline_2 = copy.deepcopy(individual_deadline[swapWith])\n",
    "            \n",
    "            individual_deadline[swapped]  = deadline_2\n",
    "            individual_deadline[swapWith] = deadline_1\n",
    "            \n",
    "            individual.fitness=0\n",
    "    \n",
    "    for nerboorhood in range(len(individual_deadline)):\n",
    "        \n",
    "        if(random.random() < NeighborhoodRate):\n",
    "            if(random.random()>=0.5):\n",
    "                individual_deadline[nerboorhood]+= 0.01\n",
    "                if(individual_deadline[nerboorhood]>=1):\n",
    "                    individual_deadline[nerboorhood]=1\n",
    "            else:\n",
    "                individual_deadline[nerboorhood]-= 0.01\n",
    "                if(individual_deadline[nerboorhood]<=0):\n",
    "                    individual_deadline[nerboorhood]=0\n",
    "            individual.fitness=0\n",
    "                \n",
    "    individual.deadline = individual_deadline\n",
    "    return individual"
   ]
  },
  {
   "cell_type": "markdown",
   "metadata": {},
   "source": [
    "Create function to run mutation over entire population"
   ]
  },
  {
   "cell_type": "code",
   "execution_count": 16,
   "metadata": {
    "ExecuteTime": {
     "end_time": "2021-03-03T06:16:22.042838Z",
     "start_time": "2021-03-03T06:16:22.037840Z"
    }
   },
   "outputs": [],
   "source": [
    "def mutatePopulation(population, mutationRate):\n",
    "    mutatedPop = []\n",
    "\n",
    "    for ind in range(0, len(population)):\n",
    "        mutatedInd = mutate(population[ind], mutationRate)\n",
    "        mutatedPop.append(mutatedInd)\n",
    "    return mutatedPop"
   ]
  },
  {
   "cell_type": "markdown",
   "metadata": {},
   "source": [
    "Put all steps together to create the next generation"
   ]
  },
  {
   "cell_type": "code",
   "execution_count": 17,
   "metadata": {
    "ExecuteTime": {
     "end_time": "2021-03-03T06:16:22.055690Z",
     "start_time": "2021-03-03T06:16:22.043800Z"
    }
   },
   "outputs": [],
   "source": [
    "def nextGeneration(currentGen, eliteSize, mutationRate):\n",
    "    print(len(currentGen))\n",
    "    popRanked = rankDeadlines(currentGen)\n",
    "    selectionResults = selection(popRanked, eliteSize)\n",
    "    \n",
    "    matingpool = matingPool(currentGen, selectionResults)\n",
    "    \n",
    "\n",
    "#     for i in range(len(currentGen)):\n",
    "#         print(currentGen[i].deadline,currentGen[i].fitness)\n",
    "        \n",
    "#     for i in range(len(matingpool)):\n",
    "#         print(matingpool[i].deadline,matingpool[i].fitness)\n",
    "        \n",
    "    children = breedPopulation(matingpool, eliteSize)\n",
    "\n",
    "    print(len(children))\n",
    "    nextGeneration = mutatePopulation(children, mutationRate)\n",
    "    \n",
    "    for i in range(len(nextGeneration), popSize):\n",
    "        nextGeneration.append(produce_initial_Deadline_list(Agent_number_n))\n",
    "        \n",
    "    return nextGeneration"
   ]
  },
  {
   "cell_type": "code",
   "execution_count": 18,
   "metadata": {
    "ExecuteTime": {
     "end_time": "2021-03-03T06:16:22.065664Z",
     "start_time": "2021-03-03T06:16:22.056706Z"
    }
   },
   "outputs": [],
   "source": [
    "\n",
    "pop = np.array(initialPopulation(popSize, Agent_number_n))\n",
    "\n",
    "# for i in range(len(pop)):\n",
    "#     print(pop[i].deadline)"
   ]
  },
  {
   "cell_type": "code",
   "execution_count": 19,
   "metadata": {
    "ExecuteTime": {
     "end_time": "2021-03-03T06:16:39.126122Z",
     "start_time": "2021-03-03T06:16:22.066660Z"
    }
   },
   "outputs": [],
   "source": [
    "temp_a = np.array(rankDeadlines(pop))\n",
    "#print(temp_a )"
   ]
  },
  {
   "cell_type": "markdown",
   "metadata": {},
   "source": [
    "Final step: create the genetic algorithm"
   ]
  },
  {
   "cell_type": "code",
   "execution_count": 20,
   "metadata": {
    "ExecuteTime": {
     "end_time": "2021-03-03T06:16:39.139329Z",
     "start_time": "2021-03-03T06:16:39.127080Z"
    }
   },
   "outputs": [],
   "source": [
    "def geneticAlgorithm(pop, popSize, eliteSize, mutationRate, generations):\n",
    "\n",
    "    print(\"Initial Delay: \" + str(rankDeadlines(pop)[0][1]))\n",
    "    bestdeadlineIndex = rankDeadlines(pop)[0][0]\n",
    "    bestdeadline = pop[bestdeadlineIndex]\n",
    "    print(\"deadline:\")\n",
    "    for j in range(len (bestdeadline.deadline)):\n",
    "        print('%.4f' % bestdeadline.deadline[j], end=\" \")\n",
    "    print()\n",
    "    print()\n",
    "    progress = []\n",
    "    progress.append(rankDeadlines(pop)[0][1])\n",
    "    for i in range(0, generations):\n",
    "        pop = nextGeneration(pop, eliteSize, mutationRate)\n",
    "        print(\"Generation \" , i , \" : \" + str(rankDeadlines(pop)[0][1]))\n",
    "        progress.append(rankDeadlines(pop)[0][1])\n",
    "        bestdeadlineIndex = rankDeadlines(pop)[0][0]\n",
    "        bestdeadline = pop[bestdeadlineIndex]\n",
    "        print(\"deadline:\")\n",
    "        for j in range(len (bestdeadline.deadline)):\n",
    "            print('%.4f' % bestdeadline.deadline[j], end=\" \")\n",
    "        print()\n",
    "        print()\n",
    "        \n",
    "\n",
    "    \n",
    "    print(\"Final Delay: \" + str(rankDeadlines(pop)[0][1]))\n",
    "    bestdeadlineIndex = rankDeadlines(pop)[0][0]\n",
    "    bestdeadline = pop[bestdeadlineIndex]\n",
    "    \n",
    "    #print(progress)\n",
    "    plt.plot(progress)\n",
    "    plt.ylabel('Delay')\n",
    "    plt.xlabel('Generation')\n",
    "    plt.show()\n",
    "    return bestdeadline"
   ]
  },
  {
   "cell_type": "markdown",
   "metadata": {},
   "source": [
    "## Running the genetic algorithm"
   ]
  },
  {
   "cell_type": "markdown",
   "metadata": {},
   "source": [
    "Create list of cities"
   ]
  },
  {
   "cell_type": "markdown",
   "metadata": {},
   "source": [
    "Run the genetic algorithm"
   ]
  },
  {
   "cell_type": "code",
   "execution_count": 21,
   "metadata": {
    "ExecuteTime": {
     "end_time": "2021-03-03T06:30:31.330858Z",
     "start_time": "2021-03-03T06:16:39.140329Z"
    }
   },
   "outputs": [
    {
     "name": "stdout",
     "output_type": "stream",
     "text": [
      "Initial Delay: 2.2811000000000075\n",
      "deadline:\n",
      "0.5000 0.5000 1.0000 0.2000 0.5000 1.0000 \n",
      "\n",
      "200\n",
      "105\n",
      "Generation  0  : 2.244\n",
      "deadline:\n",
      "0.5000 0.5000 1.0000 0.5000 0.5000 1.0000 \n",
      "\n",
      "200\n",
      "105\n",
      "Generation  1  : 2.243\n",
      "deadline:\n",
      "0.5000 0.5000 1.0000 0.5000 0.5000 1.0000 \n",
      "\n",
      "200\n",
      "105\n",
      "Generation  2  : 2.143\n",
      "deadline:\n",
      "0.5000 0.5000 1.0000 0.5000 0.5000 0.5000 \n",
      "\n",
      "200\n",
      "105\n",
      "Generation  3  : 2.143\n",
      "deadline:\n",
      "0.5000 0.5000 1.0000 0.5000 0.5000 0.5000 \n",
      "\n",
      "200\n",
      "105\n",
      "Generation  4  : 2.143\n",
      "deadline:\n",
      "0.5000 0.5000 1.0000 0.5000 0.5000 0.5000 \n",
      "\n",
      "200\n",
      "105\n",
      "Generation  5  : 2.143\n",
      "deadline:\n",
      "0.5000 0.5000 1.0000 0.5000 0.5000 0.5000 \n",
      "\n",
      "200\n",
      "105\n",
      "Generation  6  : 2.143\n",
      "deadline:\n",
      "0.5000 0.5000 1.0000 0.5000 0.5000 0.5000 \n",
      "\n",
      "200\n",
      "105\n",
      "Generation  7  : 2.143\n",
      "deadline:\n",
      "0.5000 0.5000 1.0000 0.5000 0.5000 0.5000 \n",
      "\n",
      "200\n",
      "105\n",
      "Generation  8  : 2.143\n",
      "deadline:\n",
      "0.5000 0.5000 1.0000 0.5000 0.5000 0.5000 \n",
      "\n",
      "200\n",
      "105\n",
      "Generation  9  : 2.143\n",
      "deadline:\n",
      "0.5000 0.5000 1.0000 0.5000 0.5000 0.5000 \n",
      "\n",
      "200\n",
      "105\n",
      "Generation  10  : 2.143\n",
      "deadline:\n",
      "0.5000 0.5000 1.0000 0.5000 0.5000 0.5000 \n",
      "\n",
      "200\n",
      "105\n",
      "Generation  11  : 2.143\n",
      "deadline:\n",
      "0.5000 0.5000 1.0000 0.5000 0.5000 0.5000 \n",
      "\n",
      "200\n",
      "105\n",
      "Generation  12  : 2.143\n",
      "deadline:\n",
      "0.5000 0.5000 1.0000 0.5000 0.5000 0.5000 \n",
      "\n",
      "200\n",
      "105\n",
      "Generation  13  : 2.143\n",
      "deadline:\n",
      "0.5000 0.5000 1.0000 0.5000 0.5000 0.5000 \n",
      "\n",
      "200\n",
      "105\n",
      "Generation  14  : 2.143\n",
      "deadline:\n",
      "0.5000 0.5000 1.0000 0.5000 0.5000 0.5000 \n",
      "\n",
      "200\n",
      "105\n",
      "Generation  15  : 2.143\n",
      "deadline:\n",
      "0.5000 0.5000 1.0000 0.5000 0.5000 0.5000 \n",
      "\n",
      "200\n",
      "105\n",
      "Generation  16  : 2.143\n",
      "deadline:\n",
      "0.5000 0.5000 1.0000 0.5000 0.5000 0.5000 \n",
      "\n",
      "200\n",
      "105\n",
      "Generation  17  : 2.143\n",
      "deadline:\n",
      "0.5000 0.5000 1.0000 0.5000 0.5000 0.5000 \n",
      "\n",
      "200\n",
      "105\n",
      "Generation  18  : 2.143\n",
      "deadline:\n",
      "0.5000 0.5000 1.0000 0.5000 0.5000 0.5000 \n",
      "\n",
      "200\n",
      "105\n",
      "Generation  19  : 2.143\n",
      "deadline:\n",
      "0.5000 0.5000 1.0000 0.5000 0.5000 0.5000 \n",
      "\n",
      "200\n",
      "105\n",
      "Generation  20  : 2.143\n",
      "deadline:\n",
      "0.5000 0.5000 1.0000 0.5000 0.5000 0.5000 \n",
      "\n",
      "200\n",
      "105\n",
      "Generation  21  : 2.143\n",
      "deadline:\n",
      "0.5000 0.5000 1.0000 0.5000 0.5000 0.5000 \n",
      "\n",
      "200\n",
      "105\n",
      "Generation  22  : 2.143\n",
      "deadline:\n",
      "0.5000 0.5000 1.0000 0.5000 0.5000 0.5000 \n",
      "\n",
      "200\n",
      "105\n",
      "Generation  23  : 2.143\n",
      "deadline:\n",
      "0.5000 0.5000 1.0000 0.5000 0.5000 0.5000 \n",
      "\n",
      "200\n",
      "105\n",
      "Generation  24  : 2.143\n",
      "deadline:\n",
      "0.5000 0.5000 1.0000 0.5000 0.5000 0.5000 \n",
      "\n",
      "200\n",
      "105\n",
      "Generation  25  : 2.143\n",
      "deadline:\n",
      "0.5000 0.5000 1.0000 0.5000 0.5000 0.5000 \n",
      "\n",
      "200\n",
      "105\n",
      "Generation  26  : 2.143\n",
      "deadline:\n",
      "0.5000 0.5000 1.0000 0.5000 0.5000 0.5000 \n",
      "\n",
      "200\n",
      "105\n",
      "Generation  27  : 2.143\n",
      "deadline:\n",
      "0.5000 0.5000 1.0000 0.5000 0.5000 0.5000 \n",
      "\n",
      "200\n",
      "105\n",
      "Generation  28  : 2.143\n",
      "deadline:\n",
      "0.5000 0.5000 1.0000 0.5000 0.5000 0.5000 \n",
      "\n",
      "200\n",
      "105\n",
      "Generation  29  : 2.143\n",
      "deadline:\n",
      "0.5000 0.5000 1.0000 0.5000 0.5000 0.5000 \n",
      "\n",
      "200\n",
      "105\n",
      "Generation  30  : 2.143\n",
      "deadline:\n",
      "0.5000 0.5000 1.0000 0.5000 0.5000 0.5000 \n",
      "\n",
      "200\n",
      "105\n",
      "Generation  31  : 2.143\n",
      "deadline:\n",
      "0.5000 0.5000 1.0000 0.5000 0.5000 0.5000 \n",
      "\n",
      "200\n",
      "105\n",
      "Generation  32  : 2.143\n",
      "deadline:\n",
      "0.5000 0.5000 1.0000 0.5000 0.5000 0.5000 \n",
      "\n",
      "200\n",
      "105\n",
      "Generation  33  : 2.143\n",
      "deadline:\n",
      "0.5000 0.5000 1.0000 0.5000 0.5000 0.5000 \n",
      "\n",
      "200\n",
      "105\n",
      "Generation  34  : 2.143\n",
      "deadline:\n",
      "0.5000 0.5000 1.0000 0.5000 0.5000 0.5000 \n",
      "\n",
      "200\n",
      "105\n",
      "Generation  35  : 2.143\n",
      "deadline:\n",
      "0.5000 0.5000 1.0000 0.5000 0.5000 0.5000 \n",
      "\n",
      "200\n",
      "105\n",
      "Generation  36  : 2.143\n",
      "deadline:\n",
      "0.5000 0.5000 1.0000 0.5000 0.5000 0.5000 \n",
      "\n",
      "200\n",
      "105\n",
      "Generation  37  : 2.143\n",
      "deadline:\n",
      "0.5000 0.5000 1.0000 0.5000 0.5000 0.5000 \n",
      "\n",
      "200\n",
      "105\n",
      "Generation  38  : 2.143\n",
      "deadline:\n",
      "0.5000 0.5000 1.0000 0.5000 0.5000 0.5000 \n",
      "\n",
      "200\n",
      "105\n",
      "Generation  39  : 2.143\n",
      "deadline:\n",
      "0.5000 0.5000 1.0000 0.5000 0.5000 0.5000 \n",
      "\n",
      "200\n",
      "105\n",
      "Generation  40  : 2.143\n",
      "deadline:\n",
      "0.5000 0.5000 1.0000 0.5000 0.5000 0.5000 \n",
      "\n",
      "200\n",
      "105\n",
      "Generation  41  : 2.143\n",
      "deadline:\n",
      "0.5000 0.5000 1.0000 0.5000 0.5000 0.5000 \n",
      "\n",
      "200\n",
      "105\n",
      "Generation  42  : 2.143\n",
      "deadline:\n",
      "0.5000 0.5000 1.0000 0.5000 0.5000 0.5000 \n",
      "\n",
      "200\n",
      "105\n",
      "Generation  43  : 2.143\n",
      "deadline:\n",
      "0.5000 0.5000 1.0000 0.5000 0.5000 0.5000 \n",
      "\n",
      "200\n",
      "105\n",
      "Generation  44  : 2.143\n",
      "deadline:\n",
      "0.5000 0.5000 1.0000 0.5000 0.5000 0.5000 \n",
      "\n",
      "200\n",
      "105\n",
      "Generation  45  : 2.143\n",
      "deadline:\n",
      "0.5000 0.5000 1.0000 0.5000 0.5000 0.5000 \n",
      "\n",
      "200\n",
      "105\n",
      "Generation  46  : 2.143\n",
      "deadline:\n",
      "0.5000 0.5000 1.0000 0.5000 0.5000 0.5000 \n",
      "\n",
      "200\n",
      "105\n",
      "Generation  47  : 2.143\n",
      "deadline:\n",
      "0.5000 0.5000 1.0000 0.5000 0.5000 0.5000 \n",
      "\n",
      "200\n",
      "105\n",
      "Generation  48  : 2.143\n",
      "deadline:\n",
      "0.5000 0.5000 1.0000 0.5000 0.5000 0.5000 \n",
      "\n",
      "200\n",
      "105\n",
      "Generation  49  : 2.143\n",
      "deadline:\n",
      "0.5000 0.5000 1.0000 0.5000 0.5000 0.5000 \n",
      "\n",
      "Final Delay: 2.143\n"
     ]
    },
    {
     "data": {
      "image/png": "[encoded data removed]",
      "text/plain": [
       "<Figure size 432x288 with 1 Axes>"
      ]
     },
     "metadata": {
      "needs_background": "light"
     },
     "output_type": "display_data"
    }
   ],
   "source": [
    "result = geneticAlgorithm(pop, popSize, eliteSize, mutationRate, generations)"
   ]
  },
  {
   "cell_type": "code",
   "execution_count": 22,
   "metadata": {
    "ExecuteTime": {
     "end_time": "2021-03-03T06:30:31.337885Z",
     "start_time": "2021-03-03T06:30:31.331853Z"
    }
   },
   "outputs": [
    {
     "name": "stdout",
     "output_type": "stream",
     "text": [
      "training delay\n",
      "2.143\n",
      "training deadline:\n",
      "0.5\n",
      "0.5\n",
      "1.0\n",
      "0.5\n",
      "0.5\n",
      "0.5\n"
     ]
    }
   ],
   "source": [
    "print(\"training delay\")\n",
    "print(result.delay)\n",
    "print(\"training deadline:\")\n",
    "for i in range(len (result.deadline)):\n",
    "    print(result.deadline[i])"
   ]
  },
  {
   "cell_type": "code",
   "execution_count": 23,
   "metadata": {
    "ExecuteTime": {
     "end_time": "2021-03-03T06:30:32.784901Z",
     "start_time": "2021-03-03T06:30:31.340831Z"
    }
   },
   "outputs": [
    {
     "name": "stdout",
     "output_type": "stream",
     "text": [
      "2.143\n",
      "test: (0.7406666666666667, 2.1767777777777777)\n",
      "1.0 for test: (0.9835555555555555, 2.9993333333333334)\n"
     ]
    }
   ],
   "source": [
    "print(run_cs(result.deadline))\n",
    "\n",
    "#Cost Sharing\n",
    "def run_cs_test(deadline_list):\n",
    "    sum_delay=0\n",
    "    max_delay=0\n",
    "    test_number=0\n",
    "    seconds_start=time.time()\n",
    "    for i in range(len(X_test)):\n",
    "#        if(i%1000==0):\n",
    "#            seconds=time.time()\n",
    "#            print(\"times: \",seconds-seconds_start)\n",
    "        test_number+=1\n",
    "        temp_max_delay=0\n",
    "        temp_delay=0\n",
    "        test = copy.deepcopy(X_test[i])\n",
    "        #test_change = copy.deepcopy(X_test[i]);\n",
    "        test_change_temp = []\n",
    "        Foo_list = []\n",
    "        \n",
    "#         seconds=time.time()\n",
    "#         print(\"times: \",seconds-seconds_start)\n",
    "        \n",
    "        \n",
    "        for j in range(len(test)):\n",
    "            test_change_temp.append(test[j] * deadline_list[j])\n",
    "            Foo_list.append(Foo(test[j],test_change_temp[j],deadline_list[j]))\n",
    "            \n",
    "        Foo_list.sort(reverse=False)\n",
    "        \n",
    "\n",
    "        for j in range(len(test)):\n",
    "            test[j]=Foo_list[j].test_item\n",
    "            test_change_temp[j]=Foo_list[j].test_change_item\n",
    "            deadline_list[j]=Foo_list[j].deadline\n",
    "\n",
    "        test_change = copy.deepcopy(test_change_temp);\n",
    "        \n",
    "        numbers_of_people_will_pay = [-10 for ii in range(len(test_change)+2)]#pay 1/k\n",
    "        \n",
    "#         seconds=time.time()\n",
    "#         print(\"times: \",seconds-seconds_start)\n",
    "        \n",
    "        k = 1\n",
    "        started=len(test_change)-1\n",
    "        end_k=-10\n",
    "        for j in range(len(test_change)):\n",
    "            if(k<=len(test_change)):\n",
    "                for people_id in range(started,-1,-1):\n",
    "                    if(test_change[people_id]+1e-9>=1.0/k):\n",
    "                        started=people_id\n",
    "                        numbers_of_people_will_pay[k]=len(test_change)-people_id\n",
    "                        end_k=len(test_change)-people_id\n",
    "                    else:\n",
    "                        k+=1\n",
    "                        break;\n",
    "                    \n",
    "        for j in range(k,len(test_change)+1):\n",
    "            numbers_of_people_will_pay[j]=end_k\n",
    "            \n",
    "\n",
    "        deadlist_new=copy.deepcopy(deadline_list)\n",
    "        \n",
    "        temp_max_delay_list,temp_sum_delay,judge_i =  cost_sharing_with_deadline(test_change,\n",
    "                        deadlist_new,1.0)\n",
    "        \n",
    "        judge_i= True\n",
    "        started_k = len(test)\n",
    "        \n",
    "        for _i in range(len(test_change)):\n",
    "            if judge_i:\n",
    "                judge_i,started_k =  cost_sharing_with_deadline_free(len(test_change),\n",
    "                    _i,numbers_of_people_will_pay,started_k)\n",
    "                \n",
    "            \n",
    "            started_k+=1\n",
    "            if(judge_i==False):\n",
    "                temp_sum_delay += (1.0-deadline_list[_i])\n",
    "                temp_max_delay_list[_i] += (1.0-deadline_list[_i])\n",
    "        \n",
    "        max_delay+=max(temp_max_delay_list)\n",
    "        \n",
    "        sum_delay+=temp_sum_delay\n",
    "    #print(\"max_delay\",max_delay/test_number);\n",
    "    return max_delay/test_number,sum_delay/test_number\n",
    "\n",
    "print(\"test:\",run_cs_test(result.deadline))\n",
    "print(\"1.0 for test:\",run_cs_test([1.0 for i in range(Agent_number_n)]))"
   ]
  },
  {
   "cell_type": "code",
   "execution_count": 24,
   "metadata": {
    "ExecuteTime": {
     "end_time": "2021-03-03T06:30:33.309709Z",
     "start_time": "2021-03-03T06:30:32.785939Z"
    }
   },
   "outputs": [
    {
     "name": "stdout",
     "output_type": "stream",
     "text": [
      "pure CS\n",
      "max_delay 0.9835555555555555\n",
      "sum_delay 2.9993333333333334\n"
     ]
    }
   ],
   "source": [
    "print(\"pure CS\")\n",
    "run_cs_prue()"
   ]
  },
  {
   "cell_type": "code",
   "execution_count": 25,
   "metadata": {
    "ExecuteTime": {
     "end_time": "2021-03-03T06:30:34.731461Z",
     "start_time": "2021-03-03T06:30:33.310671Z"
    }
   },
   "outputs": [
    {
     "name": "stdout",
     "output_type": "stream",
     "text": [
      "0.5 for test: (0.5453333333333333, 2.1066666666666665)\n",
      "0.5 for train: 2.1425\n",
      "test: (0.7407222222222222, 2.176833333333333)\n"
     ]
    }
   ],
   "source": [
    "print(\"0.5 for test:\",run_cs_test([0.5 for i in range(Agent_number_n)]))\n",
    "print(\"0.5 for train:\",run_cs([0.5 for i in range(Agent_number_n)]))\n",
    "print(\"test:\",run_cs_test(result.deadline))"
   ]
  },
  {
   "cell_type": "code",
   "execution_count": 26,
   "metadata": {
    "ExecuteTime": {
     "end_time": "2021-03-03T06:36:11.006821Z",
     "start_time": "2021-03-03T06:30:34.732459Z"
    }
   },
   "outputs": [
    {
     "name": "stdout",
     "output_type": "stream",
     "text": [
      "max_delay: 0.5453333333333333 deadline: 0.5\n",
      "sum_dealy: 2.1066666666666665 deadline: 0.5\n"
     ]
    }
   ],
   "source": [
    "list_1=[]\n",
    "list_2=[]\n",
    "list_3=[]\n",
    "for i in range(1,501):\n",
    "    x=float(i)/500\n",
    "    xx=[x for i in range(Agent_number_n)]\n",
    "    #print(xx)\n",
    "    res1,res2=run_cs_test(xx)\n",
    "    list_1.append(res1)\n",
    "    list_2.append(res2)\n",
    "    list_3.append(x)\n",
    "print(\"max_delay:\",min(list_1),\"deadline:\",list_3[list_1.index(min(list_1))])\n",
    "print(\"sum_dealy:\",min(list_2),\"deadline:\",list_3[list_2.index(min(list_2))])"
   ]
  },
  {
   "cell_type": "code",
   "execution_count": 27,
   "metadata": {
    "ExecuteTime": {
     "end_time": "2021-03-03T06:36:12.532526Z",
     "start_time": "2021-03-03T06:36:11.007819Z"
    }
   },
   "outputs": [
    {
     "name": "stdout",
     "output_type": "stream",
     "text": [
      "target: min_sum\n",
      "sum_delay\n",
      "GA: 2.176833333333333 one_deadline: 2.1066666666666665\n",
      "103.3307%\n"
     ]
    }
   ],
   "source": [
    "print(\"target:\",target)\n",
    "print(\"sum_delay\")\n",
    "print(\"GA:\",run_cs_test(result.deadline)[1],\"one_deadline:\",min(list_2))\n",
    "print(\"{:.4%}\".format(run_cs_test(result.deadline)[1]/min(list_2)))"
   ]
  },
  {
   "cell_type": "code",
   "execution_count": 28,
   "metadata": {
    "ExecuteTime": {
     "end_time": "2021-03-03T06:36:14.226130Z",
     "start_time": "2021-03-03T06:36:12.533523Z"
    }
   },
   "outputs": [
    {
     "name": "stdout",
     "output_type": "stream",
     "text": [
      "max_delay\n",
      "0.7407222222222222 0.5453333333333333\n",
      "135.8293%\n"
     ]
    }
   ],
   "source": [
    "print(\"max_delay\")\n",
    "print(run_cs_test(result.deadline)[0],min(list_1))\n",
    "print(\"{:.4%}\".format(run_cs_test(result.deadline)[0]/min(list_1)))"
   ]
  },
  {
   "cell_type": "code",
   "execution_count": 29,
   "metadata": {
    "ExecuteTime": {
     "end_time": "2021-03-03T06:36:17.986882Z",
     "start_time": "2021-03-03T06:36:14.228125Z"
    }
   },
   "outputs": [
    {
     "name": "stdout",
     "output_type": "stream",
     "text": [
      "deadline:  [0.5, 0.5, 0.5, 0.5, 0.5, 1.0]\n",
      "sum_delay:  2.1883333333333335\n",
      "max_delay:  0.745\n",
      "\n",
      "(0.745, 2.1883333333333335)\n"
     ]
    }
   ],
   "source": [
    "def cost_sharing_with_deadline_old(test,t_c,target):\n",
    "    temp_max_delay_list=[0 for i in range(len(test))]\n",
    "    temp_sum_delay=0\n",
    "    result=False\n",
    "    for k in range(len(test),0,-1):\n",
    "        count=0;\n",
    "        delay=0;\n",
    "        for ii in range(len(test)):\n",
    "            item= test[ii]\n",
    "            if(item+1e-9>=target/k):\n",
    "                count+=1;\n",
    "            else:\n",
    "                delay+=t_c[ii];\n",
    "                temp_max_delay_list[ii]=t_c[ii]\n",
    "            \n",
    "        if(count>=k):\n",
    "            temp_sum_delay+=delay;\n",
    "            result=True\n",
    "            break;\n",
    "        if(k<=1):\n",
    "            #print(test,number_n);\n",
    "            temp_max_delay_list=t_c\n",
    "            temp_sum_delay=sum(t_c);\n",
    "            result=False\n",
    "            \n",
    "    return temp_max_delay_list,temp_sum_delay,result\n",
    "\n",
    "\n",
    "\n",
    "#Cost Sharing\n",
    "def run_cs_old(deadline_list):\n",
    "    sum_delay=0\n",
    "    max_delay=0\n",
    "    test_number=0\n",
    "    for i in range(len(X_test)):\n",
    "        test_number+=1\n",
    "        temp_max_delay=0\n",
    "        temp_delay=0\n",
    "        test = copy.deepcopy(X_test[i])\n",
    "        #test_change = copy.deepcopy(X_test[i]);\n",
    "        test_change = []\n",
    "\n",
    "        for j in range(len(test)):\n",
    "            test_change.append(test[j] * deadline_list[j])\n",
    "            \n",
    "        \n",
    "        temp_max_delay_list,temp_sum_delay,judge1 = cost_sharing_with_deadline_old(test_change,\n",
    "                        copy.deepcopy(deadline_list),1.0)\n",
    "        \n",
    "            \n",
    "        for j in range(len(test_change)):\n",
    "            test_i = copy.deepcopy(test_change);\n",
    "            test_i = np.delete(test_i, j)\n",
    "            \n",
    "            deadline_i = copy.deepcopy(deadline_list);\n",
    "            deadline_i = np.delete(deadline_i, j)\n",
    "            \n",
    "            temp_max_delay_i_list,temp_sum_delay_i,judge_i = cost_sharing_with_deadline_old(test_i,\n",
    "                        deadline_i,1.0)\n",
    "            \n",
    "            if(judge_i==False):\n",
    "                temp_sum_delay += (1.0-deadline_list[j])\n",
    "                temp_max_delay_list[j] += (1.0-deadline_list[j])\n",
    "                \n",
    "            \n",
    "        \n",
    "        max_delay+=max(temp_max_delay_list)\n",
    "        \n",
    "        sum_delay+=temp_sum_delay\n",
    "        \n",
    "        \n",
    "    print(\"deadline: \",deadline_list)\n",
    "    print(\"sum_delay: \",sum_delay/test_number)\n",
    "    print(\"max_delay: \",max_delay/test_number)\n",
    "    print()\n",
    "    return max_delay/test_number,sum_delay/test_number\n",
    "    \n",
    "print(run_cs_old(result.deadline))\n"
   ]
  },
  {
   "cell_type": "code",
   "execution_count": null,
   "metadata": {},
   "outputs": [],
   "source": []
  }
 ],
 "metadata": {
  "kernelspec": {
   "display_name": "Python 3",
   "language": "python",
   "name": "python3"
  },
  "language_info": {
   "codemirror_mode": {
    "name": "ipython",
    "version": 3
   },
   "file_extension": ".py",
   "mimetype": "text/x-python",
   "name": "python",
   "nbconvert_exporter": "python",
   "pygments_lexer": "ipython3",
   "version": "3.8.3"
  },
  "toc": {
   "base_numbering": 1,
   "nav_menu": {},
   "number_sections": true,
   "sideBar": true,
   "skip_h1_title": false,
   "title_cell": "Table of Contents",
   "title_sidebar": "Contents",
   "toc_cell": false,
   "toc_position": {},
   "toc_section_display": true,
   "toc_window_display": false
  }
 },
 "nbformat": 4,
 "nbformat_minor": 2
}
