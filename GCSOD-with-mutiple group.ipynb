{
 "cells": [
  {
   "cell_type": "code",
   "execution_count": 1,
   "metadata": {
    "ExecuteTime": {
     "end_time": "2021-01-24T09:50:21.436728Z",
     "start_time": "2021-01-24T09:50:20.256313Z"
    }
   },
   "outputs": [
    {
     "name": "stderr",
     "output_type": "stream",
     "text": [
      "D:\\ComputerSoftwares\\Anaconda\\lib\\site-packages\\sklearn\\utils\\deprecation.py:143: FutureWarning: The sklearn.datasets.samples_generator module is  deprecated in version 0.22 and will be removed in version 0.24. The corresponding classes / functions should instead be imported from sklearn.datasets. Anything that cannot be imported from sklearn.datasets is now part of the private API.\n",
      "  warnings.warn(message, FutureWarning)\n"
     ]
    }
   ],
   "source": [
    "import math\n",
    "import random\n",
    "import torch\n",
    "import numpy as np\n",
    "import torch.nn.functional\n",
    "import matplotlib.pyplot as plt\n",
    "import torch.optim as opt\n",
    "from torch.autograd import Variable\n",
    "from sklearn.model_selection import train_test_split\n",
    "import copy\n",
    "import scipy.stats as st\n",
    "from sklearn.datasets.samples_generator import make_blobs\n",
    "from matplotlib.colors import LogNorm \n",
    "import matplotlib.cm as cm\n",
    "\n",
    "\n",
    "\n",
    "from scipy.interpolate import griddata"
   ]
  },
  {
   "cell_type": "code",
   "execution_count": 2,
   "metadata": {
    "ExecuteTime": {
     "end_time": "2021-01-24T09:50:21.441748Z",
     "start_time": "2021-01-24T09:50:21.437725Z"
    }
   },
   "outputs": [],
   "source": [
    "#global veriable \n",
    "Uniform_low_bound=0\n",
    "Uniform_up_bound=1\n",
    "Agent_number_n=5\n",
    "\n",
    "number_of_groups=2\n",
    "\n",
    "Normal_loc=0.5\n",
    "Normal_scale=0.2\n",
    "Normal_loc1=0.15\n",
    "Normal_loc2=0.85\n",
    "Normal_scale1=0.1\n",
    "Normal_scale2=0.1\n",
    "Distribution_number=50000\n"
   ]
  },
  {
   "cell_type": "code",
   "execution_count": 3,
   "metadata": {
    "ExecuteTime": {
     "end_time": "2021-01-24T09:50:23.862137Z",
     "start_time": "2021-01-24T09:50:21.443709Z"
    }
   },
   "outputs": [
    {
     "name": "stdout",
     "output_type": "stream",
     "text": [
      "[0 0 0 1 0]\n",
      "[[1 0 1 0 0]\n",
      " [0 1 0 0 0]\n",
      " [1 1 1 0 1]\n",
      " ...\n",
      " [1 0 0 0 1]\n",
      " [1 0 1 1 0]\n",
      " [1 1 1 0 0]]\n",
      "[1 0 1 ... 1 1 1]\n"
     ]
    },
    {
     "data": {
      "image/png": "[encoded data removed]",
      "text/plain": [
       "<Figure size 432x288 with 1 Axes>"
      ]
     },
     "metadata": {
      "needs_background": "light"
     },
     "output_type": "display_data"
    },
    {
     "data": {
      "image/png": "[encoded data removed]",
      "text/plain": [
       "<Figure size 432x288 with 1 Axes>"
      ]
     },
     "metadata": {
      "needs_background": "light"
     },
     "output_type": "display_data"
    },
    {
     "data": {
      "image/png": "[encoded data removed]",
      "text/plain": [
       "<Figure size 432x288 with 1 Axes>"
      ]
     },
     "metadata": {
      "needs_background": "light"
     },
     "output_type": "display_data"
    },
    {
     "data": {
      "image/png": "[encoded data removed]",
      "text/plain": [
       "<Figure size 432x288 with 1 Axes>"
      ]
     },
     "metadata": {
      "needs_background": "light"
     },
     "output_type": "display_data"
    },
    {
     "data": {
      "image/png": "[encoded data removed]",
      "text/plain": [
       "<Figure size 432x288 with 1 Axes>"
      ]
     },
     "metadata": {
      "needs_background": "light"
     },
     "output_type": "display_data"
    },
    {
     "name": "stdout",
     "output_type": "stream",
     "text": [
      "5000\n",
      "45000\n"
     ]
    }
   ],
   "source": [
    "seed = 7\n",
    "np.random.seed(seed)\n",
    "exec(open('distribution/twopeak.py').read())\n",
    "#exec(open('distribution/normal.py').read())\n",
    "X_train,  X_test = train_test_split(value_list, test_size=0.9, random_state=seed)\n",
    "\n",
    "dataset_size = len(X_train)\n",
    "print(dataset_size)\n",
    "#print(X_train[:100])\n",
    "print(len(X_test))\n",
    "#run_cs()"
   ]
  },
  {
   "cell_type": "code",
   "execution_count": 4,
   "metadata": {
    "ExecuteTime": {
     "end_time": "2021-01-24T09:50:23.879128Z",
     "start_time": "2021-01-24T09:50:23.864129Z"
    }
   },
   "outputs": [
    {
     "name": "stdout",
     "output_type": "stream",
     "text": [
      "(1, 1)\n"
     ]
    }
   ],
   "source": [
    "#GCSOD\n",
    "\n",
    "def cost_sharing_with_deadline(test,t_c,target):\n",
    "    temp_max_delay=0\n",
    "    temp_sum_delay=0\n",
    "    result=False\n",
    "    for k in range(len(test),0,-1):\n",
    "        count=0;\n",
    "        delay=0;\n",
    "        for item in test:\n",
    "            if(item>=target/k):\n",
    "                count+=1;\n",
    "            else:\n",
    "                delay+=t_c;\n",
    "        if(count>=k):\n",
    "            temp_sum_delay+=delay;\n",
    "            if(k!=len(test)):\n",
    "                temp_max_delay=t_c\n",
    "            result=True\n",
    "            break;\n",
    "        if(k<=1):\n",
    "            #print(test,number_n);\n",
    "            temp_max_delay=1\n",
    "            temp_sum_delay=len(test);\n",
    "            result=False\n",
    "            \n",
    "            \n",
    "    return temp_max_delay,temp_sum_delay,result\n",
    "\n",
    "def cost_sharing_with_optimal_deadline(group_data):\n",
    "    group_data=np.sort(group_data)\n",
    "    t_c_list=[]\n",
    "    for i in range(len(group_data)):\n",
    "        t_c_list.append( 1.0/(number_of_groups-1)/(group_data[i]*(len(group_data)-i))+1e-8 )\n",
    "        \n",
    "        \n",
    "    optimal_max_t_c=1e9\n",
    "    optimal_sum_t_c=1e9\n",
    "\n",
    "    \n",
    "    for ii in range(len(group_data)):\n",
    "        temp_test=[]\n",
    "        if(True or t_c_list[ii]<=1):\n",
    "            for j in range(0,ii):\n",
    "                temp_test.append(0)\n",
    "            \n",
    "            for j in range(ii,len(group_data)):\n",
    "                temp_test.append(group_data[j]*(t_c_list[ii]))\n",
    "            \n",
    "            \n",
    "            \n",
    "            temp_max_delay,temp_sum_delay,judge1 = cost_sharing_with_deadline(temp_test,t_c_list[ii],1.0/(number_of_groups-1))\n",
    "            \n",
    "            if(judge1):\n",
    "                if optimal_sum_t_c > t_c_list[ii]:\n",
    "                    optimal_max_t_c = t_c_list[ii]\n",
    "\n",
    "                if optimal_sum_t_c > t_c_list[ii]:\n",
    "                    optimal_sum_t_c = t_c_list[ii]\n",
    "\n",
    "        \n",
    "    if(optimal_max_t_c>1):\n",
    "        optimal_max_t_c=1\n",
    "    \n",
    "    if(optimal_sum_t_c>1):\n",
    "        optimal_sum_t_c=1\n",
    "    return optimal_max_t_c,optimal_sum_t_c\n",
    "\n",
    "\n",
    "total_delay=0\n",
    "test_number=0\n",
    "op_test=[0.9460855941857127]\n",
    "for i in range(1):\n",
    "    print(cost_sharing_with_optimal_deadline(op_test))\n"
   ]
  },
  {
   "cell_type": "code",
   "execution_count": 5,
   "metadata": {
    "ExecuteTime": {
     "end_time": "2021-01-24T09:50:30.773116Z",
     "start_time": "2021-01-24T09:50:23.881086Z"
    },
    "scrolled": true
   },
   "outputs": [
    {
     "name": "stdout",
     "output_type": "stream",
     "text": [
      "group:  0   [1, 1, 0, 0]\n",
      "group:  1   [0]\n",
      "\n",
      "[0.50000001, 1]\n",
      "\n",
      "frist_max_id 1\n",
      "frist_t_c_max 1\n",
      "second_max_id 0\n",
      "second_t_c_max 0.50000001\n",
      "result: 1 4.50000001\n",
      "\n",
      "\n",
      "group:  0   [1, 1]\n",
      "group:  1   [0, 0, 1]\n",
      "\n",
      "[0.50000001, 1]\n",
      "\n",
      "frist_max_id 1\n",
      "frist_t_c_max 1\n",
      "second_max_id 0\n",
      "second_t_c_max 0.50000001\n",
      "result: 0.50000001 1.5000000300000003\n",
      "\n",
      "\n",
      "group:  0   [1, 0, 0]\n",
      "group:  1   [0, 0]\n",
      "\n",
      "[1, 1]\n",
      "\n",
      "frist_max_id 1\n",
      "frist_t_c_max 1\n",
      "second_max_id 0\n",
      "second_t_c_max 1\n",
      "result: 1 6\n",
      "\n",
      "\n",
      "group:  0   [1, 1]\n",
      "group:  1   [0, 0, 1]\n",
      "\n",
      "[0.50000001, 1]\n",
      "\n",
      "frist_max_id 1\n",
      "frist_t_c_max 1\n",
      "second_max_id 0\n",
      "second_t_c_max 0.50000001\n",
      "result: 0.50000001 1.5000000300000003\n",
      "\n",
      "\n",
      "group:  0   [0, 0, 0]\n",
      "group:  1   [0, 0]\n",
      "\n",
      "[1, 1]\n",
      "\n",
      "frist_max_id 1\n",
      "frist_t_c_max 1\n",
      "second_max_id 0\n",
      "second_t_c_max 1\n",
      "result: 1 8\n",
      "\n",
      "\n",
      "group:  0   [0, 0, 0]\n",
      "group:  1   [1, 0]\n",
      "\n",
      "[1, 1]\n",
      "\n",
      "frist_max_id 1\n",
      "frist_t_c_max 1\n",
      "second_max_id 0\n",
      "second_t_c_max 1\n",
      "result: 1 8\n",
      "\n",
      "\n",
      "group:  0   [1, 0, 0, 1]\n",
      "group:  1   [1]\n",
      "\n",
      "[0.50000001, 1]\n",
      "\n",
      "frist_max_id 1\n",
      "frist_t_c_max 1\n",
      "second_max_id 0\n",
      "second_t_c_max 0.50000001\n",
      "result: 1 4.50000001\n",
      "\n",
      "\n",
      "group:  0   [0, 1, 1]\n",
      "group:  1   [0, 1]\n",
      "\n",
      "[0.50000001, 1]\n",
      "\n",
      "frist_max_id 1\n",
      "frist_t_c_max 1\n",
      "second_max_id 0\n",
      "second_t_c_max 0.50000001\n",
      "result: 1 3.00000002\n",
      "\n",
      "\n",
      "group:  0   [0]\n",
      "group:  1   [0, 0, 1, 0]\n",
      "\n",
      "[1, 1]\n",
      "\n",
      "frist_max_id 1\n",
      "frist_t_c_max 1\n",
      "second_max_id 0\n",
      "second_t_c_max 1\n",
      "result: 1 6\n",
      "\n",
      "\n",
      "group:  0   [1, 0]\n",
      "group:  1   [0, 0, 1]\n",
      "\n",
      "[1, 1]\n",
      "\n",
      "frist_max_id 1\n",
      "frist_t_c_max 1\n",
      "second_max_id 0\n",
      "second_t_c_max 1\n",
      "result: 1 5\n",
      "\n",
      "\n"
     ]
    },
    {
     "name": "stderr",
     "output_type": "stream",
     "text": [
      "<ipython-input-4-59b63eaadeff>:34: RuntimeWarning: divide by zero encountered in true_divide\n",
      "  t_c_list.append( 1.0/(number_of_groups-1)/(group_data[i]*(len(group_data)-i))+1e-8 )\n",
      "<ipython-input-4-59b63eaadeff>:48: RuntimeWarning: invalid value encountered in multiply\n",
      "  temp_test.append(group_data[j]*(t_c_list[ii]))\n"
     ]
    },
    {
     "name": "stdout",
     "output_type": "stream",
     "text": [
      "max_delay 0.8610740764571656\n",
      "sum_delay 3.594648159866966\n"
     ]
    }
   ],
   "source": [
    "def run_GCSOD():\n",
    "    nn=0\n",
    "    max_delay=0\n",
    "    sum_delay=0\n",
    "    test_number=0\n",
    "    for i in range(len(X_test)):\n",
    "        test_number+=1\n",
    "        test=X_test[i];\n",
    "        \n",
    "        temp_groups=[[]for j in range(number_of_groups)]\n",
    "        temp_groups_t_c_max=[[]for j in range(number_of_groups)]\n",
    "        temp_groups_t_c_sum=[[]for j in range(number_of_groups)]\n",
    "        \n",
    "        for k in range(len(test)):\n",
    "            temp_groups[random.randint(0, number_of_groups-1)].append(test[k])\n",
    "            \n",
    "        frist_max_id=-1\n",
    "        frist_t_c_max=-1e9\n",
    "        second_max_id=-1\n",
    "        second_t_c_max=-1e9\n",
    "        temp_total_max_delay=0\n",
    "        temp_total_sum_delay=0\n",
    "        \n",
    "        \n",
    "        for j in range(number_of_groups):\n",
    "            temp_groups_t_c_max[j],temp_groups_t_c_sum[j]=cost_sharing_with_optimal_deadline(temp_groups[j])\n",
    "            \n",
    "            \n",
    "            #print(temp_groups_t_c_max[j],temp_groups_t_c_sum[j],1.0/(number_of_groups-1))\n",
    "            #print()\n",
    "            if(temp_groups_t_c_max[j]>=frist_t_c_max):\n",
    "                if(frist_t_c_max>=second_t_c_max):\n",
    "                    \n",
    "                    second_t_c_max=frist_t_c_max\n",
    "                    second_max_id=frist_max_id\n",
    "                \n",
    "                frist_t_c_max=temp_groups_t_c_max[j]\n",
    "                frist_max_id=j\n",
    "                \n",
    "            if(temp_groups_t_c_max[j]>=second_t_c_max and temp_groups_t_c_max[j]!=frist_t_c_max):\n",
    "                second_t_c_max=temp_groups_t_c_max[j]\n",
    "                second_max_id=j\n",
    "                \n",
    "        judge2=False\n",
    "        for ii in range(number_of_groups):\n",
    "            if(ii!=frist_max_id):\n",
    "                test1=copy.deepcopy(temp_groups[ii])\n",
    "                \n",
    "                for j in range(len(test1)):\n",
    "                    test1[j]=test1[j]*frist_t_c_max\n",
    "                    \n",
    "                temp_max_delay,temp_sum_delay,judge1=cost_sharing_with_deadline(test1,frist_t_c_max,1.0/(number_of_groups-1))\n",
    "                \n",
    "                if(judge1==False):\n",
    "                    judge2=True;\n",
    "                \n",
    "                temp_total_max_delay=max(temp_total_max_delay,temp_max_delay)\n",
    "                temp_total_sum_delay+=temp_sum_delay\n",
    "        \n",
    "        if(len(temp_groups[frist_max_id])!=0):\n",
    "            temp_max_delay = max(temp_max_delay,second_t_c_max)\n",
    "            temp_sum_delay = temp_sum_delay+second_t_c_max*len(temp_groups[frist_max_id])\n",
    "            \n",
    "            \n",
    "        temp_total_max_delay=max(temp_total_max_delay,temp_max_delay)\n",
    "        temp_total_sum_delay+=temp_sum_delay\n",
    "        \n",
    "        if(judge2==False):\n",
    "            max_delay+=temp_total_max_delay\n",
    "            sum_delay+=temp_total_sum_delay\n",
    "        else:\n",
    "            max_delay+=1\n",
    "            sum_delay+=len(test)\n",
    "            \n",
    "        if(nn<10):#temp_group_a_t_c_max<=0.5 and temp_group_b_t_c_max==1  and \n",
    "                nn+=1\n",
    "                for j in range(len(temp_groups)):\n",
    "                    print(\"group: \",j,\" \",temp_groups[j])\n",
    "                print()\n",
    "                print(temp_groups_t_c_max)\n",
    "                print()\n",
    "                print(\"frist_max_id\",frist_max_id)\n",
    "                print(\"frist_t_c_max\",frist_t_c_max)\n",
    "                print(\"second_max_id\",second_max_id)\n",
    "                print(\"second_t_c_max\",second_t_c_max)\n",
    "                print(\"result:\",temp_total_max_delay,temp_total_sum_delay)\n",
    "                print()\n",
    "                print()\n",
    "        \n",
    "    print(\"max_delay\",max_delay/test_number);\n",
    "    print(\"sum_delay\",sum_delay/test_number);\n",
    "\n",
    "run_GCSOD()"
   ]
  },
  {
   "cell_type": "code",
   "execution_count": 6,
   "metadata": {
    "ExecuteTime": {
     "end_time": "2021-01-24T09:50:32.264240Z",
     "start_time": "2021-01-24T09:50:30.774114Z"
    }
   },
   "outputs": [
    {
     "name": "stdout",
     "output_type": "stream",
     "text": [
      "max_delay 0.9682666666666667\n",
      "sum_delay 2.4943333333333335\n"
     ]
    }
   ],
   "source": [
    "#Cost Sharing\n",
    "def run_cs():\n",
    "    sum_delay=0\n",
    "    max_delay=0\n",
    "    test_number=0\n",
    "    for i in range(len(X_test)):\n",
    "        test_number+=1\n",
    "        temp_max_delay=0\n",
    "        temp_delay=0\n",
    "        test=X_test[i];\n",
    "        \n",
    "        for k in range(Agent_number_n,0,-1):\n",
    "            count=0;\n",
    "            delay=0;\n",
    "            for item in test:\n",
    "                if(item>=1.0/k):\n",
    "                    count+=1;\n",
    "                else:\n",
    "                    delay+=1;\n",
    "            if(count>=k):\n",
    "                temp_delay=delay;\n",
    "                if temp_delay != 0 :\n",
    "                    temp_max_delay = 1\n",
    "                break;\n",
    "            if(k<=1):\n",
    "                #print(test);\n",
    "                temp_delay=Agent_number_n;\n",
    "                temp_max_delay=1\n",
    "        sum_delay+=temp_delay\n",
    "        max_delay+=temp_max_delay\n",
    "                \n",
    "    print(\"max_delay\",max_delay/test_number);\n",
    "    print(\"sum_delay\",sum_delay/test_number);\n",
    "    \n",
    "run_cs()"
   ]
  },
  {
   "cell_type": "code",
   "execution_count": 7,
   "metadata": {
    "ExecuteTime": {
     "end_time": "2021-01-24T09:50:38.647231Z",
     "start_time": "2021-01-24T09:50:32.265238Z"
    }
   },
   "outputs": [
    {
     "name": "stdout",
     "output_type": "stream",
     "text": [
      "[0.51413212 0.27857653 0.6588369  0.73533261 0.21293481]\n",
      "[[0.46863628 0.55388233 0.39507908 0.88240377 0.54746037]\n",
      " [0.80643883 0.5707171  0.55080047 0.70836765 0.62129768]\n",
      " [0.4315766  0.40561467 0.327102   0.57487407 0.57830914]\n",
      " ...\n",
      " [0.93525536 0.12057256 0.53548127 0.40814127 0.36865575]\n",
      " [0.60903919 0.51891684 0.41369446 0.82782239 0.85434108]\n",
      " [0.15543318 0.25960961 0.47886996 0.7053724  0.21132568]]\n",
      "[0.46863628 0.80643883 0.4315766  ... 0.93525536 0.60903919 0.15543318]\n"
     ]
    },
    {
     "data": {
      "image/png": "[encoded data removed]",
      "text/plain": [
       "<Figure size 432x288 with 1 Axes>"
      ]
     },
     "metadata": {
      "needs_background": "light"
     },
     "output_type": "display_data"
    },
    {
     "data": {
      "image/png": "[encoded data removed]",
      "text/plain": [
       "<Figure size 432x288 with 1 Axes>"
      ]
     },
     "metadata": {
      "needs_background": "light"
     },
     "output_type": "display_data"
    },
    {
     "data": {
      "image/png": "[encoded data removed]",
      "text/plain": [
       "<Figure size 432x288 with 1 Axes>"
      ]
     },
     "metadata": {
      "needs_background": "light"
     },
     "output_type": "display_data"
    },
    {
     "data": {
      "image/png": "[encoded data removed]",
      "text/plain": [
       "<Figure size 432x288 with 1 Axes>"
      ]
     },
     "metadata": {
      "needs_background": "light"
     },
     "output_type": "display_data"
    },
    {
     "data": {
      "image/png": "[encoded data removed]",
      "text/plain": [
       "<Figure size 432x288 with 1 Axes>"
      ]
     },
     "metadata": {
      "needs_background": "light"
     },
     "output_type": "display_data"
    },
    {
     "name": "stdout",
     "output_type": "stream",
     "text": [
      "5000\n",
      "45000\n",
      "group:  0   [0.5348591237366408, 0.2684112616298756, 0.36360624725943735, 0.6362151583406418]\n",
      "group:  1   [0.30778200613663487]\n",
      "\n",
      "[0.9167426013215844, 1]\n",
      "\n",
      "frist_max_id 1\n",
      "frist_t_c_max 1\n",
      "second_max_id 0\n",
      "second_t_c_max 0.9167426013215844\n",
      "result: 0.9167426013215844 0.9167426013215844\n",
      "\n",
      "\n",
      "group:  0   [0.04377781416538146]\n",
      "group:  1   [0.5485711213255168, 0.5296501176277747, 0.4107349682085054, 0.6028934517950939]\n",
      "\n",
      "[1, 0.6086650114008305]\n",
      "\n",
      "frist_max_id 0\n",
      "frist_t_c_max 1\n",
      "second_max_id 1\n",
      "second_t_c_max 0.6086650114008305\n",
      "result: 0.6086650114008305 0.6086650114008305\n",
      "\n",
      "\n",
      "group:  0   [0.6003163686055377, 0.5389272662268831]\n",
      "group:  1   [0.6313597651577307, 0.2355636530832979, 0.5734925672102176]\n",
      "\n",
      "[0.9277689898487667, 0.8718508910537411]\n",
      "\n",
      "frist_max_id 0\n",
      "frist_t_c_max 0.9277689898487667\n",
      "second_max_id 1\n",
      "second_t_c_max 0.8718508910537411\n",
      "result: 0.9277689898487667 3.5992397618050154\n",
      "\n",
      "\n",
      "group:  0   [0.7047775008197095, 0.40584235077073316, 0.5941119039348387]\n",
      "group:  1   [0.513267581347633, 0.5444529710091282]\n",
      "\n",
      "[0.821336996394598, 0.9741507613239048]\n",
      "\n",
      "frist_max_id 1\n",
      "frist_t_c_max 0.9741507613239048\n",
      "second_max_id 0\n",
      "second_t_c_max 0.821336996394598\n",
      "result: 0.821336996394598 1.642673992789196\n",
      "\n",
      "\n",
      "group:  0   [0.5214144463074605]\n",
      "group:  1   [0.7242328700915465, 0.3490700188333036, 0.8243194977346917, 0.779033086255895]\n",
      "\n",
      "[1, 0.46025712770193256]\n",
      "\n",
      "frist_max_id 0\n",
      "frist_t_c_max 1\n",
      "second_max_id 1\n",
      "second_t_c_max 0.46025712770193256\n",
      "result: 0.46025712770193256 0.46025712770193256\n",
      "\n",
      "\n",
      "group:  0   [0.3880726676220597]\n",
      "group:  1   [0.49334331974457163, 0.646422163159583, 0.8624976937860183, 0.5017083859515602]\n",
      "\n",
      "[1, 0.5067465088264915]\n",
      "\n",
      "frist_max_id 0\n",
      "frist_t_c_max 1\n",
      "second_max_id 1\n",
      "second_t_c_max 0.5067465088264915\n",
      "result: 0.5067465088264915 0.5067465088264915\n",
      "\n",
      "\n",
      "group:  0   [0.2707467103389673, 0.3854107986847073]\n",
      "group:  1   [0.0946988901077852, 0.43638463163888164, 0.7540563406177695]\n",
      "\n",
      "[1, 1]\n",
      "\n",
      "frist_max_id 1\n",
      "frist_t_c_max 1\n",
      "second_max_id 0\n",
      "second_t_c_max 1\n",
      "result: 1 7\n",
      "\n",
      "\n",
      "group:  0   [0.3571710051990706, 0.6624930356625954]\n",
      "group:  1   [0.5896314672697016, 0.3648322238294669, 0.4125635786973795]\n",
      "\n",
      "[1, 0.913661993677031]\n",
      "\n",
      "frist_max_id 0\n",
      "frist_t_c_max 1\n",
      "second_max_id 1\n",
      "second_t_c_max 0.913661993677031\n",
      "result: 0.913661993677031 1.827323987354062\n",
      "\n",
      "\n",
      "group:  0   [0.3975389509549178, 0.26474549391379487]\n",
      "group:  1   [0.31346424570547726, 0.8742588993900118, 0.5531565192962058]\n",
      "\n",
      "[1, 0.9039033041999164]\n",
      "\n",
      "frist_max_id 0\n",
      "frist_t_c_max 1\n",
      "second_max_id 1\n",
      "second_t_c_max 0.9039033041999164\n",
      "result: 1 3.807806608399833\n",
      "\n",
      "\n",
      "group:  0   [0.23732144323805682, 0.12668440938682468, 0.7969432523622715, 0.30456804905423407]\n",
      "group:  1   [0.6125354088329427]\n",
      "\n",
      "[1, 1]\n",
      "\n",
      "frist_max_id 1\n",
      "frist_t_c_max 1\n",
      "second_max_id 0\n",
      "second_t_c_max 1\n",
      "result: 1 9\n",
      "\n",
      "\n",
      "max_delay 0.7939786928703556\n",
      "sum_delay 2.3314508505720046\n"
     ]
    }
   ],
   "source": [
    "seed = 7\n",
    "np.random.seed(seed)\n",
    "exec(open('distribution/normal.py').read())\n",
    "\n",
    "X_train,  X_test = train_test_split(value_list, test_size=0.9, random_state=seed)\n",
    "\n",
    "dataset_size = len(X_train)\n",
    "print(dataset_size)\n",
    "#print(X_train[:100])\n",
    "print(len(X_test))\n",
    "run_GCSOD()"
   ]
  },
  {
   "cell_type": "code",
   "execution_count": 8,
   "metadata": {
    "ExecuteTime": {
     "end_time": "2021-01-24T09:50:45.970342Z",
     "start_time": "2021-01-24T09:50:38.649226Z"
    }
   },
   "outputs": [
    {
     "name": "stdout",
     "output_type": "stream",
     "text": [
      "[0.85706606 0.03928826 0.22941845 0.9676663  0.7064674 ]\n",
      "[[0.83431814 0.87694116 0.79753954 0.34120189 0.17373018]\n",
      " [0.58058649 0.30321941 0.18535855 0.87540023 0.25418382]\n",
      " [0.91064884 0.8157883  0.10280733 0.763551   0.18743703]\n",
      " ...\n",
      " [0.9282437  0.78163788 0.1594463  0.97905601 0.25719393]\n",
      " [0.37470857 0.82901063 0.11360359 0.84586364 0.8281926 ]\n",
      " [0.7906067  0.16944556 0.19090767 0.0398219  0.04960873]]\n",
      "[0.83431814 0.58058649 0.91064884 ... 0.9282437  0.37470857 0.7906067 ]\n"
     ]
    },
    {
     "data": {
      "image/png": "[encoded data removed]",
      "text/plain": [
       "<Figure size 432x288 with 1 Axes>"
      ]
     },
     "metadata": {
      "needs_background": "light"
     },
     "output_type": "display_data"
    },
    {
     "data": {
      "image/png": "[encoded data removed]",
      "text/plain": [
       "<Figure size 432x288 with 1 Axes>"
      ]
     },
     "metadata": {
      "needs_background": "light"
     },
     "output_type": "display_data"
    },
    {
     "data": {
      "image/png": "[encoded data removed]",
      "text/plain": [
       "<Figure size 432x288 with 1 Axes>"
      ]
     },
     "metadata": {
      "needs_background": "light"
     },
     "output_type": "display_data"
    },
    {
     "data": {
      "image/png": "[encoded data removed]",
      "text/plain": [
       "<Figure size 432x288 with 1 Axes>"
      ]
     },
     "metadata": {
      "needs_background": "light"
     },
     "output_type": "display_data"
    },
    {
     "data": {
      "image/png": "[encoded data removed]",
      "text/plain": [
       "<Figure size 432x288 with 1 Axes>"
      ]
     },
     "metadata": {
      "needs_background": "light"
     },
     "output_type": "display_data"
    },
    {
     "name": "stdout",
     "output_type": "stream",
     "text": [
      "5000\n",
      "45000\n",
      "group:  0   [0.9022883622680568, 0.8004921244279757]\n",
      "group:  1   [0.6342794984751925, 0.00027602867433224043, 0.25358230806085374]\n",
      "\n",
      "[0.6246157741554506, 1]\n",
      "\n",
      "frist_max_id 1\n",
      "frist_t_c_max 1\n",
      "second_max_id 0\n",
      "second_t_c_max 0.6246157741554506\n",
      "result: 0.6246157741554506 1.8738473224663517\n",
      "\n",
      "\n",
      "group:  0   [0.8409709364114013, 0.7706933731159825]\n",
      "group:  1   [0.19572506956076488, 0.9731808544277207, 0.6492385113955077]\n",
      "\n",
      "[0.6487664551796894, 0.770133006154639]\n",
      "\n",
      "frist_max_id 1\n",
      "frist_t_c_max 0.770133006154639\n",
      "second_max_id 0\n",
      "second_t_c_max 0.6487664551796894\n",
      "result: 0.6487664551796894 1.9462993655390683\n",
      "\n",
      "\n",
      "group:  0   [0.7982459510228953, 0.08478203315368503, 0.591886092997797]\n",
      "group:  1   [0.284367196949998, 0.06663230424366134]\n",
      "\n",
      "[0.8447571447175765, 1]\n",
      "\n",
      "frist_max_id 1\n",
      "frist_t_c_max 1\n",
      "second_max_id 0\n",
      "second_t_c_max 0.8447571447175765\n",
      "result: 1 3.689514289435153\n",
      "\n",
      "\n",
      "group:  0   [0.049238484482135386, 0.2264944769011965, 0.04831611328064095]\n",
      "group:  1   [0.8089856429344171, 0.7471050612915308]\n",
      "\n",
      "[1, 0.6692499266524762]\n",
      "\n",
      "frist_max_id 0\n",
      "frist_t_c_max 1\n",
      "second_max_id 1\n",
      "second_t_c_max 0.6692499266524762\n",
      "result: 0.6692499266524762 2.0077497799574284\n",
      "\n",
      "\n",
      "group:  0   [0.8624217741728216, 0.8577432103083367, 0.7461671919784603]\n",
      "group:  1   [0.09632510792325619, 0.8322719676243848]\n",
      "\n",
      "[0.4467274149526366, 1]\n",
      "\n",
      "frist_max_id 1\n",
      "frist_t_c_max 1\n",
      "second_max_id 0\n",
      "second_t_c_max 0.4467274149526366\n",
      "result: 0.4467274149526366 0.8934548299052733\n",
      "\n",
      "\n",
      "group:  0   [0.8141895188475659, 0.13509751608749004, 0.31208367792817016]\n",
      "group:  1   [0.7998551037983797, 0.10894047666513554]\n",
      "\n",
      "[1, 1]\n",
      "\n",
      "frist_max_id 1\n",
      "frist_t_c_max 1\n",
      "second_max_id 0\n",
      "second_t_c_max 1\n",
      "result: 1 8\n",
      "\n",
      "\n",
      "group:  0   [0.2794248198983402, 0.181783073346794]\n",
      "group:  1   [0.8778789662005663, 0.2802049531020513, 0.23081041141521208]\n",
      "\n",
      "[1, 1]\n",
      "\n",
      "frist_max_id 1\n",
      "frist_t_c_max 1\n",
      "second_max_id 0\n",
      "second_t_c_max 1\n",
      "result: 1 7\n",
      "\n",
      "\n",
      "group:  0   [0.3040737125365303, 0.8028867007611952]\n",
      "group:  1   [0.7978518407553127, 0.904993608452354, 0.774298797855304]\n",
      "\n",
      "[1, 0.4304970406768118]\n",
      "\n",
      "frist_max_id 0\n",
      "frist_t_c_max 1\n",
      "second_max_id 1\n",
      "second_t_c_max 0.4304970406768118\n",
      "result: 0.4304970406768118 0.8609940813536237\n",
      "\n",
      "\n",
      "group:  0   [0.866607469033451, 0.09225342554503138]\n",
      "group:  1   [0.24945815581535308, 0.09384161687572129, 0.9497000357845169]\n",
      "\n",
      "[1, 1]\n",
      "\n",
      "frist_max_id 1\n",
      "frist_t_c_max 1\n",
      "second_max_id 0\n",
      "second_t_c_max 1\n",
      "result: 1 7\n",
      "\n",
      "\n",
      "group:  0   [0.789696204841669]\n",
      "group:  1   [0.08583303451832751, 0.08788123233200093, 0.14504824013868922, 0.0539519074676891]\n",
      "\n",
      "[1, 1]\n",
      "\n",
      "frist_max_id 1\n",
      "frist_t_c_max 1\n",
      "second_max_id 0\n",
      "second_t_c_max 1\n",
      "result: 1 6\n",
      "\n",
      "\n",
      "max_delay 0.8765500304223142\n",
      "sum_delay 3.499045493782948\n"
     ]
    }
   ],
   "source": [
    "seed = 7\n",
    "np.random.seed(seed)\n",
    "exec(open('distribution/twopeaknormal.py').read())\n",
    "\n",
    "X_train,  X_test = train_test_split(value_list, test_size=0.9, random_state=seed)\n",
    "\n",
    "dataset_size = len(X_train)\n",
    "print(dataset_size)\n",
    "#print(X_train[:100])\n",
    "print(len(X_test))\n",
    "run_GCSOD()"
   ]
  },
  {
   "cell_type": "code",
   "execution_count": 9,
   "metadata": {
    "ExecuteTime": {
     "end_time": "2021-01-24T09:50:45.976434Z",
     "start_time": "2021-01-24T09:50:45.972337Z"
    }
   },
   "outputs": [],
   "source": [
    "Agent_number_n=10"
   ]
  },
  {
   "cell_type": "code",
   "execution_count": 10,
   "metadata": {
    "ExecuteTime": {
     "end_time": "2021-01-24T09:50:59.456373Z",
     "start_time": "2021-01-24T09:50:45.978326Z"
    }
   },
   "outputs": [
    {
     "name": "stdout",
     "output_type": "stream",
     "text": [
      "[0.06925207 0.35707063 0.81282955 0.42770483 0.59985444 0.72816128\n",
      " 0.82122761 0.76051512 0.00714328 0.42025683]\n",
      "[[0.97347557 0.95538345 0.42462553 ... 0.63650234 0.76108474 0.18802993]\n",
      " [0.23783677 0.66459076 0.3741999  ... 0.21199017 0.93517469 0.31604711]\n",
      " [0.45861424 0.9552804  0.6050889  ... 0.13753772 0.24868187 0.3719452 ]\n",
      " ...\n",
      " [0.00135324 0.92930247 0.50282703 ... 0.39938354 0.80417017 0.3030602 ]\n",
      " [0.82438031 0.98801145 0.94356356 ... 0.94623534 0.67942117 0.35917411]\n",
      " [0.95749473 0.57971146 0.48221346 ... 0.45168093 0.5083954  0.24159483]]\n",
      "[0.97347557 0.23783677 0.45861424 ... 0.00135324 0.82438031 0.95749473]\n"
     ]
    },
    {
     "data": {
      "image/png": "[encoded data removed]",
      "text/plain": [
       "<Figure size 432x288 with 1 Axes>"
      ]
     },
     "metadata": {
      "needs_background": "light"
     },
     "output_type": "display_data"
    },
    {
     "data": {
      "image/png": "[encoded data removed]",
      "text/plain": [
       "<Figure size 432x288 with 1 Axes>"
      ]
     },
     "metadata": {
      "needs_background": "light"
     },
     "output_type": "display_data"
    },
    {
     "data": {
      "image/png": "[encoded data removed]",
      "text/plain": [
       "<Figure size 432x288 with 1 Axes>"
      ]
     },
     "metadata": {
      "needs_background": "light"
     },
     "output_type": "display_data"
    },
    {
     "data": {
      "image/png": "[encoded data removed]",
      "text/plain": [
       "<Figure size 432x288 with 1 Axes>"
      ]
     },
     "metadata": {
      "needs_background": "light"
     },
     "output_type": "display_data"
    },
    {
     "data": {
      "image/png": "[encoded data removed]",
      "text/plain": [
       "<Figure size 432x288 with 1 Axes>"
      ]
     },
     "metadata": {
      "needs_background": "light"
     },
     "output_type": "display_data"
    },
    {
     "data": {
      "image/png": "[encoded data removed]",
      "text/plain": [
       "<Figure size 432x288 with 1 Axes>"
      ]
     },
     "metadata": {
      "needs_background": "light"
     },
     "output_type": "display_data"
    },
    {
     "data": {
      "image/png": "[encoded data removed]",
      "text/plain": [
       "<Figure size 432x288 with 1 Axes>"
      ]
     },
     "metadata": {
      "needs_background": "light"
     },
     "output_type": "display_data"
    },
    {
     "data": {
      "image/png": "[encoded data removed]",
      "text/plain": [
       "<Figure size 432x288 with 1 Axes>"
      ]
     },
     "metadata": {
      "needs_background": "light"
     },
     "output_type": "display_data"
    },
    {
     "data": {
      "image/png": "[encoded data removed]",
      "text/plain": [
       "<Figure size 432x288 with 1 Axes>"
      ]
     },
     "metadata": {
      "needs_background": "light"
     },
     "output_type": "display_data"
    },
    {
     "data": {
      "image/png": "[encoded data removed]",
      "text/plain": [
       "<Figure size 432x288 with 1 Axes>"
      ]
     },
     "metadata": {
      "needs_background": "light"
     },
     "output_type": "display_data"
    },
    {
     "name": "stdout",
     "output_type": "stream",
     "text": [
      "5000\n",
      "45000\n",
      "group:  0   [0.4302698525970772, 0.4065732603252852]\n",
      "group:  1   [0.11955097322002162, 0.7231359234772915, 0.7477861687888915, 0.7316455656728776, 0.3299107229154601, 0.34109601406659384, 0.30242712102540636, 0.18852534990075742]\n",
      "\n",
      "[1, 0.4609553055555816]\n",
      "\n",
      "frist_max_id 0\n",
      "frist_t_c_max 1\n",
      "second_max_id 1\n",
      "second_t_c_max 0.4609553055555816\n",
      "result: 1 2.921910611111163\n",
      "\n",
      "\n",
      "group:  0   [0.40684573849380024, 0.07106341863634913, 0.6805478280369316, 0.764809522192925, 0.7718718291428536]\n",
      "group:  1   [0.7989523779869736, 0.20748116187549037, 0.14850357177570483, 0.8198302229615656, 0.09732045308087811]\n",
      "\n",
      "[0.4898014899266161, 0.6258195378920018]\n",
      "\n",
      "frist_max_id 1\n",
      "frist_t_c_max 0.6258195378920018\n",
      "second_max_id 0\n",
      "second_t_c_max 0.4898014899266161\n",
      "result: 0.6258195378920018 3.7006465254170844\n",
      "\n",
      "\n",
      "group:  0   [0.6054179172507329, 0.7109328900629859, 0.8736410176141925, 0.75219800202605, 0.18649319600897785, 0.8379187603712152]\n",
      "group:  1   [0.7164761348789744, 0.09182331673482724, 0.308111286382062, 0.7782266416120468]\n",
      "\n",
      "[0.33035032554437843, 0.6978599604705888]\n",
      "\n",
      "frist_max_id 1\n",
      "frist_t_c_max 0.6978599604705888\n",
      "second_max_id 0\n",
      "second_t_c_max 0.33035032554437843\n",
      "result: 0.6978599604705888 2.717121223118691\n",
      "\n",
      "\n",
      "group:  0   [0.32837538478709694, 0.8546258064927091, 0.0793660756105361]\n",
      "group:  1   [0.7015802606409681, 0.6735396157509952, 0.7228693889679191, 0.8369465928537405, 0.8183007733014471, 0.21123553551645557, 0.7996068784433498]\n",
      "\n",
      "[1, 0.2474489540102698]\n",
      "\n",
      "frist_max_id 0\n",
      "frist_t_c_max 1\n",
      "second_max_id 1\n",
      "second_t_c_max 0.2474489540102698\n",
      "result: 0.2474489540102698 0.7423468620308095\n",
      "\n",
      "\n",
      "group:  0   [0.45228796281567774, 0.009484374591285039, 0.03590615097177052, 0.7627625034691892, 0.6529396164422249, 0.6073490670773325]\n",
      "group:  1   [0.7281915992251425, 0.6797766199924216, 0.3891295122584991, 0.5552440250534275]\n",
      "\n",
      "[0.548833212193576, 0.6003366517157912]\n",
      "\n",
      "frist_max_id 1\n",
      "frist_t_c_max 0.6003366517157912\n",
      "second_max_id 0\n",
      "second_t_c_max 0.548833212193576\n",
      "result: 0.6003366517157912 4.596679455637468\n",
      "\n",
      "\n",
      "group:  0   [0.42198845598991874, 0.16645154668428286, 0.2442358919852622, 0.9585471763200243, 0.41956312835147735, 0.9402462743939515]\n",
      "group:  1   [0.2642863920816729, 0.9594931066298743, 0.926412701807267, 0.6403832663815635]\n",
      "\n",
      "[0.5317755815887115, 0.5205216270260159]\n",
      "\n",
      "frist_max_id 0\n",
      "frist_t_c_max 0.5317755815887115\n",
      "second_max_id 1\n",
      "second_t_c_max 0.5205216270260159\n",
      "result: 0.5317755815887115 4.186680925333518\n",
      "\n",
      "\n",
      "group:  0   [0.7172718215853873, 0.2872565312014814, 0.5416940555657004, 0.6062700760118761, 0.6164516960472534]\n",
      "group:  1   [0.3568259938424654, 0.2721023843678573, 0.8183835356106376, 0.9414843360615364, 0.5021291666781668]\n",
      "\n",
      "[0.46151513543168066, 0.6109604927605978]\n",
      "\n",
      "frist_max_id 1\n",
      "frist_t_c_max 0.6109604927605978\n",
      "second_max_id 0\n",
      "second_t_c_max 0.46151513543168066\n",
      "result: 0.6109604927605978 3.529496662679599\n",
      "\n",
      "\n",
      "group:  0   [0.9201750124284749, 0.8268650038145229, 0.4116461933034403, 0.7236685842512651]\n",
      "group:  1   [0.174083029484279, 0.1298694758034593, 0.21584773602913043, 0.854720308791965, 0.0970620171613008, 0.8221778308798497]\n",
      "\n",
      "[0.4606160165359374, 0.6081409513154906]\n",
      "\n",
      "frist_max_id 1\n",
      "frist_t_c_max 0.6081409513154906\n",
      "second_max_id 0\n",
      "second_t_c_max 0.4606160165359374\n",
      "result: 0.4606160165359374 2.7636960992156245\n",
      "\n",
      "\n",
      "group:  0   [0.36413682428962135, 0.49850669058921804, 0.205137431832631, 0.13637316847700254]\n",
      "group:  1   [0.8418792056181469, 0.8763559750443616, 0.7534819260790461, 0.3765500582631308, 0.19362153469778276, 0.4135769506628899]\n",
      "\n",
      "[1, 0.44239062588102923]\n",
      "\n",
      "frist_max_id 0\n",
      "frist_t_c_max 1\n",
      "second_max_id 1\n",
      "second_t_c_max 0.44239062588102923\n",
      "result: 0.44239062588102923 1.769562503524117\n",
      "\n",
      "\n",
      "group:  0   [0.5181948199018991, 0.3758909748966873, 0.5677956154311582, 0.9746569055304577, 0.09324860683145608, 0.9255407829942818]\n",
      "group:  1   [0.40745141086445813, 0.5773031070794977, 0.26678215889735624, 0.28172030582461205]\n",
      "\n",
      "[0.4824440453288908, 0.9370941583991322]\n",
      "\n",
      "frist_max_id 1\n",
      "frist_t_c_max 0.9370941583991322\n",
      "second_max_id 0\n",
      "second_t_c_max 0.4824440453288908\n",
      "result: 0.9370941583991322 3.8039644981138276\n",
      "\n",
      "\n",
      "max_delay 0.6878253968027732\n",
      "sum_delay 3.9691668351967264\n"
     ]
    }
   ],
   "source": [
    "seed = 7\n",
    "np.random.seed(seed)\n",
    "exec(open('distribution/uniform.py').read())\n",
    "\n",
    "X_train,  X_test = train_test_split(value_list, test_size=0.9, random_state=seed)\n",
    "\n",
    "dataset_size = len(X_train)\n",
    "print(dataset_size)\n",
    "#print(X_train[:100])\n",
    "print(len(X_test))\n",
    "run_GCSOD()"
   ]
  },
  {
   "cell_type": "code",
   "execution_count": 11,
   "metadata": {
    "ExecuteTime": {
     "end_time": "2021-01-24T09:51:12.835697Z",
     "start_time": "2021-01-24T09:50:59.458369Z"
    },
    "scrolled": false
   },
   "outputs": [
    {
     "name": "stdout",
     "output_type": "stream",
     "text": [
      "[0.46079454 0.38184604 0.44005775 0.75937704 0.80591593 0.63388364\n",
      " 0.60974902 0.6353258  0.49755156 0.48486731]\n",
      "[[0.87201113 0.20054527 0.59526754 ... 0.33755828 0.33658395 0.53846154]\n",
      " [0.47846659 0.21971507 0.46661005 ... 0.69515653 0.40636836 0.30079682]\n",
      " [0.56450355 0.21218269 0.57814536 ... 0.28712334 0.21701084 0.37076454]\n",
      " ...\n",
      " [0.43864059 0.39519556 0.25913795 ... 0.16610715 0.36812844 0.25688583]\n",
      " [0.57064284 0.80187086 0.32699813 ... 0.55452639 0.12878824 0.7224619 ]\n",
      " [0.1787494  0.46602704 0.35186737 ... 0.55845853 0.07381374 0.64903735]]\n",
      "[0.87201113 0.47846659 0.56450355 ... 0.43864059 0.57064284 0.1787494 ]\n"
     ]
    },
    {
     "data": {
      "image/png": "[encoded data removed]",
      "text/plain": [
       "<Figure size 432x288 with 1 Axes>"
      ]
     },
     "metadata": {
      "needs_background": "light"
     },
     "output_type": "display_data"
    },
    {
     "data": {
      "image/png": "[encoded data removed]",
      "text/plain": [
       "<Figure size 432x288 with 1 Axes>"
      ]
     },
     "metadata": {
      "needs_background": "light"
     },
     "output_type": "display_data"
    },
    {
     "data": {
      "image/png": "[encoded data removed]",
      "text/plain": [
       "<Figure size 432x288 with 1 Axes>"
      ]
     },
     "metadata": {
      "needs_background": "light"
     },
     "output_type": "display_data"
    },
    {
     "data": {
      "image/png": "[encoded data removed]",
      "text/plain": [
       "<Figure size 432x288 with 1 Axes>"
      ]
     },
     "metadata": {
      "needs_background": "light"
     },
     "output_type": "display_data"
    },
    {
     "data": {
      "image/png": "[encoded data removed]",
      "text/plain": [
       "<Figure size 432x288 with 1 Axes>"
      ]
     },
     "metadata": {
      "needs_background": "light"
     },
     "output_type": "display_data"
    },
    {
     "data": {
      "image/png": "[encoded data removed]",
      "text/plain": [
       "<Figure size 432x288 with 1 Axes>"
      ]
     },
     "metadata": {
      "needs_background": "light"
     },
     "output_type": "display_data"
    },
    {
     "data": {
      "image/png": "[encoded data removed]",
      "text/plain": [
       "<Figure size 432x288 with 1 Axes>"
      ]
     },
     "metadata": {
      "needs_background": "light"
     },
     "output_type": "display_data"
    },
    {
     "data": {
      "image/png": "[encoded data removed]",
      "text/plain": [
       "<Figure size 432x288 with 1 Axes>"
      ]
     },
     "metadata": {
      "needs_background": "light"
     },
     "output_type": "display_data"
    },
    {
     "data": {
      "image/png": "[encoded data removed]",
      "text/plain": [
       "<Figure size 432x288 with 1 Axes>"
      ]
     },
     "metadata": {
      "needs_background": "light"
     },
     "output_type": "display_data"
    },
    {
     "data": {
      "image/png": "[encoded data removed]",
      "text/plain": [
       "<Figure size 432x288 with 1 Axes>"
      ]
     },
     "metadata": {
      "needs_background": "light"
     },
     "output_type": "display_data"
    },
    {
     "name": "stdout",
     "output_type": "stream",
     "text": [
      "5000\n",
      "45000\n",
      "group:  0   [0.3571753393279459, 0.5787396226256655, 0.34469241115586546, 0.5806575183838196]\n",
      "group:  1   [0.5505476772486086, 0.35952543028746153, 0.09477315009129678, 0.09700314148602274, 0.439696662558134, 0.31381411077308174]\n",
      "\n",
      "[0.7252843269992311, 0.7966499738404547]\n",
      "\n",
      "frist_max_id 1\n",
      "frist_t_c_max 0.7966499738404547\n",
      "second_max_id 0\n",
      "second_t_c_max 0.7252843269992311\n",
      "result: 0.7252843269992311 4.351705961995386\n",
      "\n",
      "\n",
      "group:  0   [0.7081093430521871, 0.31670016900208, 0.6097793136163069, 0.53930163931886, 0.6065884401292225, 0.7604793162969394, 0.4336309674507729, 0.5943589682140641]\n",
      "group:  1   [0.4720751954281515, 0.14680827882219233]\n",
      "\n",
      "[0.30904165666951006, 1]\n",
      "\n",
      "frist_max_id 1\n",
      "frist_t_c_max 1\n",
      "second_max_id 0\n",
      "second_t_c_max 0.30904165666951006\n",
      "result: 0.30904165666951006 0.6180833133390201\n",
      "\n",
      "\n",
      "group:  0   [0.39622339839761384, 0.37582209296839725, 0.5710219872621931, 0.393996960984783]\n",
      "group:  1   [0.5864268680689537, 0.4837528680418992, 0.7146462271632061, 0.3408341644390033, 0.34827586750294603, 0.6087395378976079]\n",
      "\n",
      "[0.6652083750149392, 0.48899637261814316]\n",
      "\n",
      "frist_max_id 0\n",
      "frist_t_c_max 0.6652083750149392\n",
      "second_max_id 1\n",
      "second_t_c_max 0.48899637261814316\n",
      "result: 0.48899637261814316 1.9559854904725726\n",
      "\n",
      "\n",
      "group:  0   [0.3008191577948972, 0.731058632162961, 0.4731155569917166, 0.36096622645487275, 0.4720552070193146]\n",
      "group:  1   [0.5619111310765847, 0.6358218244910954, 0.5580559083613568, 0.48756384060200875, 0.7898881367957067]\n",
      "\n",
      "[0.6648512829909404, 0.4102027021296181]\n",
      "\n",
      "frist_max_id 0\n",
      "frist_t_c_max 0.6648512829909404\n",
      "second_max_id 1\n",
      "second_t_c_max 0.4102027021296181\n",
      "result: 0.4102027021296181 2.0510135106480907\n",
      "\n",
      "\n",
      "group:  0   [0.7144231112555826, 0.8070497489345758]\n",
      "group:  1   [0.843964413950036, 0.4090338351596703, 0.5309807840624351, 0.32262930964939684, 0.3923222093891554, 0.7198559332833842, 0.4650142374127568, 0.5854119338037281]\n",
      "\n",
      "[0.6998653868650643, 0.36413219379752454]\n",
      "\n",
      "frist_max_id 0\n",
      "frist_t_c_max 0.6998653868650643\n",
      "second_max_id 1\n",
      "second_t_c_max 0.36413219379752454\n",
      "result: 0.36413219379752454 0.7282643875950491\n",
      "\n",
      "\n",
      "group:  0   [0.7962398587115687, 0.603957093845515, 0.24805190536444183, 0.2837534309471672]\n",
      "group:  1   [0.035527983921891215, 0.24663094099642263, 0.7554671728543803, 0.6968162791471808, 0.8027254070030863, 0.3778517831701904]\n",
      "\n",
      "[0.8278733889124001, 0.47836617811147586]\n",
      "\n",
      "frist_max_id 0\n",
      "frist_t_c_max 0.8278733889124001\n",
      "second_max_id 1\n",
      "second_t_c_max 0.47836617811147586\n",
      "result: 0.8278733889124001 3.569211490270704\n",
      "\n",
      "\n",
      "group:  0   [0.5351502074138269, 0.6209930297841961]\n",
      "group:  1   [0.5578787981428228, 0.5894896500179669, 0.46088306853901484, 0.4290949527591055, 0.4578985751711057, 0.3856233560132519, 0.3350159185294411, 0.3720979137917668]\n",
      "\n",
      "[0.9343171289567613, 0.37311660860429896]\n",
      "\n",
      "frist_max_id 0\n",
      "frist_t_c_max 0.9343171289567613\n",
      "second_max_id 1\n",
      "second_t_c_max 0.37311660860429896\n",
      "result: 0.37311660860429896 0.7462332172085979\n",
      "\n",
      "\n",
      "group:  0   [0.5698296605135689, 0.7268701088584119, 0.7277735127813372, 0.465820171877951, 0.1477592838536732, 0.41777246520774824]\n",
      "group:  1   [0.5473289135424912, 0.5376245743585087, 0.3075075700890473, 0.8969535993037865]\n",
      "\n",
      "[0.47872950190307406, 0.6200113510572149]\n",
      "\n",
      "frist_max_id 1\n",
      "frist_t_c_max 0.6200113510572149\n",
      "second_max_id 0\n",
      "second_t_c_max 0.47872950190307406\n",
      "result: 0.6200113510572149 3.154940709726726\n",
      "\n",
      "\n",
      "group:  0   [0.5440744206188783, 0.22438179186234436, 0.40060636976735775, 0.5633337363046468]\n",
      "group:  1   [0.17179397972078325, 0.41623564897753107, 0.46363366847430265, 0.33256517855002166, 0.5157547958029932, 0.2843650429198764]\n",
      "\n",
      "[0.832071985108405, 0.7033213393251121]\n",
      "\n",
      "frist_max_id 0\n",
      "frist_t_c_max 0.832071985108405\n",
      "second_max_id 1\n",
      "second_t_c_max 0.7033213393251121\n",
      "result: 0.832071985108405 4.4774293275172585\n",
      "\n",
      "\n",
      "group:  0   [0.5402447479184085, 0.47444145869860377, 0.5542135671216262, 0.6677317342766323, 0.2926852164122501]\n",
      "group:  1   [0.6065435489161103, 0.6458023269566564, 0.5910056931913739, 0.4867259147340488, 0.4199127357486881]\n",
      "\n",
      "[0.5269354103879673, 0.4762894458119617]\n",
      "\n",
      "frist_max_id 0\n",
      "frist_t_c_max 0.5269354103879673\n",
      "second_max_id 1\n",
      "second_t_c_max 0.4762894458119617\n",
      "result: 0.4762894458119617 2.3814472290598085\n",
      "\n",
      "\n",
      "max_delay 0.5401767282719325\n",
      "sum_delay 2.5109160287111023\n"
     ]
    }
   ],
   "source": [
    "seed = 7\n",
    "np.random.seed(seed)\n",
    "exec(open('distribution/normal.py').read())\n",
    "\n",
    "X_train,  X_test = train_test_split(value_list, test_size=0.9, random_state=seed)\n",
    "\n",
    "dataset_size = len(X_train)\n",
    "print(dataset_size)\n",
    "#print(X_train[:100])\n",
    "print(len(X_test))\n",
    "run_GCSOD()"
   ]
  },
  {
   "cell_type": "code",
   "execution_count": 12,
   "metadata": {
    "ExecuteTime": {
     "end_time": "2021-01-24T09:51:13.042145Z",
     "start_time": "2021-01-24T09:51:12.836695Z"
    }
   },
   "outputs": [
    {
     "name": "stdout",
     "output_type": "stream",
     "text": [
      "max_delay 0.15688888888888888\n",
      "sum_delay 0.1744\n"
     ]
    }
   ],
   "source": [
    "run_cs()"
   ]
  },
  {
   "cell_type": "code",
   "execution_count": 13,
   "metadata": {
    "ExecuteTime": {
     "end_time": "2021-01-24T09:51:26.395540Z",
     "start_time": "2021-01-24T09:51:13.043141Z"
    }
   },
   "outputs": [
    {
     "name": "stdout",
     "output_type": "stream",
     "text": [
      "[0.83039727 0.09092302 0.12002888 0.97968852 0.30295796 0.21694182\n",
      " 0.20487451 0.9176629  0.84877578 0.14243365]\n",
      "[[0.33600557 0.70027264 0.19763377 ... 0.76877914 0.06829198 0.86923077]\n",
      " [0.83923329 0.00985753 0.83330503 ... 0.94757826 0.10318418 0.05039841]\n",
      " [0.18225178 0.70609134 0.18907268 ... 0.74356167 0.00850542 0.78538227]\n",
      " ...\n",
      " [0.87248439 0.98835127 0.15573997 ... 0.16568351 0.88563483 0.1813785 ]\n",
      " [0.218171   0.089527   0.95035543 ... 0.76096434 0.34071366 0.0967878 ]\n",
      " [0.15181202 0.98189429 0.87781035 ... 0.08066946 0.16453014 0.96681908]]\n",
      "[0.33600557 0.83923329 0.18225178 ... 0.87248439 0.218171   0.15181202]\n"
     ]
    },
    {
     "data": {
      "image/png": "[encoded data removed]",
      "text/plain": [
       "<Figure size 432x288 with 1 Axes>"
      ]
     },
     "metadata": {
      "needs_background": "light"
     },
     "output_type": "display_data"
    },
    {
     "data": {
      "image/png": "[encoded data removed]",
      "text/plain": [
       "<Figure size 432x288 with 1 Axes>"
      ]
     },
     "metadata": {
      "needs_background": "light"
     },
     "output_type": "display_data"
    },
    {
     "data": {
      "image/png": "[encoded data removed]",
      "text/plain": [
       "<Figure size 432x288 with 1 Axes>"
      ]
     },
     "metadata": {
      "needs_background": "light"
     },
     "output_type": "display_data"
    },
    {
     "data": {
      "image/png": "[encoded data removed]",
      "text/plain": [
       "<Figure size 432x288 with 1 Axes>"
      ]
     },
     "metadata": {
      "needs_background": "light"
     },
     "output_type": "display_data"
    },
    {
     "data": {
      "image/png": "[encoded data removed]",
      "text/plain": [
       "<Figure size 432x288 with 1 Axes>"
      ]
     },
     "metadata": {
      "needs_background": "light"
     },
     "output_type": "display_data"
    },
    {
     "data": {
      "image/png": "[encoded data removed]",
      "text/plain": [
       "<Figure size 432x288 with 1 Axes>"
      ]
     },
     "metadata": {
      "needs_background": "light"
     },
     "output_type": "display_data"
    },
    {
     "data": {
      "image/png": "[encoded data removed]",
      "text/plain": [
       "<Figure size 432x288 with 1 Axes>"
      ]
     },
     "metadata": {
      "needs_background": "light"
     },
     "output_type": "display_data"
    },
    {
     "data": {
      "image/png": "[encoded data removed]",
      "text/plain": [
       "<Figure size 432x288 with 1 Axes>"
      ]
     },
     "metadata": {
      "needs_background": "light"
     },
     "output_type": "display_data"
    },
    {
     "data": {
      "image/png": "[encoded data removed]",
      "text/plain": [
       "<Figure size 432x288 with 1 Axes>"
      ]
     },
     "metadata": {
      "needs_background": "light"
     },
     "output_type": "display_data"
    },
    {
     "data": {
      "image/png": "[encoded data removed]",
      "text/plain": [
       "<Figure size 432x288 with 1 Axes>"
      ]
     },
     "metadata": {
      "needs_background": "light"
     },
     "output_type": "display_data"
    },
    {
     "name": "stdout",
     "output_type": "stream",
     "text": [
      "5000\n",
      "45000\n",
      "group:  0   [0.7972600529065247, 0.8906787668678185, 0.742160667357152, 0.773350851325073, 0.12036665220802593, 0.7036136821384847]\n",
      "group:  1   [0.32090578711245155, 0.866973113178076, 0.9698840435878198, 0.7400829950473554]\n",
      "\n",
      "[0.2842468987076533, 0.450399945634252]\n",
      "\n",
      "frist_max_id 1\n",
      "frist_t_c_max 0.450399945634252\n",
      "second_max_id 0\n",
      "second_t_c_max 0.2842468987076533\n",
      "result: 0.450399945634252 2.037787486099117\n",
      "\n",
      "\n",
      "group:  0   [0.1944636886659291, 0.8499484258310345, 0.16552245013882125, 0.11511572198788331, 0.19890407803760907, 0.11312108202282403]\n",
      "group:  1   [0.6962264694865281, 0.030357490865898257, 0.06878791405266192, 0.056484823507066656]\n",
      "\n",
      "[1, 1]\n",
      "\n",
      "frist_max_id 1\n",
      "frist_t_c_max 1\n",
      "second_max_id 0\n",
      "second_t_c_max 1\n",
      "result: 1 16\n",
      "\n",
      "\n",
      "group:  0   [0.8392662480068895, 0.21202547369380276, 0.10776428183507417, 0.14624460986915422, 0.9331978098142909]\n",
      "group:  1   [0.16326136005356104, 0.15329246602417576, 0.9187730413719145, 0.12132191619256329, 0.6953763663625159]\n",
      "\n",
      "[0.5957585087927402, 0.7190350882490333]\n",
      "\n",
      "frist_max_id 1\n",
      "frist_t_c_max 0.7190350882490333\n",
      "second_max_id 0\n",
      "second_t_c_max 0.5957585087927402\n",
      "result: 0.7190350882490333 7.293003073457902\n",
      "\n",
      "\n",
      "group:  0   [0.11596373549935832, 0.07176868644842742, 0.19416398319862072, 0.8310761486350169, 0.09852253833736738]\n",
      "group:  1   [0.2560885960293193, 0.8915609401654814, 0.6961093681851215, 0.6446865657194669, 0.7634795137187802]\n",
      "\n",
      "[1, 0.3877853514255674]\n",
      "\n",
      "frist_max_id 0\n",
      "frist_t_c_max 1\n",
      "second_max_id 1\n",
      "second_t_c_max 0.3877853514255674\n",
      "result: 0.3877853514255674 1.938926757127837\n",
      "\n",
      "\n",
      "group:  0   [0.11231846457316283, 0.6962831981597423, 0.15410355869987027, 0.798307140742481]\n",
      "group:  1   [0.9874746819195082, 0.11105024974911112, 0.14605019208936293, 0.7357418696544489, 0.6413636273443926, 0.26680954440369925]\n",
      "\n",
      "[0.7180986246462913, 0.5197259799829277]\n",
      "\n",
      "frist_max_id 0\n",
      "frist_t_c_max 0.7180986246462913\n",
      "second_max_id 1\n",
      "second_t_c_max 0.5197259799829277\n",
      "result: 0.7180986246462913 6.387495667809458\n",
      "\n",
      "\n",
      "group:  0   [0.08782528663161843, 0.13632034242281163, 0.8476430867731133]\n",
      "group:  1   [0.3408984411332716, 0.8627650743102361, 0.9757796716184135, 0.8573117367387618, 0.10962908800758896, 0.9074364810548352, 0.0996278651504531]\n",
      "\n",
      "[1, 0.291609222013132]\n",
      "\n",
      "frist_max_id 0\n",
      "frist_t_c_max 1\n",
      "second_max_id 1\n",
      "second_t_c_max 0.291609222013132\n",
      "result: 1 4.874827666039396\n",
      "\n",
      "\n",
      "group:  0   [0.7586282686866128, 0.7880638258495626, 0.763625959574546]\n",
      "group:  1   [0.8853438017634788, 0.19475724798679248, 0.922958564195801, 0.12707165619095825, 0.13185084060544908, 0.2796164558138071, 0.8616623855259504]\n",
      "\n",
      "[0.43938955965443344, 0.3868491273951732]\n",
      "\n",
      "frist_max_id 0\n",
      "frist_t_c_max 0.43938955965443344\n",
      "second_max_id 1\n",
      "second_t_c_max 0.3868491273951732\n",
      "result: 0.43938955965443344 4.675663859420987\n",
      "\n",
      "\n",
      "group:  0   [0.8563433804151823, 0.17620451686884223, 0.11170100297586805, 0.6979844548012147, 0.9045502774544698, 0.8522790282596227]\n",
      "group:  1   [0.7723656782692829, 0.0664706106783238, 0.9681823437377636, 0.8416620711914078]\n",
      "\n",
      "[0.35817417602952817, 0.43157451248212314]\n",
      "\n",
      "frist_max_id 1\n",
      "frist_t_c_max 0.43157451248212314\n",
      "second_max_id 0\n",
      "second_t_c_max 0.35817417602952817\n",
      "result: 0.43157451248212314 3.158994754046605\n",
      "\n",
      "\n",
      "group:  0   [0.8575074738901309, 0.3038227719688291, 0.14879060087219056, 0.690417318564155, 0.23034815823019722]\n",
      "group:  1   [0.0980949868104909, 0.8112631261691342, 0.9573239039565932, 0.9579941480465582, 0.9703528936306187]\n",
      "\n",
      "[0.7241996883044761, 0.3081614337547379]\n",
      "\n",
      "frist_max_id 0\n",
      "frist_t_c_max 0.7241996883044761\n",
      "second_max_id 1\n",
      "second_t_c_max 0.3081614337547379\n",
      "result: 0.7241996883044761 2.989206545382642\n",
      "\n",
      "\n",
      "group:  0   [0.07548094756246947, 0.9061451320671899, 0.027199921183180237]\n",
      "group:  1   [0.7995090574589935, 0.17746710583228997, 0.7962703216831742, 0.14364301259104506, 0.6468236598185914, 0.8343579345821338, 0.17939555315981165]\n",
      "\n",
      "[1, 0.3865041154158643]\n",
      "\n",
      "frist_max_id 0\n",
      "frist_t_c_max 1\n",
      "second_max_id 1\n",
      "second_t_c_max 0.3865041154158643\n",
      "result: 0.3865041154158643 1.159512346247593\n",
      "\n",
      "\n",
      "max_delay 0.7094280398247772\n",
      "sum_delay 4.931599043854437\n"
     ]
    }
   ],
   "source": [
    "seed = 7\n",
    "np.random.seed(seed)\n",
    "exec(open('distribution/twopeaknormal.py').read())\n",
    "\n",
    "X_train,  X_test = train_test_split(value_list, test_size=0.9, random_state=seed)\n",
    "\n",
    "dataset_size = len(X_train)\n",
    "print(dataset_size)\n",
    "#print(X_train[:100])\n",
    "print(len(X_test))\n",
    "run_GCSOD()"
   ]
  },
  {
   "cell_type": "code",
   "execution_count": 14,
   "metadata": {
    "ExecuteTime": {
     "end_time": "2021-01-24T09:51:26.866791Z",
     "start_time": "2021-01-24T09:51:26.396538Z"
    }
   },
   "outputs": [
    {
     "name": "stdout",
     "output_type": "stream",
     "text": [
      "max_delay 0.7508666666666667\n",
      "sum_delay 1.7432222222222222\n"
     ]
    }
   ],
   "source": [
    "run_cs()"
   ]
  }
 ],
 "metadata": {
  "kernelspec": {
   "display_name": "Python 3",
   "language": "python",
   "name": "python3"
  },
  "language_info": {
   "codemirror_mode": {
    "name": "ipython",
    "version": 3
   },
   "file_extension": ".py",
   "mimetype": "text/x-python",
   "name": "python",
   "nbconvert_exporter": "python",
   "pygments_lexer": "ipython3",
   "version": "3.8.3"
  },
  "toc": {
   "base_numbering": 1,
   "nav_menu": {},
   "number_sections": true,
   "sideBar": true,
   "skip_h1_title": false,
   "title_cell": "Table of Contents",
   "title_sidebar": "Contents",
   "toc_cell": false,
   "toc_position": {},
   "toc_section_display": true,
   "toc_window_display": false
  }
 },
 "nbformat": 4,
 "nbformat_minor": 4
}
