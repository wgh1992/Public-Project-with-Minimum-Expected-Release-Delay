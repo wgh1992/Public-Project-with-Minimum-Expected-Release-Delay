{
 "cells": [
  {
   "cell_type": "code",
   "execution_count": 1,
   "metadata": {
    "ExecuteTime": {
     "end_time": "2021-02-16T03:59:58.146815Z",
     "start_time": "2021-02-16T03:59:56.920807Z"
    }
   },
   "outputs": [
    {
     "name": "stderr",
     "output_type": "stream",
     "text": [
      "D:\\ComputerSoftwares\\Anaconda\\lib\\site-packages\\sklearn\\utils\\deprecation.py:143: FutureWarning: The sklearn.datasets.samples_generator module is  deprecated in version 0.22 and will be removed in version 0.24. The corresponding classes / functions should instead be imported from sklearn.datasets. Anything that cannot be imported from sklearn.datasets is now part of the private API.\n",
      "  warnings.warn(message, FutureWarning)\n"
     ]
    }
   ],
   "source": [
    "import math\n",
    "import random\n",
    "import torch\n",
    "import numpy as np\n",
    "import torch.nn.functional\n",
    "import matplotlib.pyplot as plt\n",
    "import torch.optim as opt\n",
    "from torch.autograd import Variable\n",
    "from sklearn.model_selection import train_test_split\n",
    "import copy\n",
    "import scipy.stats as st\n",
    "from sklearn.datasets.samples_generator import make_blobs\n",
    "from matplotlib.colors import LogNorm \n",
    "import matplotlib.cm as cm\n",
    "import time\n",
    "\n",
    "\n",
    "from scipy.interpolate import griddata"
   ]
  },
  {
   "cell_type": "code",
   "execution_count": 2,
   "metadata": {
    "ExecuteTime": {
     "end_time": "2021-02-16T03:59:58.152808Z",
     "start_time": "2021-02-16T03:59:58.148350Z"
    }
   },
   "outputs": [],
   "source": [
    "#global veriable \n",
    "Uniform_low_bound=0\n",
    "Uniform_up_bound=1\n",
    "Agent_number_n=100\n",
    "\n",
    "number_of_groups=2\n",
    "\n",
    "Normal_loc=0.05\n",
    "Normal_scale=0.02\n",
    "Normal_loc1=0.95\n",
    "Normal_loc2=0.05\n",
    "Normal_scale1=0.02\n",
    "Normal_scale2=0.02\n",
    "Distribution_number=10000#00\n"
   ]
  },
  {
   "cell_type": "code",
   "execution_count": 3,
   "metadata": {
    "ExecuteTime": {
     "end_time": "2021-02-16T03:59:58.167448Z",
     "start_time": "2021-02-16T03:59:58.154330Z"
    }
   },
   "outputs": [],
   "source": [
    "class Foo(object):\n",
    "\n",
    "    def __init__(self, test_item, test_change_item, deadline):\n",
    "        self.test_item = test_item\n",
    "        self.test_change_item = test_change_item\n",
    "        self.deadline = deadline\n",
    "\n",
    "    def __lt__(self, other):\n",
    "        return self.test_change_item < other.test_change_item"
   ]
  },
  {
   "cell_type": "code",
   "execution_count": 4,
   "metadata": {
    "ExecuteTime": {
     "end_time": "2021-02-16T04:00:09.282751Z",
     "start_time": "2021-02-16T03:59:58.169417Z"
    }
   },
   "outputs": [
    {
     "data": {
      "image/png": "[encoded data removed]",
      "text/plain": [
       "<Figure size 432x288 with 1 Axes>"
      ]
     },
     "metadata": {
      "needs_background": "light"
     },
     "output_type": "display_data"
    },
    {
     "name": "stdout",
     "output_type": "stream",
     "text": [
      "1000\n",
      "9000\n"
     ]
    }
   ],
   "source": [
    "seed = 7\n",
    "np.random.seed(seed)\n",
    "#exec(open('distribution/twopeak.py').read())\n",
    "#exec(open('distribution/uniform.py').read())\n",
    "exec(open('distribution/beta.py').read())\n",
    "\n",
    "for i in range(len(value_list)):\n",
    "    for j in range(len(value_list[0])):\n",
    "        if(value_list[i][j]<=0):\n",
    "            value_list[i][j]=0\n",
    "        if(value_list[i][j]>=1):\n",
    "            value_list[i][j]=1\n",
    "            \n",
    "value_list1=np.array(value_list)\n",
    "for i in range(min(Agent_number_n,1)):\n",
    "    pa=value_list1[:,i]\n",
    "    plt.hist(pa,bins=200)\n",
    "    plt.show()\n",
    "    \n",
    "X_train,  X_test = train_test_split(value_list, test_size=0.9, random_state=seed)\n",
    "\n",
    "dataset_size = len(X_train)\n",
    "print(dataset_size)\n",
    "#print(X_train[:100])\n",
    "print(len(X_test))\n",
    "#run_cs()"
   ]
  },
  {
   "cell_type": "code",
   "execution_count": 5,
   "metadata": {
    "ExecuteTime": {
     "end_time": "2021-02-16T04:00:09.301994Z",
     "start_time": "2021-02-16T04:00:09.283713Z"
    }
   },
   "outputs": [],
   "source": [
    "def cost_sharing_with_deadline(test,t_c,target):\n",
    "    temp_max_delay_list=[0 for i in range(len(test))]\n",
    "    temp_sum_delay=0\n",
    "    result=False\n",
    "    \n",
    "    started=0\n",
    "    for k in range(len(test),0,-1):\n",
    "        count=0;\n",
    "        delay=0;\n",
    "        for ii in range(started,len(test)):\n",
    "            item= test[ii]\n",
    "            started=ii\n",
    "            if(item+1e-9>=target/k):\n",
    "                count+=len(test)-ii;\n",
    "                break;\n",
    "            \n",
    "        if(count>=k):\n",
    "            temp_sum_delay+=t_c[0]*started;\n",
    "            for ii in range(0,started):\n",
    "                temp_max_delay_list[ii]=t_c[ii]\n",
    "            result=True\n",
    "            break;\n",
    "        if(k<=1):\n",
    "            #print(test,number_n);\n",
    "            temp_max_delay_list=t_c\n",
    "            temp_sum_delay=sum(t_c);\n",
    "            result=False\n",
    "            \n",
    "    return temp_max_delay_list,temp_sum_delay,result\n",
    "\n",
    "\n",
    "\n",
    "\n",
    "def cost_sharing_with_deadline_free(n,_i,numbers_of_people_will_pay,started_k):\n",
    "    \n",
    "    for k in range(started_k,0,-1):\n",
    "        if(n-_i<=k):\n",
    "            x=k-1\n",
    "        else:\n",
    "            x=k\n",
    "        #print(n,_i,x,numbers_of_people_will_pay[x],k)\n",
    "        if(numbers_of_people_will_pay[x]>=k):\n",
    "            return True,k\n",
    "        \n",
    "            \n",
    "    return False,0\n",
    "\n",
    "\n",
    "\n",
    "\n",
    "\n",
    "#Cost Sharing\n",
    "def run_cs(deadline_list):\n",
    "    sum_delay=0\n",
    "    max_delay=0\n",
    "    test_number=0\n",
    "    seconds_start=time.time()\n",
    "    for i in range(len(X_test)):\n",
    "#        if(i%1000==0):\n",
    "#            seconds=time.time()\n",
    "#            print(\"times: \",seconds-seconds_start)\n",
    "        test_number+=1\n",
    "        temp_max_delay=0\n",
    "        temp_delay=0\n",
    "        test = copy.deepcopy(X_test[i])\n",
    "        #test_change = copy.deepcopy(X_test[i]);\n",
    "        test_change_temp = []\n",
    "        Foo_list = []\n",
    "        \n",
    "#         seconds=time.time()\n",
    "#         print(\"times: \",seconds-seconds_start)\n",
    "        \n",
    "        \n",
    "        for j in range(len(test)):\n",
    "            test_change_temp.append(test[j] * deadline_list[j])\n",
    "            Foo_list.append(Foo(test[j],test_change_temp[j],deadline_list[j]))\n",
    "            \n",
    "        Foo_list.sort(reverse=False)\n",
    "        \n",
    "\n",
    "        for j in range(len(test)):\n",
    "            test[j]=Foo_list[j].test_item\n",
    "            test_change_temp[j]=Foo_list[j].test_change_item\n",
    "            deadline_list[j]=Foo_list[j].deadline\n",
    "\n",
    "        test_change = copy.deepcopy(test_change_temp);\n",
    "        \n",
    "        numbers_of_people_will_pay = [-10 for ii in range(len(test_change)+2)]#pay 1/k\n",
    "        \n",
    "#         seconds=time.time()\n",
    "#         print(\"times: \",seconds-seconds_start)\n",
    "        \n",
    "        k = 1\n",
    "        started=len(test_change)-1\n",
    "        end_k=-10\n",
    "        for j in range(len(test_change)):\n",
    "            if(k<=len(test_change)):\n",
    "                for people_id in range(started,-1,-1):\n",
    "                    if(test_change[people_id]+1e-9>=1.0/k):\n",
    "                        started=people_id\n",
    "                        numbers_of_people_will_pay[k]=len(test_change)-people_id\n",
    "                        end_k=len(test_change)-people_id\n",
    "                    else:\n",
    "                        k+=1\n",
    "                        break;\n",
    "                    \n",
    "        for j in range(k,len(test_change)+1):\n",
    "            numbers_of_people_will_pay[j]=end_k\n",
    "            \n",
    "        deadlist_new=copy.deepcopy(deadline_list)\n",
    "        \n",
    "        temp_max_delay_list,temp_sum_delay,judge_i =  cost_sharing_with_deadline(test_change,\n",
    "                        deadlist_new,1.0)\n",
    "        \n",
    "#         seconds=time.time()\n",
    "#         print(\"times: \",seconds-seconds_start)\n",
    "        \n",
    "#         print()\n",
    "#         print(test_change)\n",
    "#         print(temp_max_delay_list)\n",
    "#         print(temp_sum_delay)\n",
    "#         print(judge_i)\n",
    "        \n",
    "#         #         print(test_change)\n",
    "#         oo=[]\n",
    "#         for j in range(1,len(test_change)+1):\n",
    "#             oo.append( round(1.0/j, 2))\n",
    "\n",
    "#         print(oo)\n",
    "#         print(numbers_of_people_will_pay)\n",
    "#         print()\n",
    "\n",
    "        judge_i= True\n",
    "        started_k = len(test)\n",
    "        for _i in range(len(test_change)):\n",
    "            if judge_i:\n",
    "                judge_i,started_k =  cost_sharing_with_deadline_free(len(test_change),\n",
    "                    _i,numbers_of_people_will_pay,started_k)\n",
    "            #print(judge_i,_i,started_1,1.0/(started_1+0.001))\n",
    "            \n",
    "            #print(_i,judge_i,started_k)\n",
    "            started_k+=1\n",
    "            if(judge_i==False):\n",
    "                temp_sum_delay += (1.0-deadline_list[_i])\n",
    "                temp_max_delay_list[_i] += (1.0-deadline_list[_i])\n",
    "#         print(\"count_number\",count_number)\n",
    "        #print(judge_i)\n",
    "#         seconds=time.time()\n",
    "#         print(\"times: \",seconds-seconds_start)\n",
    "        \n",
    "        max_delay+=max(temp_max_delay_list)\n",
    "        \n",
    "        sum_delay+=temp_sum_delay\n",
    "        \n",
    "    print(\"deadline: \",deadline_list[0])\n",
    "    print(\"sum_delay: \",sum_delay/test_number)\n",
    "    print(\"max_delay: \",max_delay/test_number)\n",
    "    print()\n",
    "    return max_delay/test_number,sum_delay/test_number\n",
    "    \n",
    "    \n"
   ]
  },
  {
   "cell_type": "code",
   "execution_count": 6,
   "metadata": {
    "ExecuteTime": {
     "end_time": "2021-02-16T04:00:09.316706Z",
     "start_time": "2021-02-16T04:00:09.302956Z"
    }
   },
   "outputs": [],
   "source": [
    "average_max_delay = 1e9\n",
    "average_sum_delay = 1e9"
   ]
  },
  {
   "cell_type": "code",
   "execution_count": 7,
   "metadata": {
    "ExecuteTime": {
     "end_time": "2021-02-16T04:14:35.007310Z",
     "start_time": "2021-02-16T04:00:09.317668Z"
    }
   },
   "outputs": [
    {
     "name": "stdout",
     "output_type": "stream",
     "text": [
      "deadline:  0.1\n",
      "sum_delay:  6.6099999999999985\n",
      "max_delay:  0.10000000000001512\n",
      "\n",
      "\n",
      "deadline:  0.2\n",
      "sum_delay:  9.243822222222194\n",
      "max_delay:  0.20000000000003024\n",
      "\n",
      "\n",
      "deadline:  0.3\n",
      "sum_delay:  11.266499999999967\n",
      "max_delay:  0.3000000000000196\n",
      "\n",
      "\n",
      "deadline:  0.4\n",
      "sum_delay:  12.98191111111115\n",
      "max_delay:  0.4000000000000605\n",
      "\n",
      "\n",
      "deadline:  0.5\n",
      "sum_delay:  14.50388888888889\n",
      "max_delay:  0.5\n",
      "\n",
      "\n",
      "deadline:  0.6\n",
      "sum_delay:  15.863933333333359\n",
      "max_delay:  0.6000000000000392\n",
      "\n",
      "\n",
      "deadline:  0.7\n",
      "sum_delay:  17.119511111111052\n",
      "max_delay:  0.6999999999998877\n",
      "\n",
      "\n",
      "deadline:  0.8\n",
      "sum_delay:  18.28986666666664\n",
      "max_delay:  0.800000000000121\n",
      "\n",
      "\n",
      "deadline:  0.9\n",
      "sum_delay:  19.378399999999914\n",
      "max_delay:  0.8999999999998527\n",
      "\n",
      "\n",
      "deadline:  1.0\n",
      "sum_delay:  20.402333333333335\n",
      "max_delay:  1.0\n",
      "\n",
      "\n"
     ]
    }
   ],
   "source": [
    "devided=100\n",
    "\n",
    "for deadline_1 in range(1,devided+1):\n",
    "    deadline_free = (devided-deadline_1) /devided\n",
    "    deadline = (deadline_1) /devided\n",
    "    deadline_list = [deadline for i in range(Agent_number_n)]\n",
    "    temp_average_max_delay,temp_average_sum_delay = run_cs(deadline_list)  # deadline=0 free get; deadline=1 full payment \n",
    "    average_max_delay= min(average_max_delay,temp_average_max_delay)\n",
    "    average_sum_delay= min(average_sum_delay,temp_average_sum_delay)\n",
    "    print()"
   ]
  },
  {
   "cell_type": "code",
   "execution_count": 9,
   "metadata": {
    "ExecuteTime": {
     "end_time": "2021-02-16T04:19:33.087073Z",
     "start_time": "2021-02-16T04:19:33.084090Z"
    }
   },
   "outputs": [
    {
     "name": "stdout",
     "output_type": "stream",
     "text": [
      "1.9268992111111134\n",
      "0.0019268992111111133\n"
     ]
    }
   ],
   "source": [
    "print(average_sum_delay)\n",
    "\n",
    "fail_rate = average_sum_delay/Agent_number_n\n",
    "print(fail_rate)\n",
    "success_rate = 1.0 - fail_rate"
   ]
  },
  {
   "cell_type": "code",
   "execution_count": 10,
   "metadata": {
    "ExecuteTime": {
     "end_time": "2021-02-16T04:19:33.101127Z",
     "start_time": "2021-02-16T04:19:33.088071Z"
    }
   },
   "outputs": [],
   "source": [
    "from scipy.stats import uniform"
   ]
  },
  {
   "cell_type": "code",
   "execution_count": 11,
   "metadata": {
    "ExecuteTime": {
     "end_time": "2021-02-16T04:19:56.317859Z",
     "start_time": "2021-02-16T04:19:33.102127Z"
    }
   },
   "outputs": [
    {
     "name": "stdout",
     "output_type": "stream",
     "text": [
      "10000 9000000\n",
      "0.4998740000000052\n",
      "\n",
      "success deadline: 0.0039 price: 0.0020964360587002098 delay: 2.042438233333353\n",
      "0.4762978888888839\n",
      "\n",
      "\n",
      "success deadline: 0.004 price: 0.00199203187250996 delay: 1.9943911111111323\n",
      "0.501402222222217\n",
      "\n",
      "\n",
      "success deadline: 0.0041 price: 0.0019157088122605363 delay: 1.9638945333333553\n",
      "0.521001333333328\n",
      "\n",
      "\n",
      "success deadline: 0.0042 price: 0.00186219739292365 delay: 1.947738800000022\n",
      "0.5362526666666614\n",
      "\n",
      "\n",
      "success deadline: 0.0043 price: 0.0018148820326678765 delay: 1.934995700000023\n",
      "0.5500009999999946\n",
      "\n",
      "\n",
      "success deadline: 0.0044 price: 0.0017761989342806395 delay: 1.9273637777778032\n",
      "0.561962777777772\n",
      "\n",
      "\n",
      "success deadline: 0.0045 price: 0.0017452006980802793 delay: 1.925057000000026\n",
      "0.5722095555555498\n",
      "\n",
      "\n",
      "success deadline: 0.0046 price: 0.0017152658662092624 delay: 1.9226287777778055\n",
      "0.5820372222222162\n",
      "\n",
      "1.9226287777778055\n"
     ]
    }
   ],
   "source": [
    "devided1=10000\n",
    "total_sum_delay_low_bound = 1e9\n",
    "\n",
    "pdf=[0 for i in range(devided1+1)]\n",
    "cdf=[0 for i in range(devided1+1)]\n",
    "\n",
    "\n",
    "number = len(X_test)*len(X_test[0])\n",
    "for i in range(len(X_test)):\n",
    "    test = X_test[i]\n",
    "    for j in range(len(test)):\n",
    "        x=int(test[j]*devided1)\n",
    "        x = max(0,x)\n",
    "        x = min(devided1,x)\n",
    "        pdf[x] += 1.0 / number\n",
    "\n",
    "\n",
    "cdf[0] = pdf[0]\n",
    "for i in range(1,devided1+1):\n",
    "    cdf[i] = cdf[i-1] + pdf[i]\n",
    "\n",
    "print(devided1,number)\n",
    "print(cdf[int(devided1/2)])\n",
    "for deadline_1 in range(1,devided1):\n",
    "    for price_1 in range(int(Agent_number_n),1,-1):\n",
    "        deadline_free = (devided1-deadline_1) /devided1\n",
    "        deadline = (deadline_1) /devided1\n",
    "        price = (1.0) /price_1\n",
    "        \n",
    "        expect_pay =  success_rate/Agent_number_n\n",
    "        \n",
    "        #print(price,deadline)\n",
    "        \n",
    "            \n",
    "        #st: Possible * p >= expect_pay\n",
    "        #delay: (1.0-Possible)*deadline \n",
    "        \n",
    "        if(int (price/deadline*devided1 )>=devided1):\n",
    "            Possible=  1.0 - 1.0\n",
    "        else:\n",
    "            Possible = 1.0 - cdf[int (price/deadline*devided1 )]\n",
    "            #Possible = 1.0 - uniform.ppf(price/deadline)\n",
    "        st =  Possible * price >= expect_pay\n",
    "        total_delay = (1.0-Possible)*deadline *Agent_number_n\n",
    "        \n",
    "        #dprint(deadline,price,total_delay)\n",
    "        \n",
    "        if (st and total_delay <= total_sum_delay_low_bound ):\n",
    "            \n",
    "            total_sum_delay_low_bound = min(total_sum_delay_low_bound,total_delay)\n",
    "            print()\n",
    "            print(\"success\",\"deadline:\",deadline,\"price:\",price,\"delay:\",total_delay)\n",
    "            print(Possible)\n",
    "            print()\n",
    "\n",
    "        \n",
    "print(total_sum_delay_low_bound)"
   ]
  },
  {
   "cell_type": "code",
   "execution_count": 12,
   "metadata": {
    "ExecuteTime": {
     "end_time": "2021-02-16T04:19:56.324351Z",
     "start_time": "2021-02-16T04:19:56.319364Z"
    }
   },
   "outputs": [
    {
     "name": "stdout",
     "output_type": "stream",
     "text": [
      "0.5000500050005 5000 0.4998740000000052\n"
     ]
    }
   ],
   "source": [
    "x = int (price/deadline*devided1 )\n",
    "print(price/deadline,x,cdf[x])"
   ]
  },
  {
   "cell_type": "code",
   "execution_count": 13,
   "metadata": {
    "ExecuteTime": {
     "end_time": "2021-02-16T04:19:56.335830Z",
     "start_time": "2021-02-16T04:19:56.326345Z"
    }
   },
   "outputs": [
    {
     "name": "stdout",
     "output_type": "stream",
     "text": [
      "sum_delay_low_bound: 1.9226287777778055 sum_delay: 1.9268992111111134\n",
      "max_delay: 0.004699999999999738\n",
      "100.2221%\n"
     ]
    }
   ],
   "source": [
    "print(\"sum_delay_low_bound:\",total_sum_delay_low_bound,\"sum_delay:\",average_sum_delay)\n",
    "print(\"max_delay:\",average_max_delay)\n",
    "print(\"{:.4%}\".format(average_sum_delay/ total_sum_delay_low_bound))"
   ]
  },
  {
   "cell_type": "code",
   "execution_count": 14,
   "metadata": {
    "ExecuteTime": {
     "end_time": "2021-02-16T04:19:56.341812Z",
     "start_time": "2021-02-16T04:19:56.337822Z"
    }
   },
   "outputs": [
    {
     "name": "stdout",
     "output_type": "stream",
     "text": [
      "1.9226287777778055\n"
     ]
    }
   ],
   "source": [
    "print(total_sum_delay_low_bound)"
   ]
  },
  {
   "cell_type": "code",
   "execution_count": null,
   "metadata": {},
   "outputs": [],
   "source": []
  }
 ],
 "metadata": {
  "kernelspec": {
   "display_name": "Python 3",
   "language": "python",
   "name": "python3"
  },
  "language_info": {
   "codemirror_mode": {
    "name": "ipython",
    "version": 3
   },
   "file_extension": ".py",
   "mimetype": "text/x-python",
   "name": "python",
   "nbconvert_exporter": "python",
   "pygments_lexer": "ipython3",
   "version": "3.8.3"
  },
  "toc": {
   "base_numbering": 1,
   "nav_menu": {},
   "number_sections": true,
   "sideBar": true,
   "skip_h1_title": false,
   "title_cell": "Table of Contents",
   "title_sidebar": "Contents",
   "toc_cell": false,
   "toc_position": {},
   "toc_section_display": true,
   "toc_window_display": false
  }
 },
 "nbformat": 4,
 "nbformat_minor": 4
}
