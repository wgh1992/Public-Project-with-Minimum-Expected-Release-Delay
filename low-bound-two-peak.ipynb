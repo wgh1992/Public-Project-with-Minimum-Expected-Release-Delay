{
 "cells": [
  {
   "cell_type": "code",
   "execution_count": 1,
   "metadata": {
    "ExecuteTime": {
     "end_time": "2021-02-16T03:56:13.933582Z",
     "start_time": "2021-02-16T03:56:12.663401Z"
    }
   },
   "outputs": [
    {
     "name": "stderr",
     "output_type": "stream",
     "text": [
      "D:\\ComputerSoftwares\\Anaconda\\lib\\site-packages\\sklearn\\utils\\deprecation.py:143: FutureWarning: The sklearn.datasets.samples_generator module is  deprecated in version 0.22 and will be removed in version 0.24. The corresponding classes / functions should instead be imported from sklearn.datasets. Anything that cannot be imported from sklearn.datasets is now part of the private API.\n",
      "  warnings.warn(message, FutureWarning)\n"
     ]
    }
   ],
   "source": [
    "import math\n",
    "import random\n",
    "import torch\n",
    "import numpy as np\n",
    "import torch.nn.functional\n",
    "import matplotlib.pyplot as plt\n",
    "import torch.optim as opt\n",
    "from torch.autograd import Variable\n",
    "from sklearn.model_selection import train_test_split\n",
    "import copy\n",
    "import scipy.stats as st\n",
    "from sklearn.datasets.samples_generator import make_blobs\n",
    "from matplotlib.colors import LogNorm \n",
    "import matplotlib.cm as cm\n",
    "import time\n",
    "\n",
    "\n",
    "from scipy.interpolate import griddata"
   ]
  },
  {
   "cell_type": "code",
   "execution_count": 2,
   "metadata": {
    "ExecuteTime": {
     "end_time": "2021-02-16T03:56:13.939566Z",
     "start_time": "2021-02-16T03:56:13.934579Z"
    }
   },
   "outputs": [],
   "source": [
    "#global veriable \n",
    "Uniform_low_bound=0\n",
    "Uniform_up_bound=1\n",
    "Agent_number_n=1000\n",
    "\n",
    "number_of_groups=2\n",
    "\n",
    "Normal_loc=0.03\n",
    "Normal_scale=0.01\n",
    "Normal_loc1=0.97\n",
    "Normal_loc2=0.03\n",
    "Normal_scale1=0.01\n",
    "Normal_scale2=0.01\n",
    "Distribution_number=10000#00\n"
   ]
  },
  {
   "cell_type": "code",
   "execution_count": 3,
   "metadata": {
    "ExecuteTime": {
     "end_time": "2021-02-16T03:56:13.946548Z",
     "start_time": "2021-02-16T03:56:13.941561Z"
    }
   },
   "outputs": [],
   "source": [
    "class Foo(object):\n",
    "\n",
    "    def __init__(self, test_item, test_change_item, deadline):\n",
    "        self.test_item = test_item\n",
    "        self.test_change_item = test_change_item\n",
    "        self.deadline = deadline\n",
    "\n",
    "    def __lt__(self, other):\n",
    "        return self.test_change_item < other.test_change_item"
   ]
  },
  {
   "cell_type": "code",
   "execution_count": 4,
   "metadata": {
    "ExecuteTime": {
     "end_time": "2021-02-16T03:56:33.198995Z",
     "start_time": "2021-02-16T03:56:13.948541Z"
    }
   },
   "outputs": [
    {
     "data": {
      "image/png": "[encoded data removed]",
      "text/plain": [
       "<Figure size 432x288 with 1 Axes>"
      ]
     },
     "metadata": {
      "needs_background": "light"
     },
     "output_type": "display_data"
    },
    {
     "name": "stdout",
     "output_type": "stream",
     "text": [
      "1000\n",
      "9000\n"
     ]
    }
   ],
   "source": [
    "seed = 7\n",
    "np.random.seed(seed)\n",
    "exec(open('distribution/twopeaknormal.py').read())\n",
    "#exec(open('distribution/uniform.py').read())\n",
    "#exec(open('distribution/normal.py').read())\n",
    "\n",
    "for i in range(len(value_list)):\n",
    "    for j in range(len(value_list[0])):\n",
    "        if(value_list[i][j]<=0):\n",
    "            value_list[i][j]=0\n",
    "        if(value_list[i][j]>=1):\n",
    "            value_list[i][j]=1\n",
    "            \n",
    "value_list1=np.array(value_list)\n",
    "for i in range(min(Agent_number_n,1)):\n",
    "    pa=value_list1[:,i]\n",
    "    plt.hist(pa,bins=200)\n",
    "    plt.show()\n",
    "\n",
    "\n",
    "X_train,  X_test = train_test_split(value_list, test_size=0.9, random_state=seed)\n",
    "\n",
    "dataset_size = len(X_train)\n",
    "print(dataset_size)\n",
    "#print(X_train[:100])\n",
    "print(len(X_test))\n",
    "#run_cs()"
   ]
  },
  {
   "cell_type": "code",
   "execution_count": 5,
   "metadata": {
    "ExecuteTime": {
     "end_time": "2021-02-16T03:56:33.218967Z",
     "start_time": "2021-02-16T03:56:33.199993Z"
    }
   },
   "outputs": [],
   "source": [
    "def cost_sharing_with_deadline(test,t_c,target):\n",
    "    temp_max_delay_list=[0 for i in range(len(test))]\n",
    "    temp_sum_delay=0\n",
    "    result=False\n",
    "    \n",
    "    started=0\n",
    "    for k in range(len(test),0,-1):\n",
    "        count=0;\n",
    "        delay=0;\n",
    "        for ii in range(started,len(test)):\n",
    "            item= test[ii]\n",
    "            started=ii\n",
    "            if(item+1e-9>=target/k):\n",
    "                count+=len(test)-ii;\n",
    "                break;\n",
    "            \n",
    "        if(count>=k):\n",
    "            temp_sum_delay+=t_c[0]*started;\n",
    "            for ii in range(0,started):\n",
    "                temp_max_delay_list[ii]=t_c[ii]\n",
    "            result=True\n",
    "            break;\n",
    "        if(k<=1):\n",
    "            #print(test,number_n);\n",
    "            temp_max_delay_list=t_c\n",
    "            temp_sum_delay=sum(t_c);\n",
    "            result=False\n",
    "            \n",
    "    return temp_max_delay_list,temp_sum_delay,result\n",
    "\n",
    "\n",
    "\n",
    "\n",
    "def cost_sharing_with_deadline_free(n,_i,numbers_of_people_will_pay,started_k):\n",
    "    \n",
    "    for k in range(started_k,0,-1):\n",
    "        if(n-_i<=k):\n",
    "            x=k-1\n",
    "        else:\n",
    "            x=k\n",
    "        #print(n,_i,x,numbers_of_people_will_pay[x],k)\n",
    "        if(numbers_of_people_will_pay[x]>=k):\n",
    "            return True,k\n",
    "        \n",
    "            \n",
    "    return False,0\n",
    "\n",
    "\n",
    "\n",
    "\n",
    "\n",
    "#Cost Sharing\n",
    "def run_cs(deadline_list):\n",
    "    sum_delay=0\n",
    "    max_delay=0\n",
    "    test_number=0\n",
    "    seconds_start=time.time()\n",
    "    for i in range(len(X_test)):\n",
    "#        if(i%1000==0):\n",
    "#            seconds=time.time()\n",
    "#            print(\"times: \",seconds-seconds_start)\n",
    "        test_number+=1\n",
    "        temp_max_delay=0\n",
    "        temp_delay=0\n",
    "        test = copy.deepcopy(X_test[i])\n",
    "        #test_change = copy.deepcopy(X_test[i]);\n",
    "        test_change_temp = []\n",
    "        Foo_list = []\n",
    "        \n",
    "#         seconds=time.time()\n",
    "#         print(\"times: \",seconds-seconds_start)\n",
    "        \n",
    "        \n",
    "        for j in range(len(test)):\n",
    "            test_change_temp.append(test[j] * deadline_list[j])\n",
    "            Foo_list.append(Foo(test[j],test_change_temp[j],deadline_list[j]))\n",
    "            \n",
    "        Foo_list.sort(reverse=False)\n",
    "        \n",
    "\n",
    "        for j in range(len(test)):\n",
    "            test[j]=Foo_list[j].test_item\n",
    "            test_change_temp[j]=Foo_list[j].test_change_item\n",
    "            deadline_list[j]=Foo_list[j].deadline\n",
    "\n",
    "        test_change = copy.deepcopy(test_change_temp);\n",
    "        \n",
    "        numbers_of_people_will_pay = [-10 for ii in range(len(test_change)+2)]#pay 1/k\n",
    "        \n",
    "#         seconds=time.time()\n",
    "#         print(\"times: \",seconds-seconds_start)\n",
    "        \n",
    "        k = 1\n",
    "        started=len(test_change)-1\n",
    "        end_k=-10\n",
    "        for j in range(len(test_change)):\n",
    "            if(k<=len(test_change)):\n",
    "                for people_id in range(started,-1,-1):\n",
    "                    if(test_change[people_id]+1e-9>=1.0/k):\n",
    "                        started=people_id\n",
    "                        numbers_of_people_will_pay[k]=len(test_change)-people_id\n",
    "                        end_k=len(test_change)-people_id\n",
    "                    else:\n",
    "                        k+=1\n",
    "                        break;\n",
    "                    \n",
    "        for j in range(k,len(test_change)+1):\n",
    "            numbers_of_people_will_pay[j]=end_k\n",
    "            \n",
    "        deadlist_new=copy.deepcopy(deadline_list)\n",
    "        \n",
    "        temp_max_delay_list,temp_sum_delay,judge_i =  cost_sharing_with_deadline(test_change,\n",
    "                        deadlist_new,1.0)\n",
    "        \n",
    "#         seconds=time.time()\n",
    "#         print(\"times: \",seconds-seconds_start)\n",
    "        \n",
    "#         print()\n",
    "#         print(test_change)\n",
    "#         print(temp_max_delay_list)\n",
    "#         print(temp_sum_delay)\n",
    "#         print(judge_i)\n",
    "        \n",
    "#         #         print(test_change)\n",
    "#         oo=[]\n",
    "#         for j in range(1,len(test_change)+1):\n",
    "#             oo.append( round(1.0/j, 2))\n",
    "\n",
    "#         print(oo)\n",
    "#         print(numbers_of_people_will_pay)\n",
    "#         print()\n",
    "\n",
    "        judge_i= True\n",
    "        started_k = len(test)\n",
    "        for _i in range(len(test_change)):\n",
    "            if judge_i:\n",
    "                judge_i,started_k =  cost_sharing_with_deadline_free(len(test_change),\n",
    "                    _i,numbers_of_people_will_pay,started_k)\n",
    "            #print(judge_i,_i,started_1,1.0/(started_1+0.001))\n",
    "            \n",
    "            #print(_i,judge_i,started_k)\n",
    "            started_k+=1\n",
    "            if(judge_i==False):\n",
    "                temp_sum_delay += (1.0-deadline_list[_i])\n",
    "                temp_max_delay_list[_i] += (1.0-deadline_list[_i])\n",
    "#         print(\"count_number\",count_number)\n",
    "        #print(judge_i)\n",
    "#         seconds=time.time()\n",
    "#         print(\"times: \",seconds-seconds_start)\n",
    "        \n",
    "        max_delay+=max(temp_max_delay_list)\n",
    "        \n",
    "        sum_delay+=temp_sum_delay\n",
    "        \n",
    "    print(\"deadline: \",deadline_list[0])\n",
    "    print(\"sum_delay: \",sum_delay/test_number)\n",
    "    print(\"max_delay: \",max_delay/test_number)\n",
    "    print()\n",
    "    return max_delay/test_number,sum_delay/test_number\n",
    "    \n",
    "    \n"
   ]
  },
  {
   "cell_type": "code",
   "execution_count": 6,
   "metadata": {
    "ExecuteTime": {
     "end_time": "2021-02-16T03:56:33.232482Z",
     "start_time": "2021-02-16T03:56:33.219938Z"
    }
   },
   "outputs": [],
   "source": [
    "average_max_delay = 1e9\n",
    "average_sum_delay = 1e9"
   ]
  },
  {
   "cell_type": "code",
   "execution_count": 7,
   "metadata": {
    "ExecuteTime": {
     "end_time": "2021-02-16T04:05:34.051893Z",
     "start_time": "2021-02-16T03:56:33.233474Z"
    }
   },
   "outputs": [
    {
     "name": "stdout",
     "output_type": "stream",
     "text": [
      "0.2\n",
      "deadline:  0.2\n",
      "sum_delay:  0.6224444444444422\n",
      "max_delay:  0.19057777777780588\n",
      "\n",
      "\n",
      "0.4\n",
      "deadline:  0.4\n",
      "sum_delay:  0.6009777777777785\n",
      "max_delay:  0.311466666666707\n",
      "\n",
      "\n",
      "0.6\n",
      "deadline:  0.6\n",
      "sum_delay:  0.6985333333333472\n",
      "max_delay:  0.4135999999999576\n",
      "\n",
      "\n",
      "0.8\n",
      "deadline:  0.8\n",
      "sum_delay:  0.8168888888889493\n",
      "max_delay:  0.5148444444445006\n",
      "\n",
      "\n",
      "1.0\n",
      "deadline:  1.0\n",
      "sum_delay:  0.947\n",
      "max_delay:  0.6165555555555555\n",
      "\n",
      "\n"
     ]
    }
   ],
   "source": [
    "devided=5\n",
    "for deadline_1 in range(1,devided+1):\n",
    "    print(deadline_1/devided)\n",
    "    deadline_free = (devided-deadline_1) /devided\n",
    "    deadline = (deadline_1) /devided\n",
    "    deadline_list = [deadline for i in range(Agent_number_n)]\n",
    "    temp_average_max_delay,temp_average_sum_delay = run_cs(deadline_list)  # deadline=0 free get; deadline=1 full payment \n",
    "    \n",
    "    average_max_delay= min(average_max_delay,temp_average_max_delay)\n",
    "    average_sum_delay= min(average_sum_delay,temp_average_sum_delay)\n",
    "    \n",
    "    print()\n",
    "    "
   ]
  },
  {
   "cell_type": "code",
   "execution_count": 8,
   "metadata": {
    "ExecuteTime": {
     "end_time": "2021-02-16T04:16:31.931803Z",
     "start_time": "2021-02-16T04:05:34.052890Z"
    }
   },
   "outputs": [
    {
     "name": "stdout",
     "output_type": "stream",
     "text": [
      "0.289\n",
      "deadline:  0.289\n",
      "sum_delay:  0.5794128888889329\n",
      "max_delay:  0.2493106666666735\n",
      "\n",
      "\n",
      "0.29\n",
      "deadline:  0.29\n",
      "sum_delay:  0.5793555555555044\n",
      "max_delay:  0.24981888888886644\n",
      "\n",
      "\n",
      "0.291\n",
      "deadline:  0.291\n",
      "sum_delay:  0.5790253333333627\n",
      "max_delay:  0.25051866666666633\n",
      "\n",
      "\n",
      "0.292\n",
      "deadline:  0.292\n",
      "sum_delay:  0.5792306666666673\n",
      "max_delay:  0.2511848888888529\n",
      "\n",
      "\n",
      "0.293\n",
      "deadline:  0.293\n",
      "sum_delay:  0.5797167777777394\n",
      "max_delay:  0.25184977777774836\n",
      "\n",
      "\n",
      "0.294\n",
      "deadline:  0.294\n",
      "sum_delay:  0.5797353333333147\n",
      "max_delay:  0.2524806666666883\n",
      "\n",
      "\n"
     ]
    }
   ],
   "source": [
    "devided=1000\n",
    "for deadline_1 in range(289,295):\n",
    "    print(deadline_1/devided)\n",
    "    deadline_free = (devided-deadline_1) /devided\n",
    "    deadline = (deadline_1) /devided\n",
    "    deadline_list = [deadline for i in range(Agent_number_n)]\n",
    "    temp_average_max_delay,temp_average_sum_delay = run_cs(deadline_list)  # deadline=0 free get; deadline=1 full payment \n",
    "    \n",
    "    average_max_delay= min(average_max_delay,temp_average_max_delay)\n",
    "    average_sum_delay= min(average_sum_delay,temp_average_sum_delay)\n",
    "    \n",
    "    print()\n",
    "    "
   ]
  },
  {
   "cell_type": "code",
   "execution_count": 9,
   "metadata": {
    "ExecuteTime": {
     "end_time": "2021-02-16T04:21:00.335518Z",
     "start_time": "2021-02-16T04:16:31.932768Z"
    }
   },
   "outputs": [
    {
     "name": "stdout",
     "output_type": "stream",
     "text": [
      "0.001\n",
      "deadline:  0.001\n",
      "sum_delay:  1000.0000000000008\n",
      "max_delay:  1.0\n",
      "\n",
      "\n",
      "0.002\n",
      "deadline:  0.002\n",
      "sum_delay:  975.7806600000006\n",
      "max_delay:  0.9772615555555592\n",
      "\n",
      "\n",
      "0.003\n",
      "deadline:  0.003\n",
      "sum_delay:  1.5008146666666677\n",
      "max_delay:  0.003000000000000101\n",
      "\n",
      "\n"
     ]
    }
   ],
   "source": [
    "devided=1000\n",
    "for deadline_1 in range(1,4):\n",
    "    print(deadline_1/devided)\n",
    "    deadline_free = (devided-deadline_1) /devided\n",
    "    deadline = (deadline_1) /devided\n",
    "    deadline_list = [deadline for i in range(Agent_number_n)]\n",
    "    temp_average_max_delay,temp_average_sum_delay = run_cs(deadline_list)  # deadline=0 free get; deadline=1 full payment \n",
    "    \n",
    "    average_max_delay= min(average_max_delay,temp_average_max_delay)\n",
    "    average_sum_delay= min(average_sum_delay,temp_average_sum_delay)\n",
    "    \n",
    "    print()\n",
    "    "
   ]
  },
  {
   "cell_type": "code",
   "execution_count": 10,
   "metadata": {
    "ExecuteTime": {
     "end_time": "2021-02-16T04:21:00.341850Z",
     "start_time": "2021-02-16T04:21:00.337513Z"
    }
   },
   "outputs": [
    {
     "name": "stdout",
     "output_type": "stream",
     "text": [
      "0.5790253333333627\n",
      "0.0005790253333333627\n"
     ]
    }
   ],
   "source": [
    "print(average_sum_delay)\n",
    "\n",
    "fail_rate = average_sum_delay/Agent_number_n\n",
    "print(fail_rate)\n",
    "success_rate = 1.0 - fail_rate"
   ]
  },
  {
   "cell_type": "code",
   "execution_count": 11,
   "metadata": {
    "ExecuteTime": {
     "end_time": "2021-02-16T04:21:00.356478Z",
     "start_time": "2021-02-16T04:21:00.343343Z"
    }
   },
   "outputs": [],
   "source": [
    "from scipy.stats import uniform"
   ]
  },
  {
   "cell_type": "code",
   "execution_count": 16,
   "metadata": {
    "ExecuteTime": {
     "end_time": "2021-02-16T04:49:51.805084Z",
     "start_time": "2021-02-16T04:49:28.828365Z"
    }
   },
   "outputs": [
    {
     "name": "stdout",
     "output_type": "stream",
     "text": [
      "10000 9000000\n",
      "0.500271555555522\n",
      "\n",
      "success deadline: 0.0022 price: 0.002 delay: 1.1005974222221486\n",
      "0.49972844444447795\n",
      "\n",
      "\n",
      "success deadline: 0.0022 price: 0.002004008016032064 delay: 1.1005974222221486\n",
      "0.49972844444447795\n",
      "\n",
      "\n",
      "success deadline: 0.1053 price: 0.00101010101010101 delay: 1.0919843999999828\n",
      "0.9896297777777779\n",
      "\n",
      "\n",
      "success deadline: 0.1064 price: 0.00101010101010101 delay: 1.076898044444433\n",
      "0.9898787777777779\n",
      "\n",
      "\n",
      "success deadline: 0.1075 price: 0.00101010101010101 delay: 1.062386666666659\n",
      "0.9901173333333334\n",
      "\n",
      "\n",
      "success deadline: 0.1087 price: 0.00101010101010101 delay: 1.0478438444444351\n",
      "0.9903602222222223\n",
      "\n",
      "\n",
      "success deadline: 0.1097 price: 0.0010090817356205853 delay: 1.03199665555554\n",
      "0.9905925555555557\n",
      "\n",
      "\n",
      "success deadline: 0.1109 price: 0.0010090817356205853 delay: 1.0187643666666504\n",
      "0.9908136666666668\n",
      "\n",
      "\n",
      "success deadline: 0.1122 price: 0.0010090817356205853 delay: 1.0059851999999907\n",
      "0.9910340000000001\n",
      "\n",
      "\n",
      "success deadline: 0.1134 price: 0.0010090817356205853 delay: 0.992262599999989\n",
      "0.991249888888889\n",
      "\n",
      "\n",
      "success deadline: 0.1146 price: 0.0010080645161290322 delay: 0.9776143999999894\n",
      "0.9914693333333334\n",
      "\n",
      "\n",
      "success deadline: 0.1159 price: 0.0010080645161290322 delay: 0.9642751222222112\n",
      "0.9916801111111112\n",
      "\n",
      "\n",
      "success deadline: 0.1173 price: 0.0010080645161290322 delay: 0.9516939999999967\n",
      "0.9918866666666667\n",
      "\n",
      "\n",
      "success deadline: 0.1186 price: 0.0010080645161290322 delay: 0.939048444444434\n",
      "0.9920822222222223\n",
      "\n",
      "\n",
      "success deadline: 0.1201 price: 0.0010080645161290322 delay: 0.9262111999999929\n",
      "0.9922880000000001\n",
      "\n",
      "\n",
      "success deadline: 0.1214 price: 0.0010070493454179255 delay: 0.9126582222222168\n",
      "0.9924822222222223\n",
      "\n",
      "\n",
      "success deadline: 0.1229 price: 0.0010070493454179255 delay: 0.9007067888888841\n",
      "0.9926712222222223\n",
      "\n",
      "\n",
      "success deadline: 0.1244 price: 0.0010070493454179255 delay: 0.8883265777777746\n",
      "0.9928591111111111\n",
      "\n",
      "\n",
      "success deadline: 0.1259 price: 0.0010070493454179255 delay: 0.8761380999999921\n",
      "0.9930410000000001\n",
      "\n",
      "\n",
      "success deadline: 0.1275 price: 0.0010070493454179255 delay: 0.8650874999999911\n",
      "0.9932150000000001\n",
      "\n",
      "\n",
      "success deadline: 0.1292 price: 0.0010070493454179255 delay: 0.8537248888888876\n",
      "0.9933922222222222\n",
      "\n",
      "\n",
      "success deadline: 0.1307 price: 0.001006036217303823 delay: 0.8421436666666552\n",
      "0.9935566666666668\n",
      "\n",
      "\n",
      "success deadline: 0.1324 price: 0.001006036217303823 delay: 0.8316043999999975\n",
      "0.993719\n",
      "\n",
      "\n",
      "success deadline: 0.1342 price: 0.001006036217303823 delay: 0.8203795111111131\n",
      "0.9938868888888889\n",
      "\n",
      "\n",
      "success deadline: 0.136 price: 0.001006036217303823 delay: 0.8096231111111063\n",
      "0.9940468888888889\n",
      "\n",
      "\n",
      "success deadline: 0.1379 price: 0.001006036217303823 delay: 0.7992530777777686\n",
      "0.9942041111111112\n",
      "\n",
      "\n",
      "success deadline: 0.1398 price: 0.001006036217303823 delay: 0.7894505999999941\n",
      "0.994353\n",
      "\n",
      "\n",
      "success deadline: 0.1416 price: 0.0010050251256281408 delay: 0.7800743999999981\n",
      "0.994491\n",
      "\n",
      "\n",
      "success deadline: 0.1436 price: 0.0010050251256281408 delay: 0.7707969333333323\n",
      "0.9946323333333333\n",
      "\n",
      "\n",
      "success deadline: 0.1457 price: 0.0010050251256281408 delay: 0.761751977777773\n",
      "0.9947717777777778\n",
      "\n",
      "\n",
      "success deadline: 0.1478 price: 0.0010050251256281408 delay: 0.7526797111111094\n",
      "0.9949074444444445\n",
      "\n",
      "\n",
      "success deadline: 0.1501 price: 0.0010050251256281408 delay: 0.7432451666666698\n",
      "0.9950483333333333\n",
      "\n",
      "\n",
      "success deadline: 0.1523 price: 0.0010050251256281408 delay: 0.7347628888888834\n",
      "0.9951755555555556\n",
      "\n",
      "\n",
      "success deadline: 0.1547 price: 0.0010050251256281408 delay: 0.7271071888888914\n",
      "0.9952998888888889\n",
      "\n",
      "\n",
      "success deadline: 0.1569 price: 0.001004016064257028 delay: 0.7173642333333332\n",
      "0.9954278888888889\n",
      "\n",
      "\n",
      "success deadline: 0.1594 price: 0.001004016064257028 delay: 0.7089403555555527\n",
      "0.9955524444444445\n",
      "\n",
      "\n",
      "success deadline: 0.162 price: 0.001004016064257028 delay: 0.7017299999999929\n",
      "0.9956683333333334\n",
      "\n",
      "\n",
      "success deadline: 0.1646 price: 0.001004016064257028 delay: 0.6929842888888749\n",
      "0.995789888888889\n",
      "\n",
      "\n",
      "success deadline: 0.1674 price: 0.001004016064257028 delay: 0.6858935999999921\n",
      "0.9959026666666667\n",
      "\n",
      "\n",
      "success deadline: 0.1702 price: 0.001004016064257028 delay: 0.679476222222214\n",
      "0.9960077777777778\n",
      "\n",
      "\n",
      "success deadline: 0.1732 price: 0.001004016064257028 delay: 0.6727857777777626\n",
      "0.9961155555555556\n",
      "\n",
      "\n",
      "success deadline: 0.1762 price: 0.001004016064257028 delay: 0.6655857111111013\n",
      "0.9962225555555556\n",
      "\n",
      "\n",
      "success deadline: 0.1793 price: 0.001004016064257028 delay: 0.6586685111110985\n",
      "0.9963264444444445\n",
      "\n",
      "\n",
      "success deadline: 0.1824 price: 0.0010030090270812437 delay: 0.6518773333333311\n",
      "0.9964261111111111\n",
      "\n",
      "\n",
      "success deadline: 0.1858 price: 0.0010030090270812437 delay: 0.6445814888888706\n",
      "0.9965307777777779\n",
      "\n",
      "\n",
      "success deadline: 0.1893 price: 0.0010030090270812437 delay: 0.6386140666666597\n",
      "0.9966264444444445\n",
      "\n",
      "\n",
      "success deadline: 0.1929 price: 0.0010030090270812437 delay: 0.6327977333333284\n",
      "0.9967195555555556\n",
      "\n",
      "\n",
      "success deadline: 0.1967 price: 0.0010030090270812437 delay: 0.6271014555555452\n",
      "0.9968118888888889\n",
      "\n",
      "\n",
      "success deadline: 0.2007 price: 0.0010030090270812437 delay: 0.6219247000000011\n",
      "0.9969012222222222\n",
      "\n",
      "\n",
      "success deadline: 0.2047 price: 0.0010030090270812437 delay: 0.6161469999999911\n",
      "0.99699\n",
      "\n",
      "\n",
      "success deadline: 0.209 price: 0.0010030090270812437 delay: 0.6108373333333253\n",
      "0.9970773333333334\n",
      "\n",
      "\n",
      "success deadline: 0.2135 price: 0.0010030090270812437 delay: 0.6067907222222201\n",
      "0.9971578888888889\n",
      "\n",
      "\n",
      "success deadline: 0.2181 price: 0.0010030090270812437 delay: 0.6029980333333224\n",
      "0.9972352222222223\n",
      "\n",
      "\n",
      "success deadline: 0.2229 price: 0.0010030090270812437 delay: 0.5991056666666568\n",
      "0.9973122222222223\n",
      "\n",
      "\n",
      "success deadline: 0.228 price: 0.0010030090270812437 delay: 0.5965239999999996\n",
      "0.9973836666666667\n",
      "\n",
      "\n",
      "success deadline: 0.2331 price: 0.001002004008016032 delay: 0.593886999999983\n",
      "0.9974522222222223\n",
      "\n",
      "\n",
      "success deadline: 0.2386 price: 0.001002004008016032 delay: 0.5897661777777686\n",
      "0.9975282222222223\n",
      "\n",
      "\n",
      "success deadline: 0.2444 price: 0.001002004008016032 delay: 0.5874561333333126\n",
      "0.9975963333333334\n",
      "\n",
      "\n",
      "success deadline: 0.2506 price: 0.001002004008016032 delay: 0.5845384222222233\n",
      "0.9976674444444444\n",
      "\n",
      "\n",
      "success deadline: 0.257 price: 0.001002004008016032 delay: 0.5823048888888689\n",
      "0.9977342222222223\n",
      "\n",
      "\n",
      "success deadline: 0.2637 price: 0.001002004008016032 delay: 0.5812826999999787\n",
      "0.9977956666666667\n",
      "\n",
      "\n",
      "success deadline: 0.2709 price: 0.001002004008016032 delay: 0.5805387000000015\n",
      "0.997857\n",
      "\n",
      "\n",
      "success deadline: 0.2784 price: 0.001002004008016032 delay: 0.5793503999999998\n",
      "0.997919\n",
      "\n",
      "0.5793503999999998\n"
     ]
    }
   ],
   "source": [
    "devided1=10000\n",
    "total_sum_delay_low_bound = 1e9\n",
    "\n",
    "pdf=[0 for i in range(devided1+1)]\n",
    "cdf=[0 for i in range(devided1+1)]\n",
    "\n",
    "\n",
    "number = len(X_test)*len(X_test[0])\n",
    "for i in range(len(X_test)):\n",
    "    test = X_test[i]\n",
    "    for j in range(len(test)):\n",
    "        x=int(test[j]*devided1)\n",
    "        x = max(0,x)\n",
    "        x = min(devided1,x)\n",
    "        pdf[x] += 1.0 / number\n",
    "\n",
    "\n",
    "cdf[0] = pdf[0]\n",
    "for i in range(1,devided1+1):\n",
    "    cdf[i] = cdf[i-1] + pdf[i]\n",
    "\n",
    "print(devided1,number)\n",
    "print(cdf[int(devided1/2)])\n",
    "for deadline_1 in range(1,devided1):\n",
    "    for price_1 in range(int(Agent_number_n),1,-1):\n",
    "        deadline_free = (devided1-deadline_1) /devided1\n",
    "        deadline = (deadline_1) /devided1\n",
    "        price = (1.0) /price_1\n",
    "        \n",
    "        expect_pay =  success_rate/Agent_number_n\n",
    "        \n",
    "        #print(price,deadline)\n",
    "        \n",
    "            \n",
    "        #st: Possible * p >= expect_pay\n",
    "        #delay: (1.0-Possible)*deadline \n",
    "        \n",
    "        if(int (price/deadline*devided1 )>=devided1):\n",
    "            Possible=  1.0 - 1.0\n",
    "        else:\n",
    "            Possible = 1.0 - cdf[int (price/deadline*devided1 )]\n",
    "            #Possible = 1.0 - uniform.ppf(price/deadline)\n",
    "        st =  Possible * price >= expect_pay\n",
    "        total_delay = (1.0-Possible)*deadline *Agent_number_n\n",
    "        \n",
    "        #dprint(deadline,price,total_delay)\n",
    "        \n",
    "        if (st and total_delay <= total_sum_delay_low_bound ):\n",
    "            \n",
    "            total_sum_delay_low_bound = min(total_sum_delay_low_bound,total_delay)\n",
    "            print()\n",
    "            print(\"success\",\"deadline:\",deadline,\"price:\",price,\"delay:\",total_delay)\n",
    "            print(Possible)\n",
    "            print()\n",
    "\n",
    "        \n",
    "print(total_sum_delay_low_bound)"
   ]
  },
  {
   "cell_type": "code",
   "execution_count": 17,
   "metadata": {
    "ExecuteTime": {
     "end_time": "2021-02-16T04:49:51.810037Z",
     "start_time": "2021-02-16T04:49:51.806047Z"
    }
   },
   "outputs": [
    {
     "name": "stdout",
     "output_type": "stream",
     "text": [
      "0.5000500050005 5000 0.500271555555522\n"
     ]
    }
   ],
   "source": [
    "x = int (price/deadline*devided1 )\n",
    "print(price/deadline,x,cdf[x])"
   ]
  },
  {
   "cell_type": "code",
   "execution_count": 18,
   "metadata": {
    "ExecuteTime": {
     "end_time": "2021-02-16T04:49:51.824510Z",
     "start_time": "2021-02-16T04:49:51.811034Z"
    }
   },
   "outputs": [
    {
     "name": "stdout",
     "output_type": "stream",
     "text": [
      "sum_delay_low_bound: 0.5793503999999998 sum_delay: 0.5790253333333627\n",
      "max_delay: 0.003000000000000101\n",
      "99.9439%\n"
     ]
    }
   ],
   "source": [
    "print(\"sum_delay_low_bound:\",total_sum_delay_low_bound,\"sum_delay:\",average_sum_delay)\n",
    "print(\"max_delay:\",average_max_delay)\n",
    "print(\"{:.4%}\".format(average_sum_delay/ total_sum_delay_low_bound))"
   ]
  },
  {
   "cell_type": "code",
   "execution_count": 15,
   "metadata": {
    "ExecuteTime": {
     "end_time": "2021-02-16T04:21:11.251230Z",
     "start_time": "2021-02-16T04:21:11.244907Z"
    }
   },
   "outputs": [
    {
     "name": "stdout",
     "output_type": "stream",
     "text": [
      "0.5846866666666439\n"
     ]
    }
   ],
   "source": [
    "print(total_sum_delay_low_bound)"
   ]
  },
  {
   "cell_type": "code",
   "execution_count": null,
   "metadata": {},
   "outputs": [],
   "source": []
  }
 ],
 "metadata": {
  "kernelspec": {
   "display_name": "Python 3",
   "language": "python",
   "name": "python3"
  },
  "language_info": {
   "codemirror_mode": {
    "name": "ipython",
    "version": 3
   },
   "file_extension": ".py",
   "mimetype": "text/x-python",
   "name": "python",
   "nbconvert_exporter": "python",
   "pygments_lexer": "ipython3",
   "version": "3.8.3"
  },
  "toc": {
   "base_numbering": 1,
   "nav_menu": {},
   "number_sections": true,
   "sideBar": true,
   "skip_h1_title": false,
   "title_cell": "Table of Contents",
   "title_sidebar": "Contents",
   "toc_cell": false,
   "toc_position": {},
   "toc_section_display": true,
   "toc_window_display": false
  }
 },
 "nbformat": 4,
 "nbformat_minor": 4
}
