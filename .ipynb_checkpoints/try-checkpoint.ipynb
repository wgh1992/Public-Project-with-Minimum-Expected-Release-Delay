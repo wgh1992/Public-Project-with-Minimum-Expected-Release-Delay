{
 "cells": [
  {
   "cell_type": "code",
   "execution_count": 1,
   "metadata": {
    "ExecuteTime": {
     "end_time": "2021-02-26T07:13:58.629002Z",
     "start_time": "2021-02-26T07:13:57.484792Z"
    }
   },
   "outputs": [
    {
     "name": "stderr",
     "output_type": "stream",
     "text": [
      "D:\\ComputerSoftwares\\Anaconda\\lib\\site-packages\\sklearn\\utils\\deprecation.py:143: FutureWarning: The sklearn.datasets.samples_generator module is  deprecated in version 0.22 and will be removed in version 0.24. The corresponding classes / functions should instead be imported from sklearn.datasets. Anything that cannot be imported from sklearn.datasets is now part of the private API.\n",
      "  warnings.warn(message, FutureWarning)\n"
     ]
    }
   ],
   "source": [
    "import math\n",
    "import random\n",
    "import torch\n",
    "import numpy as np\n",
    "import torch.nn.functional\n",
    "import matplotlib.pyplot as plt\n",
    "import torch.optim as opt\n",
    "from torch.autograd import Variable\n",
    "from sklearn.model_selection import train_test_split\n",
    "import copy\n",
    "import scipy.stats as st\n",
    "from sklearn.datasets.samples_generator import make_blobs\n",
    "from matplotlib.colors import LogNorm \n",
    "import matplotlib.cm as cm\n",
    "\n",
    "\n",
    "\n",
    "from scipy.interpolate import griddata"
   ]
  },
  {
   "cell_type": "code",
   "execution_count": 2,
   "metadata": {
    "ExecuteTime": {
     "end_time": "2021-02-26T07:13:58.633988Z",
     "start_time": "2021-02-26T07:13:58.629999Z"
    }
   },
   "outputs": [],
   "source": [
    "#global veriable \n",
    "Uniform_low_bound=0\n",
    "Uniform_up_bound=1\n",
    "Agent_number_n=3\n",
    "\n",
    "number_of_groups=2\n",
    "\n",
    "Normal_loc=0.5\n",
    "Normal_scale=0.2\n",
    "Normal_loc1=0.15\n",
    "Normal_loc2=0.85\n",
    "Normal_scale1=0.1\n",
    "Normal_scale2=0.1\n",
    "Distribution_number=10000\n"
   ]
  },
  {
   "cell_type": "code",
   "execution_count": 3,
   "metadata": {
    "ExecuteTime": {
     "end_time": "2021-02-26T07:13:58.709853Z",
     "start_time": "2021-02-26T07:13:58.635984Z"
    }
   },
   "outputs": [
    {
     "name": "stdout",
     "output_type": "stream",
     "text": [
      "cuda:0\n"
     ]
    }
   ],
   "source": [
    "if torch.cuda.is_available():  \n",
    "    dev = \"cuda:0\" \n",
    "else:  \n",
    "    dev = \"cpu\"  \n",
    "\n",
    "print(dev)"
   ]
  },
  {
   "cell_type": "code",
   "execution_count": 4,
   "metadata": {
    "ExecuteTime": {
     "end_time": "2021-02-26T07:13:58.798615Z",
     "start_time": "2021-02-26T07:13:58.710849Z"
    }
   },
   "outputs": [
    {
     "name": "stdout",
     "output_type": "stream",
     "text": [
      "[1 0 0]\n",
      "5000\n",
      "[array([0, 1, 0]), array([0, 1, 1]), array([1, 0, 1]), array([0, 1, 0]), array([0, 1, 0]), array([1, 0, 0]), array([1, 0, 1]), array([1, 0, 1]), array([0, 1, 0]), array([0, 1, 0]), array([1, 1, 0]), array([1, 1, 0]), array([0, 1, 0]), array([0, 0, 1]), array([0, 0, 0]), array([0, 0, 0]), array([0, 1, 0]), array([0, 1, 0]), array([1, 0, 0]), array([0, 1, 0]), array([1, 0, 1]), array([1, 1, 0]), array([0, 0, 1]), array([1, 1, 0]), array([1, 0, 0]), array([0, 0, 1]), array([1, 1, 1]), array([1, 1, 0]), array([1, 0, 0]), array([0, 1, 0]), array([0, 0, 0]), array([1, 0, 1]), array([1, 1, 1]), array([1, 0, 1]), array([0, 1, 1]), array([1, 1, 1]), array([0, 1, 1]), array([1, 1, 1]), array([1, 0, 0]), array([1, 0, 0]), array([1, 0, 0]), array([0, 0, 0]), array([1, 1, 0]), array([1, 0, 1]), array([0, 1, 0]), array([0, 0, 0]), array([1, 0, 0]), array([0, 0, 1]), array([0, 1, 0]), array([0, 0, 0]), array([1, 0, 1]), array([0, 0, 0]), array([0, 1, 1]), array([0, 1, 1]), array([1, 1, 1]), array([0, 0, 0]), array([0, 1, 0]), array([0, 0, 1]), array([1, 0, 0]), array([1, 0, 1]), array([1, 1, 1]), array([1, 1, 1]), array([0, 0, 0]), array([1, 1, 0]), array([1, 0, 0]), array([0, 1, 0]), array([1, 0, 0]), array([0, 1, 1]), array([0, 1, 1]), array([1, 1, 0]), array([1, 1, 1]), array([1, 1, 0]), array([1, 1, 1]), array([0, 0, 1]), array([0, 1, 1]), array([0, 1, 0]), array([0, 0, 1]), array([1, 0, 0]), array([1, 0, 0]), array([0, 0, 1]), array([0, 0, 0]), array([1, 1, 0]), array([0, 0, 0]), array([1, 0, 0]), array([0, 1, 1]), array([0, 0, 0]), array([1, 1, 1]), array([1, 0, 0]), array([0, 0, 0]), array([0, 1, 1]), array([1, 1, 0]), array([0, 0, 1]), array([1, 0, 1]), array([1, 0, 1]), array([0, 1, 0]), array([1, 0, 1]), array([0, 0, 1]), array([0, 1, 1]), array([0, 0, 1]), array([0, 0, 0])]\n",
      "5000\n"
     ]
    }
   ],
   "source": [
    "\n",
    "seed = 7\n",
    "np.random.seed(seed)\n",
    "#exec(open('distribution/twopeak.py').read())\n",
    "exec(open('distribution/twopeak.py').read())\n",
    "#exec(open('distribution/normal.py').read())\n",
    "X_train,  X_test = train_test_split(value_list, test_size=0.5, random_state=seed)\n",
    "\n",
    "dataset_size = len(X_train)\n",
    "print(dataset_size)\n",
    "print(X_train[:100])\n",
    "print(len(X_test))\n",
    "#run_cs()\n"
   ]
  },
  {
   "cell_type": "code",
   "execution_count": 5,
   "metadata": {
    "ExecuteTime": {
     "end_time": "2021-02-26T07:13:58.807774Z",
     "start_time": "2021-02-26T07:13:58.799612Z"
    }
   },
   "outputs": [],
   "source": [
    "\n",
    "\n",
    "class Net(torch.nn.Module):\n",
    "    def __init__(self):\n",
    "\n",
    "        super(Net, self).__init__()\n",
    "        \n",
    "        num_input = Agent_number_n\n",
    "        num_hidden = 100\n",
    "        num_output = Agent_number_n\n",
    "        \n",
    "        self.hidden_0 = torch.nn.Linear(num_input, num_hidden)\n",
    "        self.hidden_1 = torch.nn.Linear(num_hidden, num_hidden)\n",
    "        self.hidden_2 = torch.nn.Linear(num_hidden, num_hidden)\n",
    "        self.hidden_3 = torch.nn.Linear(num_hidden, num_hidden)\n",
    "        self.output   = torch.nn.Linear(num_hidden, num_output)\n",
    "        \n",
    "        self.Parameter = torch.ones(Agent_number_n)\n",
    "        self.deadline = torch.nn.Parameter(self.Parameter, requires_grad=True).cuda() \n",
    "\n",
    "        \n",
    "        \n",
    "\n",
    "        \n",
    "    def forward(self, value_list):\n",
    "        \n",
    "        h1 = torch.relu_(self.hidden_0(self.Parameter.cuda()))\n",
    "        h2 = torch.relu_(self.hidden_1(h1))\n",
    "        h3 = torch.relu_(self.hidden_2(h2))\n",
    "        h4 = torch.relu_(self.hidden_3(h3))\n",
    "        h5 = self.output(h4)\n",
    "        deadline = torch.sigmoid(self.deadline)#h5)\n",
    "        #print(deadline)\n",
    "        #return \n",
    "        return torch.sum(deadline),deadline.cpu().data.numpy()\n",
    "\n"
   ]
  },
  {
   "cell_type": "code",
   "execution_count": 6,
   "metadata": {
    "ExecuteTime": {
     "end_time": "2021-02-26T07:13:58.812605Z",
     "start_time": "2021-02-26T07:13:58.808588Z"
    }
   },
   "outputs": [],
   "source": [
    "def weight_init(m):\n",
    "    if isinstance(m, torch.nn.Conv2d):\n",
    "        torch.nn.init.xavier_normal_(m.weight, gain=nn.init.calculate_gain('relu'))\n",
    "        torch.nn.init.zeros_(m.bias)\n",
    "    elif isinstance(m, torch.nn.Linear):\n",
    "        torch.nn.init.xavier_normal_(m.weight)\n",
    "        torch.nn.init.zeros_(m.bias)\n",
    "        "
   ]
  },
  {
   "cell_type": "code",
   "execution_count": 7,
   "metadata": {
    "ExecuteTime": {
     "end_time": "2021-02-26T07:14:00.086834Z",
     "start_time": "2021-02-26T07:13:58.813575Z"
    }
   },
   "outputs": [],
   "source": [
    "random.seed(2000)\n",
    "torch.manual_seed(256)\n",
    "net  = Net()\n",
    "#net.apply(weight_init)"
   ]
  },
  {
   "cell_type": "code",
   "execution_count": 8,
   "metadata": {
    "ExecuteTime": {
     "end_time": "2021-02-26T07:14:00.091820Z",
     "start_time": "2021-02-26T07:14:00.088829Z"
    }
   },
   "outputs": [],
   "source": [
    "#net = torch.load(\"Deep_learning_with_deadline_5\")\n"
   ]
  },
  {
   "cell_type": "code",
   "execution_count": 9,
   "metadata": {
    "ExecuteTime": {
     "end_time": "2021-02-26T07:14:00.101794Z",
     "start_time": "2021-02-26T07:14:00.093816Z"
    }
   },
   "outputs": [
    {
     "data": {
      "text/plain": [
       "Net(\n",
       "  (hidden_0): Linear(in_features=3, out_features=100, bias=True)\n",
       "  (hidden_1): Linear(in_features=100, out_features=100, bias=True)\n",
       "  (hidden_2): Linear(in_features=100, out_features=100, bias=True)\n",
       "  (hidden_3): Linear(in_features=100, out_features=100, bias=True)\n",
       "  (output): Linear(in_features=100, out_features=3, bias=True)\n",
       ")"
      ]
     },
     "execution_count": 9,
     "metadata": {},
     "output_type": "execute_result"
    }
   ],
   "source": [
    "net.to(dev)"
   ]
  },
  {
   "cell_type": "code",
   "execution_count": 10,
   "metadata": {
    "ExecuteTime": {
     "end_time": "2021-02-26T07:14:00.107779Z",
     "start_time": "2021-02-26T07:14:00.102791Z"
    }
   },
   "outputs": [],
   "source": [
    "\n",
    "#optimizer = opt.RMSprop(net.parameters(), lr=0.00001)\n",
    "#optimizer = opt.SGD(net.parameters(), lr=0.002)\n",
    "optimizer = opt.Adam(net.parameters(), lr=0.001)\n",
    "\n",
    "batch_size = 16\n",
    "echo = 10001"
   ]
  },
  {
   "cell_type": "code",
   "execution_count": 11,
   "metadata": {
    "ExecuteTime": {
     "end_time": "2021-02-26T07:14:23.779697Z",
     "start_time": "2021-02-26T07:14:00.109772Z"
    },
    "scrolled": true
   },
   "outputs": [
    {
     "name": "stdout",
     "output_type": "stream",
     "text": [
      "batch: 0.14  ，sum_average: 2.19\n",
      "value: [0 1 0]\n",
      "deadline: [0.7310586 0.7310586 0.7310586]\n",
      "\n",
      "batch: 0.14  ，sum_average: 2.19\n",
      "value: [1 0 0]\n",
      "deadline: [0.7310586 0.7310586 0.7310586]\n",
      "\n",
      "batch: 0.14  ，sum_average: 2.19\n",
      "value: [0 1 1]\n",
      "deadline: [0.7310586 0.7310586 0.7310586]\n",
      "\n",
      "batch: 0.14  ，sum_average: 2.19\n",
      "value: [0 0 0]\n",
      "deadline: [0.7310586 0.7310586 0.7310586]\n",
      "\n",
      "batch: 0.14  ，sum_average: 2.19\n",
      "value: [0 1 1]\n",
      "deadline: [0.7310586 0.7310586 0.7310586]\n",
      "\n",
      "batch: 0.14  ，sum_average: 2.19\n",
      "value: [0 1 0]\n",
      "deadline: [0.7310586 0.7310586 0.7310586]\n",
      "\n",
      "batch: 0.14  ，sum_average: 2.19\n",
      "value: [0 0 1]\n",
      "deadline: [0.7310586 0.7310586 0.7310586]\n",
      "\n",
      "batch: 0.14  ，sum_average: 2.19\n",
      "value: [0 1 0]\n",
      "deadline: [0.7310586 0.7310586 0.7310586]\n",
      "\n",
      "batch: 0.14  ，sum_average: 2.19\n",
      "value: [1 1 1]\n",
      "deadline: [0.7310586 0.7310586 0.7310586]\n",
      "\n",
      "batch: 0.14  ，sum_average: 2.19\n",
      "value: [0 0 1]\n",
      "deadline: [0.7310586 0.7310586 0.7310586]\n",
      "\n",
      "batch: 0.14  ，sum_average: 2.19\n",
      "value: [0 1 0]\n",
      "deadline: [0.7310586 0.7310586 0.7310586]\n",
      "\n",
      "batch: 0.14  ，sum_average: 2.19\n",
      "value: [1 1 1]\n",
      "deadline: [0.7310586 0.7310586 0.7310586]\n",
      "\n",
      "batch: 0.14  ，sum_average: 2.19\n",
      "value: [1 0 1]\n",
      "deadline: [0.7310586 0.7310586 0.7310586]\n",
      "\n",
      "batch: 0.14  ，sum_average: 2.19\n",
      "value: [1 0 1]\n",
      "deadline: [0.7310586 0.7310586 0.7310586]\n",
      "\n",
      "batch: 0.14  ，sum_average: 2.19\n",
      "value: [1 1 1]\n",
      "deadline: [0.7310586 0.7310586 0.7310586]\n",
      "\n",
      "batch: 0.14  ，sum_average: 2.19\n",
      "value: [0 1 1]\n",
      "deadline: [0.7310586 0.7310586 0.7310586]\n",
      "\n",
      "batch: 0.14  ，sum_average: 2.19\n",
      "value: [0 0 0]\n",
      "deadline: [0.7310586 0.7310586 0.7310586]\n",
      "\n",
      "batch: 0.14  ，sum_average: 2.19\n",
      "value: [1 0 1]\n",
      "deadline: [0.7310586 0.7310586 0.7310586]\n",
      "\n",
      "batch: 0.14  ，sum_average: 2.19\n",
      "value: [1 1 0]\n",
      "deadline: [0.7310586 0.7310586 0.7310586]\n",
      "\n",
      "batch: 0.14  ，sum_average: 2.19\n",
      "value: [0 0 0]\n",
      "deadline: [0.7310586 0.7310586 0.7310586]\n",
      "\n",
      "batch: 0.14  ，sum_average: 2.19\n",
      "value: [0 1 1]\n",
      "deadline: [0.7310586 0.7310586 0.7310586]\n",
      "\n",
      "batch: 0.14  ，sum_average: 2.19\n",
      "value: [1 0 1]\n",
      "deadline: [0.7310586 0.7310586 0.7310586]\n",
      "\n",
      "batch: 0.14  ，sum_average: 2.19\n",
      "value: [0 0 0]\n",
      "deadline: [0.7310586 0.7310586 0.7310586]\n",
      "\n",
      "batch: 0.14  ，sum_average: 2.19\n",
      "value: [1 1 0]\n",
      "deadline: [0.7310586 0.7310586 0.7310586]\n",
      "\n",
      "batch: 0.14  ，sum_average: 2.19\n",
      "value: [1 1 1]\n",
      "deadline: [0.7310586 0.7310586 0.7310586]\n",
      "\n",
      "batch: 0.14  ，sum_average: 2.19\n",
      "value: [1 0 1]\n",
      "deadline: [0.7310586 0.7310586 0.7310586]\n",
      "\n",
      "batch: 0.14  ，sum_average: 2.19\n",
      "value: [0 1 0]\n",
      "deadline: [0.7310586 0.7310586 0.7310586]\n",
      "\n",
      "batch: 0.14  ，sum_average: 2.19\n",
      "value: [1 0 1]\n",
      "deadline: [0.7310586 0.7310586 0.7310586]\n",
      "\n",
      "batch: 0.14  ，sum_average: 2.19\n",
      "value: [1 1 1]\n",
      "deadline: [0.7310586 0.7310586 0.7310586]\n",
      "\n",
      "batch: 0.14  ，sum_average: 2.19\n",
      "value: [0 1 0]\n",
      "deadline: [0.7310586 0.7310586 0.7310586]\n",
      "\n",
      "batch: 0.14  ，sum_average: 2.19\n",
      "value: [1 0 0]\n",
      "deadline: [0.7310586 0.7310586 0.7310586]\n",
      "\n",
      "batch: 0.14  ，sum_average: 2.19\n",
      "value: [1 0 0]\n",
      "deadline: [0.7310586 0.7310586 0.7310586]\n",
      "\n",
      "batch: 0.14  ，sum_average: 2.19\n",
      "value: [1 0 0]\n",
      "deadline: [0.7310586 0.7310586 0.7310586]\n",
      "\n",
      "batch: 0.14  ，sum_average: 2.19\n",
      "value: [0 0 0]\n",
      "deadline: [0.7310586 0.7310586 0.7310586]\n",
      "\n",
      "batch: 0.14  ，sum_average: 2.19\n",
      "value: [1 1 1]\n",
      "deadline: [0.7310586 0.7310586 0.7310586]\n",
      "\n",
      "batch: 0.14  ，sum_average: 2.19\n",
      "value: [1 1 1]\n",
      "deadline: [0.7310586 0.7310586 0.7310586]\n",
      "\n",
      "batch: 0.14  ，sum_average: 2.19\n",
      "value: [0 1 0]\n",
      "deadline: [0.7310586 0.7310586 0.7310586]\n",
      "\n",
      "batch: 0.14  ，sum_average: 2.19\n",
      "value: [0 0 1]\n",
      "deadline: [0.7310586 0.7310586 0.7310586]\n",
      "\n",
      "batch: 0.14  ，sum_average: 2.19\n",
      "value: [0 0 1]\n",
      "deadline: [0.7310586 0.7310586 0.7310586]\n",
      "\n",
      "batch: 0.14  ，sum_average: 2.19\n",
      "value: [1 0 0]\n",
      "deadline: [0.7310586 0.7310586 0.7310586]\n",
      "\n",
      "batch: 0.14  ，sum_average: 2.19\n",
      "value: [0 0 1]\n",
      "deadline: [0.7310586 0.7310586 0.7310586]\n",
      "\n",
      "batch: 0.14  ，sum_average: 2.19\n",
      "value: [0 1 0]\n",
      "deadline: [0.7310586 0.7310586 0.7310586]\n",
      "\n",
      "batch: 0.14  ，sum_average: 2.19\n",
      "value: [0 1 0]\n",
      "deadline: [0.7310586 0.7310586 0.7310586]\n",
      "\n",
      "batch: 0.14  ，sum_average: 2.19\n",
      "value: [1 0 0]\n",
      "deadline: [0.7310586 0.7310586 0.7310586]\n",
      "\n",
      "batch: 0.14  ，sum_average: 2.19\n",
      "value: [0 0 1]\n",
      "deadline: [0.7310586 0.7310586 0.7310586]\n",
      "\n",
      "batch: 0.14  ，sum_average: 2.19\n",
      "value: [0 0 1]\n",
      "deadline: [0.7310586 0.7310586 0.7310586]\n",
      "\n",
      "batch: 0.14  ，sum_average: 2.19\n",
      "value: [1 1 1]\n",
      "deadline: [0.7310586 0.7310586 0.7310586]\n",
      "\n",
      "batch: 0.14  ，sum_average: 2.19\n",
      "value: [1 0 0]\n",
      "deadline: [0.7310586 0.7310586 0.7310586]\n",
      "\n",
      "batch: 0.14  ，sum_average: 2.19\n",
      "value: [1 0 0]\n",
      "deadline: [0.7310586 0.7310586 0.7310586]\n",
      "\n",
      "batch: 0.14  ，sum_average: 2.19\n",
      "value: [0 1 0]\n",
      "deadline: [0.7310586 0.7310586 0.7310586]\n",
      "\n",
      "batch: 0.14  ，sum_average: 2.19\n",
      "value: [1 0 1]\n",
      "deadline: [0.7310586 0.7310586 0.7310586]\n",
      "\n"
     ]
    }
   ],
   "source": [
    "for i in range(int(echo)):\n",
    "\n",
    "    # offender_types = []\n",
    "    # defender_types = []\n",
    "    loss_sum = 0\n",
    "    denominator = 0\n",
    "    \"\"\"\n",
    "    for j in range(batch_size):\n",
    "        offender_types.append(random.randint(0, 400))\n",
    "        defender_types.append(random.randint(0, 15))\n",
    "    \"\"\"\n",
    "    X_train_list=[]\n",
    "    for j in range(batch_size):\n",
    "        index_random = random.randint(0,len(X_train)-1)\n",
    "        X_train_list.append(torch.from_numpy(X_train[index_random]).cuda().type(torch.float32))\n",
    "        denominator+=1\n",
    "        \n",
    "    h_delay_sum,deadline_R  = net(X_train_list)\n",
    "    loss_sum += h_delay_sum\n",
    "        \n",
    "        \n",
    "\n",
    "    optimizer.zero_grad()\n",
    "    #loss = torch.square(loss_function(loss_sum / denominator) + 52)\n",
    "    loss = loss_sum \n",
    "    #print(loss)\n",
    "    loss.backward()\n",
    "    optimizer.step()\n",
    "    \n",
    "    if i % 200 == 0:\n",
    "        loss_sum1=0\n",
    "        denominator1=0\n",
    "        for j in range(200):\n",
    "            index_random = random.randint(0,len(X_train)-1)\n",
    "            h_delay,deadline_R = net([X_test[index_random]])\n",
    "            loss_sum1 += float(h_delay)\n",
    "            denominator1 += 1\n",
    "        loss_average=float(loss_sum1 / denominator1)\n",
    "\n",
    "        print(\"batch: %.2f \" % float(loss_sum/denominator),'，sum_average: %.2f' % float(loss_average))\n",
    "        print(\"value:\" , X_train[index_random])\n",
    "        print(\"deadline:\" , deadline_R)\n",
    "        print()\n",
    "    "
   ]
  },
  {
   "cell_type": "code",
   "execution_count": 12,
   "metadata": {
    "ExecuteTime": {
     "end_time": "2021-02-26T07:14:23.785680Z",
     "start_time": "2021-02-26T07:14:23.780694Z"
    }
   },
   "outputs": [
    {
     "name": "stdout",
     "output_type": "stream",
     "text": [
      "batch: 0.14  ，sum_average: 2.19\n",
      "value: [1 0 1]\n",
      "deadline: [0.7310586 0.7310586 0.7310586]\n"
     ]
    }
   ],
   "source": [
    "print(\"batch: %.2f \" % float(loss_sum/denominator),'，sum_average: %.2f' % float(loss_average))\n",
    "print(\"value:\" , X_train[index_random])\n",
    "print(\"deadline:\" , deadline_R)\n",
    "\n",
    "    "
   ]
  },
  {
   "cell_type": "code",
   "execution_count": null,
   "metadata": {
    "ExecuteTime": {
     "end_time": "2021-01-28T02:57:33.387390Z",
     "start_time": "2021-01-28T02:52:12.117Z"
    }
   },
   "outputs": [],
   "source": []
  },
  {
   "cell_type": "code",
   "execution_count": 13,
   "metadata": {
    "ExecuteTime": {
     "end_time": "2021-02-26T07:14:23.790668Z",
     "start_time": "2021-02-26T07:14:23.786678Z"
    }
   },
   "outputs": [],
   "source": [
    "#torch.save(net, \"Deep_learning_with_deadline_5\")"
   ]
  },
  {
   "cell_type": "code",
   "execution_count": null,
   "metadata": {},
   "outputs": [],
   "source": []
  },
  {
   "cell_type": "code",
   "execution_count": null,
   "metadata": {},
   "outputs": [],
   "source": []
  },
  {
   "cell_type": "code",
   "execution_count": null,
   "metadata": {},
   "outputs": [],
   "source": []
  },
  {
   "cell_type": "code",
   "execution_count": null,
   "metadata": {},
   "outputs": [],
   "source": []
  }
 ],
 "metadata": {
  "kernelspec": {
   "display_name": "Python 3",
   "language": "python",
   "name": "python3"
  },
  "language_info": {
   "codemirror_mode": {
    "name": "ipython",
    "version": 3
   },
   "file_extension": ".py",
   "mimetype": "text/x-python",
   "name": "python",
   "nbconvert_exporter": "python",
   "pygments_lexer": "ipython3",
   "version": "3.8.3"
  },
  "toc": {
   "base_numbering": 1,
   "nav_menu": {},
   "number_sections": true,
   "sideBar": true,
   "skip_h1_title": false,
   "title_cell": "Table of Contents",
   "title_sidebar": "Contents",
   "toc_cell": false,
   "toc_position": {},
   "toc_section_display": true,
   "toc_window_display": false
  }
 },
 "nbformat": 4,
 "nbformat_minor": 4
}
